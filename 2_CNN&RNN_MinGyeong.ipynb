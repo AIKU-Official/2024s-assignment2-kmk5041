{
  "cells": [
    {
      "cell_type": "markdown",
      "metadata": {
        "id": "pq4StkI_HpXa"
      },
      "source": [
        "# Programming Assingnment2 - ResNet, LSTM Implementation\n",
        "안녕하세요 **AIKU 학회원 여러분!**, 두 번째 과제는 지난 주에 배웠던 CNN variant 중 하나인 ResNet, RNN의 발전된 형태인 LSTM을 구현하는 것입니다!\n",
        "\n",
        "모델을 2개나 재구현해야한다니.. 상당히 과제 덩치가 커보이실 수도 있지만, 수업 내용과 실습 내용을 쭉 따라오셨으면 쉽게 풀 수 있는 난이도로 제작하였으니 걱정하지 않으셔도 됩니다!\n",
        "\n",
        "이번 과제에서는 ResNet으로는 CIFAR-10 데이터셋을 이용한 이미지 classification, LSTM으로는 감정분석 task를 수행할 예정입니다. 네이버의 영화 리뷰 데이터를 모델의 입력으로 받아, 이 리뷰가 긍정적인지 부정적인지를 분류하는 task를 수행하는 LSTM 모델을 구현해 볼 예정입니다.\n",
        "\n",
        "\n",
        "또한, 모델만 재구현 하는 것이 아니라, DataLoader 구현 및 DataLoader를 위한 Dataset으로의 전처리 과정까지 함께 다룰 예정이니다.\n",
        "\n",
        "그럼 이제 시작해 볼까요?\n",
        "\n"
      ]
    },
    {
      "cell_type": "markdown",
      "metadata": {
        "id": "Y40RpHx8VP-i"
      },
      "source": [
        "# Part 1. ResNet\n"
      ]
    },
    {
      "cell_type": "markdown",
      "metadata": {
        "id": "yp62xrJJGtWK"
      },
      "source": [
        "## 1-1. 라이브러리 설치 및 불러오기\n",
        "ResNet 구현에 필요한 라이브러리를 설치 및 불러오는 과정입니다."
      ]
    },
    {
      "cell_type": "code",
      "execution_count": null,
      "metadata": {
        "colab": {
          "base_uri": "https://localhost:8080/"
        },
        "id": "_OBfx12nGssO",
        "outputId": "e0eedaa4-cf3e-4254-c4ad-f64640ea08f8"
      },
      "outputs": [
        {
          "output_type": "stream",
          "name": "stdout",
          "text": [
            "Collecting wget\n",
            "  Downloading wget-3.2.zip (10 kB)\n",
            "  Preparing metadata (setup.py) ... \u001b[?25l\u001b[?25hdone\n",
            "Building wheels for collected packages: wget\n",
            "  Building wheel for wget (setup.py) ... \u001b[?25l\u001b[?25hdone\n",
            "  Created wheel for wget: filename=wget-3.2-py3-none-any.whl size=9656 sha256=06b058096f33c92cb8b06a82f1c9f4a96748fb5ec337fdab0bb9d40fc9fac2b1\n",
            "  Stored in directory: /root/.cache/pip/wheels/8b/f1/7f/5c94f0a7a505ca1c81cd1d9208ae2064675d97582078e6c769\n",
            "Successfully built wget\n",
            "Installing collected packages: wget\n",
            "Successfully installed wget-3.2\n",
            "Requirement already satisfied: torch in /usr/local/lib/python3.10/dist-packages (2.3.1+cu121)\n",
            "Requirement already satisfied: torchaudio in /usr/local/lib/python3.10/dist-packages (2.3.1+cu121)\n",
            "Requirement already satisfied: torchvision in /usr/local/lib/python3.10/dist-packages (0.18.1+cu121)\n",
            "Requirement already satisfied: filelock in /usr/local/lib/python3.10/dist-packages (from torch) (3.15.4)\n",
            "Requirement already satisfied: typing-extensions>=4.8.0 in /usr/local/lib/python3.10/dist-packages (from torch) (4.12.2)\n",
            "Requirement already satisfied: sympy in /usr/local/lib/python3.10/dist-packages (from torch) (1.13.0)\n",
            "Requirement already satisfied: networkx in /usr/local/lib/python3.10/dist-packages (from torch) (3.3)\n",
            "Requirement already satisfied: jinja2 in /usr/local/lib/python3.10/dist-packages (from torch) (3.1.4)\n",
            "Requirement already satisfied: fsspec in /usr/local/lib/python3.10/dist-packages (from torch) (2023.6.0)\n",
            "Collecting nvidia-cuda-nvrtc-cu12==12.1.105 (from torch)\n",
            "  Using cached nvidia_cuda_nvrtc_cu12-12.1.105-py3-none-manylinux1_x86_64.whl (23.7 MB)\n",
            "Collecting nvidia-cuda-runtime-cu12==12.1.105 (from torch)\n",
            "  Using cached nvidia_cuda_runtime_cu12-12.1.105-py3-none-manylinux1_x86_64.whl (823 kB)\n",
            "Collecting nvidia-cuda-cupti-cu12==12.1.105 (from torch)\n",
            "  Using cached nvidia_cuda_cupti_cu12-12.1.105-py3-none-manylinux1_x86_64.whl (14.1 MB)\n",
            "Collecting nvidia-cudnn-cu12==8.9.2.26 (from torch)\n",
            "  Using cached nvidia_cudnn_cu12-8.9.2.26-py3-none-manylinux1_x86_64.whl (731.7 MB)\n",
            "Collecting nvidia-cublas-cu12==12.1.3.1 (from torch)\n",
            "  Using cached nvidia_cublas_cu12-12.1.3.1-py3-none-manylinux1_x86_64.whl (410.6 MB)\n",
            "Collecting nvidia-cufft-cu12==11.0.2.54 (from torch)\n",
            "  Using cached nvidia_cufft_cu12-11.0.2.54-py3-none-manylinux1_x86_64.whl (121.6 MB)\n",
            "Collecting nvidia-curand-cu12==10.3.2.106 (from torch)\n",
            "  Using cached nvidia_curand_cu12-10.3.2.106-py3-none-manylinux1_x86_64.whl (56.5 MB)\n",
            "Collecting nvidia-cusolver-cu12==11.4.5.107 (from torch)\n",
            "  Using cached nvidia_cusolver_cu12-11.4.5.107-py3-none-manylinux1_x86_64.whl (124.2 MB)\n",
            "Collecting nvidia-cusparse-cu12==12.1.0.106 (from torch)\n",
            "  Using cached nvidia_cusparse_cu12-12.1.0.106-py3-none-manylinux1_x86_64.whl (196.0 MB)\n",
            "Collecting nvidia-nccl-cu12==2.20.5 (from torch)\n",
            "  Using cached nvidia_nccl_cu12-2.20.5-py3-none-manylinux2014_x86_64.whl (176.2 MB)\n",
            "Collecting nvidia-nvtx-cu12==12.1.105 (from torch)\n",
            "  Using cached nvidia_nvtx_cu12-12.1.105-py3-none-manylinux1_x86_64.whl (99 kB)\n",
            "Requirement already satisfied: triton==2.3.1 in /usr/local/lib/python3.10/dist-packages (from torch) (2.3.1)\n",
            "Collecting nvidia-nvjitlink-cu12 (from nvidia-cusolver-cu12==11.4.5.107->torch)\n",
            "  Downloading nvidia_nvjitlink_cu12-12.5.82-py3-none-manylinux2014_x86_64.whl (21.3 MB)\n",
            "\u001b[2K     \u001b[90m━━━━━━━━━━━━━━━━━━━━━━━━━━━━━━━━━━━━━━━━\u001b[0m \u001b[32m21.3/21.3 MB\u001b[0m \u001b[31m37.1 MB/s\u001b[0m eta \u001b[36m0:00:00\u001b[0m\n",
            "\u001b[?25hRequirement already satisfied: numpy in /usr/local/lib/python3.10/dist-packages (from torchvision) (1.25.2)\n",
            "Requirement already satisfied: pillow!=8.3.*,>=5.3.0 in /usr/local/lib/python3.10/dist-packages (from torchvision) (9.4.0)\n",
            "Requirement already satisfied: MarkupSafe>=2.0 in /usr/local/lib/python3.10/dist-packages (from jinja2->torch) (2.1.5)\n",
            "Requirement already satisfied: mpmath<1.4,>=1.1.0 in /usr/local/lib/python3.10/dist-packages (from sympy->torch) (1.3.0)\n",
            "Installing collected packages: nvidia-nvtx-cu12, nvidia-nvjitlink-cu12, nvidia-nccl-cu12, nvidia-curand-cu12, nvidia-cufft-cu12, nvidia-cuda-runtime-cu12, nvidia-cuda-nvrtc-cu12, nvidia-cuda-cupti-cu12, nvidia-cublas-cu12, nvidia-cusparse-cu12, nvidia-cudnn-cu12, nvidia-cusolver-cu12\n",
            "Successfully installed nvidia-cublas-cu12-12.1.3.1 nvidia-cuda-cupti-cu12-12.1.105 nvidia-cuda-nvrtc-cu12-12.1.105 nvidia-cuda-runtime-cu12-12.1.105 nvidia-cudnn-cu12-8.9.2.26 nvidia-cufft-cu12-11.0.2.54 nvidia-curand-cu12-10.3.2.106 nvidia-cusolver-cu12-11.4.5.107 nvidia-cusparse-cu12-12.1.0.106 nvidia-nccl-cu12-2.20.5 nvidia-nvjitlink-cu12-12.5.82 nvidia-nvtx-cu12-12.1.105\n",
            "Requirement already satisfied: numpy in /usr/local/lib/python3.10/dist-packages (1.25.2)\n"
          ]
        }
      ],
      "source": [
        "!pip install wget\n",
        "!pip install torch torchaudio torchvision\n",
        "!pip install numpy"
      ]
    },
    {
      "cell_type": "code",
      "execution_count": 2,
      "metadata": {
        "id": "43e5ltg6Hqfq"
      },
      "outputs": [],
      "source": [
        "import torch\n",
        "import torchvision\n",
        "import torchvision.transforms as transforms\n",
        "import torch.nn as nn\n",
        "import torch.nn.functional as F\n",
        "import torch.optim as optim\n",
        "import matplotlib.pyplot as plt\n",
        "from torch.utils.data import Dataset, DataLoader\n",
        "\n",
        "import numpy as np\n",
        "import pickle\n",
        "import tarfile\n",
        "import os\n",
        "import matplotlib.pyplot as plt\n",
        "from tqdm import tqdm\n",
        "from PIL import Image"
      ]
    },
    {
      "cell_type": "markdown",
      "metadata": {
        "id": "WWcv4mVMHJaf"
      },
      "source": [
        "## 1-2. device 지정\n",
        "런타임에 활용할 device에 cpu 또는 cuda(GPU)를 할당할 것인지 지정하는 단계입니다.\n",
        "단, 구현 중에는 **CPU**로 사용을 권장드립니다!\n",
        "GPU가 가장 많이 필요한 단계는 학습하는 과정인데 구현하는 시간동안 colab의 GPU를 다 써버리면 막상 학습할 때 필요한 GPU 자원을 쓸 수 없게 됩니다. 따라서 코드를 모두 구현하고 train 코드가 잘 돌아가는지 확인한 뒤에 colab 상단 런타임 메뉴에서 런타임 유형을 GPU로 바꾼 뒤에 실행하면 됩니다."
      ]
    },
    {
      "cell_type": "code",
      "execution_count": 3,
      "metadata": {
        "colab": {
          "base_uri": "https://localhost:8080/"
        },
        "id": "E8m2Co9wHIkZ",
        "outputId": "7fdd527a-1e6e-41a9-e4c7-2fcb62bdc6f7"
      },
      "outputs": [
        {
          "output_type": "stream",
          "name": "stdout",
          "text": [
            "Using cuda device\n"
          ]
        }
      ],
      "source": [
        "device = 'cuda' if torch.cuda.is_available() else 'cpu'\n",
        "print(f'Using {device} device')"
      ]
    },
    {
      "cell_type": "markdown",
      "metadata": {
        "id": "eZ6V3WqEH0TA"
      },
      "source": [
        "## 1-3. Google Drive Mount\n",
        "Colab에서는 컴퓨터에 자원에 접근이 불가능 하므로 Google Drive에 파일을 올려 놓은 후 Google Drive를 mount 에서 로컬 디스크처럼 사용 합니다."
      ]
    },
    {
      "cell_type": "code",
      "execution_count": null,
      "metadata": {
        "colab": {
          "base_uri": "https://localhost:8080/",
          "height": 333
        },
        "id": "Gjg8pqPQH7JE",
        "outputId": "9ebfc206-210c-4de1-cfaf-fe5b827bfbcd"
      },
      "outputs": [
        {
          "output_type": "error",
          "ename": "ValueError",
          "evalue": "Mountpoint must not already contain files",
          "traceback": [
            "\u001b[0;31m---------------------------------------------------------------------------\u001b[0m",
            "\u001b[0;31mValueError\u001b[0m                                Traceback (most recent call last)",
            "\u001b[0;32m<ipython-input-30-42ad3ef0c598>\u001b[0m in \u001b[0;36m<cell line: 3>\u001b[0;34m()\u001b[0m\n\u001b[1;32m      1\u001b[0m \u001b[0;31m# 지난 과제에서도 했던 과정이기 때문에 똑같이 Google Drive를 Mount해주시면 됩니다.\u001b[0m\u001b[0;34m\u001b[0m\u001b[0;34m\u001b[0m\u001b[0m\n\u001b[1;32m      2\u001b[0m \u001b[0;32mfrom\u001b[0m \u001b[0mgoogle\u001b[0m\u001b[0;34m.\u001b[0m\u001b[0mcolab\u001b[0m \u001b[0;32mimport\u001b[0m \u001b[0mdrive\u001b[0m\u001b[0;34m\u001b[0m\u001b[0;34m\u001b[0m\u001b[0m\n\u001b[0;32m----> 3\u001b[0;31m \u001b[0mdrive\u001b[0m\u001b[0;34m.\u001b[0m\u001b[0mmount\u001b[0m\u001b[0;34m(\u001b[0m\u001b[0;34m'/content/drive'\u001b[0m\u001b[0;34m)\u001b[0m\u001b[0;34m\u001b[0m\u001b[0;34m\u001b[0m\u001b[0m\n\u001b[0m",
            "\u001b[0;32m/usr/local/lib/python3.10/dist-packages/google/colab/drive.py\u001b[0m in \u001b[0;36mmount\u001b[0;34m(mountpoint, force_remount, timeout_ms, readonly)\u001b[0m\n\u001b[1;32m     98\u001b[0m \u001b[0;32mdef\u001b[0m \u001b[0mmount\u001b[0m\u001b[0;34m(\u001b[0m\u001b[0mmountpoint\u001b[0m\u001b[0;34m,\u001b[0m \u001b[0mforce_remount\u001b[0m\u001b[0;34m=\u001b[0m\u001b[0;32mFalse\u001b[0m\u001b[0;34m,\u001b[0m \u001b[0mtimeout_ms\u001b[0m\u001b[0;34m=\u001b[0m\u001b[0;36m120000\u001b[0m\u001b[0;34m,\u001b[0m \u001b[0mreadonly\u001b[0m\u001b[0;34m=\u001b[0m\u001b[0;32mFalse\u001b[0m\u001b[0;34m)\u001b[0m\u001b[0;34m:\u001b[0m\u001b[0;34m\u001b[0m\u001b[0;34m\u001b[0m\u001b[0m\n\u001b[1;32m     99\u001b[0m   \u001b[0;34m\"\"\"Mount your Google Drive at the specified mountpoint path.\"\"\"\u001b[0m\u001b[0;34m\u001b[0m\u001b[0;34m\u001b[0m\u001b[0m\n\u001b[0;32m--> 100\u001b[0;31m   return _mount(\n\u001b[0m\u001b[1;32m    101\u001b[0m       \u001b[0mmountpoint\u001b[0m\u001b[0;34m,\u001b[0m\u001b[0;34m\u001b[0m\u001b[0;34m\u001b[0m\u001b[0m\n\u001b[1;32m    102\u001b[0m       \u001b[0mforce_remount\u001b[0m\u001b[0;34m=\u001b[0m\u001b[0mforce_remount\u001b[0m\u001b[0;34m,\u001b[0m\u001b[0;34m\u001b[0m\u001b[0;34m\u001b[0m\u001b[0m\n",
            "\u001b[0;32m/usr/local/lib/python3.10/dist-packages/google/colab/drive.py\u001b[0m in \u001b[0;36m_mount\u001b[0;34m(mountpoint, force_remount, timeout_ms, ephemeral, readonly)\u001b[0m\n\u001b[1;32m    193\u001b[0m       \u001b[0;32mraise\u001b[0m \u001b[0mValueError\u001b[0m\u001b[0;34m(\u001b[0m\u001b[0;34m'Mountpoint must not be a symlink'\u001b[0m\u001b[0;34m)\u001b[0m\u001b[0;34m\u001b[0m\u001b[0;34m\u001b[0m\u001b[0m\n\u001b[1;32m    194\u001b[0m     \u001b[0;32mif\u001b[0m \u001b[0m_os\u001b[0m\u001b[0;34m.\u001b[0m\u001b[0mpath\u001b[0m\u001b[0;34m.\u001b[0m\u001b[0misdir\u001b[0m\u001b[0;34m(\u001b[0m\u001b[0mmountpoint\u001b[0m\u001b[0;34m)\u001b[0m \u001b[0;32mand\u001b[0m \u001b[0m_os\u001b[0m\u001b[0;34m.\u001b[0m\u001b[0mlistdir\u001b[0m\u001b[0;34m(\u001b[0m\u001b[0mmountpoint\u001b[0m\u001b[0;34m)\u001b[0m\u001b[0;34m:\u001b[0m\u001b[0;34m\u001b[0m\u001b[0;34m\u001b[0m\u001b[0m\n\u001b[0;32m--> 195\u001b[0;31m       \u001b[0;32mraise\u001b[0m \u001b[0mValueError\u001b[0m\u001b[0;34m(\u001b[0m\u001b[0;34m'Mountpoint must not already contain files'\u001b[0m\u001b[0;34m)\u001b[0m\u001b[0;34m\u001b[0m\u001b[0;34m\u001b[0m\u001b[0m\n\u001b[0m\u001b[1;32m    196\u001b[0m     \u001b[0;32mif\u001b[0m \u001b[0;32mnot\u001b[0m \u001b[0m_os\u001b[0m\u001b[0;34m.\u001b[0m\u001b[0mpath\u001b[0m\u001b[0;34m.\u001b[0m\u001b[0misdir\u001b[0m\u001b[0;34m(\u001b[0m\u001b[0mmountpoint\u001b[0m\u001b[0;34m)\u001b[0m \u001b[0;32mand\u001b[0m \u001b[0m_os\u001b[0m\u001b[0;34m.\u001b[0m\u001b[0mpath\u001b[0m\u001b[0;34m.\u001b[0m\u001b[0mexists\u001b[0m\u001b[0;34m(\u001b[0m\u001b[0mmountpoint\u001b[0m\u001b[0;34m)\u001b[0m\u001b[0;34m:\u001b[0m\u001b[0;34m\u001b[0m\u001b[0;34m\u001b[0m\u001b[0m\n\u001b[1;32m    197\u001b[0m       \u001b[0;32mraise\u001b[0m \u001b[0mValueError\u001b[0m\u001b[0;34m(\u001b[0m\u001b[0;34m'Mountpoint must either be a directory or not exist'\u001b[0m\u001b[0;34m)\u001b[0m\u001b[0;34m\u001b[0m\u001b[0;34m\u001b[0m\u001b[0m\n",
            "\u001b[0;31mValueError\u001b[0m: Mountpoint must not already contain files"
          ]
        }
      ],
      "source": [
        "# 지난 과제에서도 했던 과정이기 때문에 똑같이 Google Drive를 Mount해주시면 됩니다.\n",
        "from google.colab import drive\n",
        "drive.mount('/content/drive')"
      ]
    },
    {
      "cell_type": "markdown",
      "metadata": {
        "id": "g08UK8tmKGie"
      },
      "source": [
        "## 1-4 CIFAR-10 데이터셋 다운로드\n",
        "이제 CIFAR-10 데이터셋을 다운로드 할 차례입니다! CIFAR-10은 (비행기, 자동차, 새, 고양이, 사슴, 개, 개구리, 말, 배, 트럭) 이렇게 10개 class로 구성이 되어있는 이미지 데이터셋입니다. train set 5만장, test set 1만장으로 구성되어 있으며, 각 이미지의 사이즈는 32*32입니다. 예전에 image recognition 관련 분야에서 항상 활용되었던 데이터셋입니다!\n",
        "\n",
        "먼저, 데이터셋을 다운 받아봅시다.\n",
        "아래 코드는 먼저 드라이브에 CIFAR-10 디렉토리를 생성하고, 생성한 디렉토리에 tar.gz 형식의 압축 파일을 다운 받는 역할을 합니다.\n",
        "\n",
        "**반드시 mount를 하고 진행해 주세요!**"
      ]
    },
    {
      "cell_type": "code",
      "execution_count": null,
      "metadata": {
        "colab": {
          "base_uri": "https://localhost:8080/"
        },
        "id": "w5JvI1KcIUFi",
        "outputId": "274d02cc-5adf-44f5-98ca-25dc63bd3980"
      },
      "outputs": [
        {
          "output_type": "stream",
          "name": "stdout",
          "text": [
            "--2024-07-23 19:23:22--  https://www.cs.toronto.edu/~kriz/cifar-10-python.tar.gz\n",
            "Resolving www.cs.toronto.edu (www.cs.toronto.edu)... 128.100.3.30\n",
            "Connecting to www.cs.toronto.edu (www.cs.toronto.edu)|128.100.3.30|:443... connected.\n",
            "HTTP request sent, awaiting response... 200 OK\n",
            "Length: 170498071 (163M) [application/x-gzip]\n",
            "Saving to: ‘/content/drive/MyDrive/CIFAR10/cifar-10-python.tar.gz’\n",
            "\n",
            "cifar-10-python.tar 100%[===================>] 162.60M  17.8MB/s    in 11s     \n",
            "\n",
            "2024-07-23 19:23:34 (15.3 MB/s) - ‘/content/drive/MyDrive/CIFAR10/cifar-10-python.tar.gz’ saved [170498071/170498071]\n",
            "\n"
          ]
        }
      ],
      "source": [
        "drive_path = '/content/drive/MyDrive/CIFAR10'\n",
        "os.makedirs(drive_path, exist_ok=True)\n",
        "\n",
        "!wget -P {drive_path} https://www.cs.toronto.edu/~kriz/cifar-10-python.tar.gz"
      ]
    },
    {
      "cell_type": "markdown",
      "metadata": {
        "id": "4U1VgTNeLPaA"
      },
      "source": [
        "정상적으로 파일을 다운로드했다면, 이제 파일을 압축 해제해 봅시다.\n",
        "아래 코드들 실행해 주세요.\n",
        "train, test 이미지들의 shape도 함께 보실 수 있습니다."
      ]
    },
    {
      "cell_type": "code",
      "execution_count": null,
      "metadata": {
        "colab": {
          "base_uri": "https://localhost:8080/"
        },
        "id": "lv46jzvp036Q",
        "outputId": "68b911bc-37cd-47da-dd6e-23bbf798b50e"
      },
      "outputs": [
        {
          "output_type": "stream",
          "name": "stdout",
          "text": [
            "cifar-10-batches-py/\n",
            "cifar-10-batches-py/data_batch_4\n",
            "cifar-10-batches-py/readme.html\n",
            "cifar-10-batches-py/test_batch\n",
            "cifar-10-batches-py/data_batch_3\n",
            "cifar-10-batches-py/batches.meta\n",
            "cifar-10-batches-py/data_batch_2\n",
            "cifar-10-batches-py/data_batch_5\n",
            "cifar-10-batches-py/data_batch_1\n"
          ]
        }
      ],
      "source": [
        "tar_gz_path = '/content/drive/MyDrive/CIFAR10/cifar-10-python.tar.gz'\n",
        "extract_path = '/content/drive/MyDrive/CIFAR10/'  # Define where you want to extract the files\n",
        "\n",
        "os.makedirs(extract_path, exist_ok=True)\n",
        "\n",
        "!tar -xzvf {tar_gz_path} -C {extract_path}"
      ]
    },
    {
      "cell_type": "code",
      "execution_count": null,
      "metadata": {
        "colab": {
          "base_uri": "https://localhost:8080/"
        },
        "id": "0J0aPu2VLZpx",
        "outputId": "3ec18cc6-7733-48ca-dad0-d9cb773504c8"
      },
      "outputs": [
        {
          "output_type": "stream",
          "name": "stdout",
          "text": [
            "Train_Data shape: (50000, 32, 32, 3)\n",
            "Train_Labels shape: 50000\n",
            "Test_Data shape: (10000, 32, 32, 3)\n",
            "Test_Labels shape: 10000\n"
          ]
        }
      ],
      "source": [
        "def load_cifar10_batch(file):\n",
        "    with open(file, 'rb') as fo:\n",
        "        dict = pickle.load(fo, encoding='bytes')\n",
        "    return dict\n",
        "\n",
        "cifar10_dir = '/content/drive/MyDrive/CIFAR10/cifar-10-batches-py/'\n",
        "cifar10_train_files = [os.path.join(cifar10_dir, f\"data_batch_{i}\") for i in range(1, 6)]\n",
        "\n",
        "def load_all_cifar10_batches(dirs):\n",
        "    data_list = []\n",
        "    labels_list = []\n",
        "    for dir in dirs:\n",
        "        batch = load_cifar10_batch(dir)\n",
        "        data_list.append(batch[b'data'])\n",
        "        labels_list.append(batch[b'labels'])\n",
        "\n",
        "    data = np.concatenate(data_list)\n",
        "    labels = np.concatenate(labels_list)\n",
        "\n",
        "    return data, labels\n",
        "\n",
        "# train, test 이미지 및 라벨들 불러오기\n",
        "train_img, train_labels = load_all_cifar10_batches(cifar10_train_files)\n",
        "test_img, test_labels = load_all_cifar10_batches(['/content/drive/MyDrive/CIFAR10/cifar-10-batches-py/test_batch'])\n",
        "\n",
        "# data reshaping\n",
        "train_img = train_img.reshape((len(train_img), 3, 32, 32)).transpose(0, 2, 3, 1)\n",
        "test_img = test_img.reshape((len(test_img), 3, 32, 32)).transpose(0, 2, 3, 1)\n",
        "\n",
        "print(f\"Train_Data shape: {train_img.shape}\")\n",
        "print(f\"Train_Labels shape: {len(train_labels)}\")\n",
        "\n",
        "print(f\"Test_Data shape: {test_img.shape}\")\n",
        "print(f\"Test_Labels shape: {len(test_labels)}\")"
      ]
    },
    {
      "cell_type": "markdown",
      "metadata": {
        "id": "mz6UtsqTNwJk"
      },
      "source": [
        "위의 코드가 정상적으로 모두 실행이 되었다면, CIFAR-10 데이터셋 몇 개를 한번 봐 봅시다! 아래 코드를 실행해주세요."
      ]
    },
    {
      "cell_type": "code",
      "execution_count": null,
      "metadata": {
        "colab": {
          "base_uri": "https://localhost:8080/",
          "height": 348
        },
        "id": "RMVhYTHKN5d9",
        "outputId": "de2e6322-f430-473d-aa05-b0ce0fb7c343"
      },
      "outputs": [
        {
          "output_type": "display_data",
          "data": {
            "text/plain": [
              "<Figure size 1000x1000 with 10 Axes>"
            ],
            "image/png": "[encoded data removed]"
          },
          "metadata": {}
        }
      ],
      "source": [
        "def show_images(images, labels, class_names, num_images=10):\n",
        "    plt.figure(figsize=(10, 10))\n",
        "    for i in range(num_images):\n",
        "        plt.subplot(5, 5, i+1)\n",
        "        plt.xticks([])\n",
        "        plt.yticks([])\n",
        "        plt.grid(False)\n",
        "        plt.imshow(images[i])\n",
        "        plt.xlabel(class_names[labels[i]])\n",
        "    plt.show()\n",
        "\n",
        "class_names = ['airplane', 'automobile', 'bird', 'cat', 'deer', 'dog', 'frog', 'horse', 'ship', 'truck']\n",
        "\n",
        "show_images(train_img, train_labels, class_names)"
      ]
    },
    {
      "cell_type": "markdown",
      "metadata": {
        "id": "ROYoaSdYVEJX"
      },
      "source": [
        "## 1-5 Dataset & DataLoader\n",
        "이제 학습, 테스트 데이터셋도 다 불러왔으니, 전처리를 해야겠죠? 이번 단계에서는 torch.utils.data 아래에 있는 Dataset, DataLoader를 사용해보는 시간을 가질 것입니다. DataLoader는 수업 시간에 배운 batch inference를 가능하게 해주는 기능을 하며, DataLoader는 Dataset 형식을 input으로 받습니다. 그래서 거의 대부분의 전처리를, 데이터셋을 Dataset 형식으로 바꾸어 주는 과정에서 해주시면 됩니다! 모델은 tensor 형식의 입력을 요구하기 때문에, 이 과정에서 텐서로의 형변환도 해주면 더욱 좋겠죠?\n",
        "\n",
        "그럼 먼저, Dataset으로의 변환부터 진행해 봅시다.\n",
        "\n",
        "Dataset으로의 변환은 주로 class를 사용해서 이루어집니다. 이 class는 torch.utils.data 아래의 Dataset을 상속받으며, \\_\\_len\\_\\_ 메소드와 \\_\\_getitem\\_\\_  메소드를 필수적으로 요구합니다. 우리가 직접 사용할 것은 아니고, 나중에 DataLoader가 사용할 것입니다. \\_\\_len\\_\\_ 메소드는 이름과 같이 전처리 하고자 하는 데이터셋의 전체 길이(갯수)를 반환하며, \\_\\_getitem\\_\\_은 인덱스로 데이터셋의 특정 부분을 반환하는 메소드입니다.\n",
        "\n",
        "\n",
        "때로는 torchvision의 transforms를 활용하여, input에 변형을 가하거나, 일괄적인 형변환 및 정규화를 진행하기도 합니다. 원본 이미지 input에 변형을 가하는 이유는, 변형으로 인해 이미지의 특정한 feature가 손상되어도, 손상되지 않은 다른 feature를 통해 정확한 예측을 하도록 유도할 수 있어 더 robust한 모델을 만들 수 있기 때문입니다! 쉽게 말해서, 더 어려운 문제인 \"기출변형\"을 모델에게 학습시키는 것으로 생각하시면 됩니다. 사람마다 어떻게 활용하는지는 다 다를 수 있지만, 이번에는 \\_\\_getitem\\_\\_ 내부에서 적용해줍시다!\n",
        "\n",
        "Dataset, Dataloader를 보다 자세히 알고 싶으시다면, pytorch 공식 튜토리얼을 참고해 주세요:\n",
        "https://tutorials.pytorch.kr/beginner/basics/data_tutorial.html\n"
      ]
    },
    {
      "cell_type": "markdown",
      "metadata": {
        "id": "wA28447kc173"
      },
      "source": [
        "### 문제 1. CIFAR10Dataset 구현"
      ]
    },
    {
      "cell_type": "code",
      "execution_count": null,
      "metadata": {
        "id": "FpYL0OPUVDbx"
      },
      "outputs": [],
      "source": [
        "class CIFAR10Dataset(Dataset):\n",
        "    def __init__(self, image, labels, transform=None):\n",
        "        self.img = image\n",
        "        self.labels = labels\n",
        "        self.transform = transform\n",
        "\n",
        "    def __len__(self):\n",
        "      ###############################################\n",
        "      #####TODO: __len__ 메소드를 구현해 주세요 #####\n",
        "      ###############################################\n",
        "        return len(self.img)\n",
        "\n",
        "    def __getitem__(self, idx):\n",
        "      ###############################################\n",
        "      ###TODO: __getitem__ 메소드를 구현해 주세요 ###\n",
        "      ###############################################\n",
        "      image = Image.fromarray(self.img[idx])\n",
        "      label=self.labels[idx]\n",
        "\n",
        "\n",
        "          ###############################################\n",
        "          ###TODO: transforms를 적용해봅시다          ###\n",
        "          ###############################################\n",
        "      if self.transform:\n",
        "           image = self.transform(image)  # Apply transformations\n",
        "      # Convert label to tensor\n",
        "\n",
        "      return image, label\n",
        "\n",
        "        #label=self.labels[idx]"
      ]
    },
    {
      "cell_type": "markdown",
      "metadata": {
        "id": "lnsWjTpLWpS-"
      },
      "source": [
        "이제 transforms를 선언하고, 이를 통해 train_dataset, test_dataset을 모두 Dataset으로 전처리해줍시다!\n",
        "transforms_train에 더 많은 transforms를 적용하셔도 좋습니다!\n",
        "\n",
        "\n",
        "transforms에 대한 더 많은 정보는 해당 링크들을 참조해 주세요:<br>\n",
        "https://pytorch.org/vision/0.9/transforms.html<br>\n",
        "https://tutorials.pytorch.kr/beginner/basics/transforms_tutorial.html"
      ]
    },
    {
      "cell_type": "code",
      "execution_count": null,
      "metadata": {
        "id": "tjXvm13gbUex"
      },
      "outputs": [],
      "source": [
        "transform_train = transforms.Compose([\n",
        "    transforms.RandomCrop(32, padding=4),\n",
        "    transforms.RandomHorizontalFlip(),\n",
        "    transforms.ToTensor(),\n",
        "    transforms.Normalize((0.4914, 0.4822, 0.4465), (0.2023, 0.1994, 0.2010)),\n",
        "])\n",
        "\n",
        "transform_test = transforms.Compose([\n",
        "    transforms.ToTensor(),\n",
        "    transforms.Normalize((0.4914, 0.4822, 0.4465), (0.2023, 0.1994, 0.2010)),\n",
        "])\n",
        "\n",
        "\n",
        "train_dataset = CIFAR10Dataset(train_img, train_labels, transform=transform_train)\n",
        "test_dataset = CIFAR10Dataset(test_img, test_labels, transform=transform_test)"
      ]
    },
    {
      "cell_type": "markdown",
      "metadata": {
        "id": "LjTEOTUuc8_k"
      },
      "source": [
        "#### 문제 2. transform_train에는 transform_test에 비해 더 많은 transform 기법들이 적용되어 있습니다. 왜 transform_test에는 텐서로의 형변환과 정규화 과정만 포함되어 있을까요? 이 외에 다른 transforms를 transform_test에 적용해도 될까요? 자유롭게 생각을 기술해 주세요"
      ]
    },
    {
      "cell_type": "markdown",
      "metadata": {
        "id": "jH0STvOIdYkb"
      },
      "source": [
        "답:테스트 데이터에 과도한 변형을 주면 모델 성능평가의 일관성을 잃을 수 있기 때문이다. 또, 테스트를 하는 중요한 이유 중 하나가 과적합 여부를 확인하는 것인데 이를 위해서는 테스트 데이터가 기존의 데이터로부터 과도하게 변형되지 않은 일관적이고 일반적인 데이터여야 한다."
      ]
    },
    {
      "cell_type": "markdown",
      "metadata": {
        "id": "ARsqz6oGpqUY"
      },
      "source": [
        "거의 마지막입니다. train dataset을 이제 train data과 validation data로 나누어 줍시다. 주로 8 : 2 의 비율로 나누어 줍니다."
      ]
    },
    {
      "cell_type": "code",
      "execution_count": null,
      "metadata": {
        "id": "tQFm6MSnp3zu"
      },
      "outputs": [],
      "source": [
        "def train_val_split(dataset, ratio):\n",
        "    train_size = int(ratio * len(dataset))\n",
        "    val_size = len(dataset) - train_size\n",
        "    train_dataset, val_dataset = torch.utils.data.random_split(dataset, [train_size, val_size])\n",
        "    return train_dataset, val_dataset\n",
        "\n",
        "train_dataset, val_dataset = train_val_split(train_dataset, 0.8)"
      ]
    },
    {
      "cell_type": "markdown",
      "metadata": {
        "id": "-p_1KFxrkMTb"
      },
      "source": [
        "이제 Dataset으로의 전처리가 끝난 만큼, DataLoader를 만들어 줍시다.\n",
        "아래 코드를 실행하여, train, validation, test dataset에 대한 loader를 선언해 주세요.\n",
        "\n",
        "train_loader에만 shuffle을 해주는 이유는, 학습 시 매 epoch마다 데이터셋의 학습 순서를 바꾸어 주어, 모델이 학습 데이터셋의 \"순서\"를 활용하여 예측하는 것을 방지하기 위함입니다. validation, test 시에는 학습을 진행하지 않기에 shuffle을 할 필요가 없습니다.\n",
        "\n",
        "batch_size는 한 iteration마다 몇 개의 데이터 샘플을 모델에 입력으로 넣을 것인지 선언해 주는 argument입니다 (batch의 크기). batch size가 클 수록 빠르게 학습을 진행할 수 있어, 메모리가 부족하지 않는 이상 DataLoader를 활용하는 것이 효율적입니다."
      ]
    },
    {
      "cell_type": "code",
      "execution_count": null,
      "metadata": {
        "id": "QvYvMdkEkLQk"
      },
      "outputs": [],
      "source": [
        "train_loader = DataLoader(train_dataset, batch_size=64, shuffle=True)\n",
        "val_loader = DataLoader(train_dataset, batch_size=64, shuffle=False)\n",
        "test_loader = DataLoader(test_dataset, batch_size=16, shuffle=False)"
      ]
    },
    {
      "cell_type": "markdown",
      "metadata": {
        "id": "GoyzehqwixDv"
      },
      "source": [
        "## 1-6 ResNet 구현!\n",
        "이제 모든 준비를 마쳤으니, ResNet을 구현해 봅시다!\n",
        "ResNet은 ResNet-18, 50 등등 모델 크기에 따라 여러 종류가 있지만, 여기에서는 ResNet-18을 재구현하도록 하겠습니다.\n",
        "\n",
        "ResNet은 VGG와 비슷하게, residual connection을 가지고 있는 여러 개의 residual block들로 구성이 되어 있습니다. 그 구조는 아래 그림과 같습니다:\n",
        "<br>\n",
        "![resnet.png](data:image/png;base64,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)\n",
        "\n",
        "residual block의 input shape과 output shape이 같은 경우에는 왼쪽의 residual block을, 다른 경우에는 오른쪽의 $1 \\times 1$ convolution을 통해 input shape을 output shape에 맞추어 줍니다. 이 경우엔, 첫 번째 convoultion layer부터 out_channels를 output shape에 맞추어 주시면 됩니다!\n",
        "\n",
        "이렇게 residual block을 쌓아올린 ResNet-18의 전체 구조는 다음과 같습니다:![resnet architecture.png](data:image/png;base64,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)\n",
        "\n",
        "residual connection을 가지고 있는 각 블록을 하나의 residual block으로 보시면 됩니다! 예를 들어, block_b는 2개의 residual block으로 구성되어 있는 것입니다.\n",
        "block c, d, e의 첫 레이어에 보면 '/2'가 있을 것입니다. 이는 stride=2를 나타내며, 해당 레이어에서만 입력과 출력의 shape 차이가 발생합니다.\n",
        "<br>block들 간의 batch normalization, activation이 해당 그림에서는 생략되어 있습니다. 피피티의 그림과 함께 보시면 이해에 도움이 될 것입니다!\n",
        "\n",
        "저희는 구현의 편리함을 위해, 두 개의 residual block을 하나의 클래스로 합쳐서 구현할 것입니다. 그러면 나중에 block a부터 끝까지 쌓아 올릴 때, block_b = ResidualBlock()처럼, 조금 더 간편하게 구현할 수 있겠죠? 이제 시작해 봅시다!"
      ]
    },
    {
      "cell_type": "markdown",
      "metadata": {
        "id": "hhjS9exNiChD"
      },
      "source": [
        "### 문제 3. 아래 class의 빈칸을 채워주세요. 위의 그림과 피피티에서의 그림을 모두 참고하시면 됩니다!"
      ]
    },
    {
      "cell_type": "code",
      "execution_count": null,
      "metadata": {
        "id": "szrjhcIshz3j"
      },
      "outputs": [],
      "source": [
        "class ResidualBlock(nn.Module):\n",
        "    def __init__(self,  in_channels, out_channels, strides=1, use_1conv=True):\n",
        "        super().__init__()\n",
        "        self.use_1conv = use_1conv\n",
        "\n",
        "        self.block1 = nn.Sequential(\n",
        "          ##################################################\n",
        "          ## TODO: 첫 번째 residual block을 구현해 주세요 ##\n",
        "          ##################################################\n",
        "          nn.Conv2d(in_channels, out_channels, (3,3),stride=strides, padding=1, bias=False),\n",
        "          nn.BatchNorm2d(out_channels),\n",
        "          nn.ReLU(inplace=True),\n",
        "          nn.Conv2d(out_channels, out_channels, (3,3),stride=1, padding=1, bias=False),\n",
        "          nn.BatchNorm2d(out_channels)\n",
        "        )\n",
        "        self.block2 = nn.Sequential(\n",
        "          ##################################################\n",
        "          ## TODO: 두 번째 residual block을 구현해 주세요 ##\n",
        "          ##################################################\n",
        "          nn.Conv2d(out_channels, out_channels, (3,3),stride=1,padding=1, bias=False),\n",
        "          nn.BatchNorm2d(out_channels),\n",
        "          nn.ReLU(inplace=True),\n",
        "          nn.Conv2d(out_channels, out_channels, (3,3),stride=1,padding=1, bias=False),\n",
        "          nn.BatchNorm2d(out_channels)\n",
        "        )\n",
        "        self.conv = nn.Sequential(\n",
        "            nn.Conv2d(in_channels, out_channels, kernel_size=1, stride=strides, bias=False),\n",
        "            nn.BatchNorm2d(out_channels)\n",
        "            )if use_1conv else nn.Identity()#1*1 convolution을 구현해 주세요 ###\n",
        "\n",
        "    def forward(self, x):\n",
        "      ######################################################################################\n",
        "      ### TODO: model의 forward를 구현해 주세요. residual connection을 여기에 만들어 주세요 ###\n",
        "      #####################################################################################\n",
        "\n",
        "      out1 = self.block1(x)\n",
        "      res = self.conv(x)\n",
        "      out1 += res\n",
        "      out2 = self.block2(out1)\n",
        "      out2 += out1\n",
        "      return F.relu(out2)\n",
        "\n",
        "class ResNet(nn.Module):\n",
        "    def __init__(self, output_class, use_1conv=True):\n",
        "        super().__init__()\n",
        "          #################################\n",
        "          ## TODO block들을 구현해 주세요 ##\n",
        "          #################################\n",
        "\n",
        "        self.block_a = nn.Sequential(\n",
        "            #############################\n",
        "            ########## TODO:#############\n",
        "            #############################\n",
        "            nn.Conv2d(3,64,(7,7), stride=2, padding=3, bias=False),\n",
        "            nn.BatchNorm2d(64) ,\n",
        "            nn.ReLU(inplace=True),\n",
        "            nn.MaxPool2d((3,3), stride=2, padding=1)\n",
        "\n",
        "        )\n",
        "\n",
        "        self.block_b = ResidualBlock(in_channels=64, out_channels=64, use_1conv=False)\n",
        "        self.block_c = ResidualBlock(in_channels=64, out_channels=128, strides=2, use_1conv=True)\n",
        "        self.block_d = ResidualBlock(in_channels=128, out_channels=256, strides=2, use_1conv=True)\n",
        "        self.block_e = ResidualBlock(in_channels=256, out_channels=512, strides=2, use_1conv=True)\n",
        "\n",
        "\n",
        "        self.avgpool = nn.AdaptiveAvgPool2d((1, 1))\n",
        "        self.final_layer = nn.Linear(512, output_class)\n",
        "            #############################\n",
        "            ########## TODO #############\n",
        "            #############################\n",
        "\n",
        "\n",
        "    def forward(self, x):\n",
        "      ###############################################\n",
        "      ## TODO: Model의 forward pass를 구현해 주세요##\n",
        "      ###############################################\n",
        "      x=self.block_a(x)\n",
        "      x=self.block_b(x)\n",
        "      x=self.block_c(x)\n",
        "      x=self.block_d(x)\n",
        "      x=self.block_e(x)\n",
        "      x=self.avgpool(x)\n",
        "      x = torch.flatten(x, 1)\n",
        "      x=self.final_layer(x)\n",
        "      return(x)"
      ]
    },
    {
      "cell_type": "markdown",
      "metadata": {
        "id": "FbCBtWWVjhgc"
      },
      "source": [
        "## 1.7 모델 학습\n",
        "이제 모델을 학습시켜 봅시다! 먼저 모델 학습 전에, loss와 optimizer, learning rate, learning rate scheduler, 그리고 epoch 수를 지정해 줍시다.\n",
        "\n",
        "learning rate scheduler는 학습률을 학습이 진행됨에 따라 조정하는 역할을 합니다. 학습이 진행될수록, minima에 도달할 확률이 높아지기 때문에, minima를 찾기 위해서 학습률을 작게 조정하는 것은 도움이 되겠죠?\n",
        "\n",
        "loss는 Cross Entropy Loss를 사용해 주시되, optimizer와 epoch 수, 학습률 및 스케쥴러는 자유롭게 바꾸셔도 괜찮습니다.\n",
        "더 많은 정보는 다음 링크를 참조해 주세요:\n",
        "<br>\n",
        "https://pytorch.org/docs/stable/optim.html\n",
        "<br>\n",
        "https://sanghyu.tistory.com/113\n",
        "<br>\n",
        "https://github.com/kuangliu/pytorch-cifar\n"
      ]
    },
    {
      "cell_type": "code",
      "execution_count": null,
      "metadata": {
        "id": "UCXIG716mXQE"
      },
      "outputs": [],
      "source": [
        "learning_rate=0.01\n",
        "\n",
        "model = ResNet(output_class=10).to(device)\n",
        "criterion = nn.CrossEntropyLoss()\n",
        "optimizer = optim.SGD(model.parameters(), lr=learning_rate, momentum=0.9, weight_decay=5e-4)\n",
        "scheduler = optim.lr_scheduler.StepLR(optimizer, step_size=30, gamma=0.1)\n",
        "epoch = 60"
      ]
    },
    {
      "cell_type": "markdown",
      "metadata": {
        "id": "n-MuMJpooInM"
      },
      "source": [
        "### 문제 4. Training 함수를 구현해 주세요"
      ]
    },
    {
      "cell_type": "code",
      "execution_count": null,
      "metadata": {
        "id": "NsyvreUhoQaF"
      },
      "outputs": [],
      "source": [
        "from tqdm import tqdm\n",
        "\n",
        "def train_model(train_dataset, val_dataset, model, criterion, optimizer, scheduler, num_epochs=10):\n",
        "    train_loss_history = []\n",
        "    val_loss_history = []\n",
        "    train_acc_history = []\n",
        "    val_acc_history = []\n",
        "\n",
        "    for epoch in range(num_epochs):\n",
        "        model.train()\n",
        "        running_loss = 0.0\n",
        "        correct = 0\n",
        "        total = 0\n",
        "\n",
        "        # DataLoader에서 튜플 형태로 (inputs, labels)를 반환하도록 수정\n",
        "        for i, (inputs, labels) in tqdm(enumerate(train_dataset, 0), total=len(train_dataset), desc=f\"Epoch {epoch+1}\"):  # 수정됨\n",
        "            inputs, labels = inputs.to(device), labels.to(device)\n",
        "            optimizer.zero_grad()  # Zero the parameter gradients\n",
        "            outputs = model(inputs)  # Forward pass\n",
        "            loss = criterion(outputs, labels)  # Compute loss\n",
        "            loss.backward()  # Backward pass\n",
        "            optimizer.step()  # Update weights\n",
        "\n",
        "            running_loss += loss.item() * inputs.size(0)\n",
        "            _, predicted = torch.max(outputs.data, 1)\n",
        "            total += labels.size(0)\n",
        "            correct += (predicted == labels).sum().item()\n",
        "\n",
        "        # 데이터셋 전체 크기로 평균 손실을 계산하기 위해 dataset 속성 사용  # 수정됨\n",
        "        train_loss = running_loss / len(train_dataset.dataset)  # 수정됨\n",
        "        train_acc = 100 * correct / total\n",
        "        train_loss_history.append(train_loss)\n",
        "        train_acc_history.append(train_acc)\n",
        "        print(train_loss_history, train_acc_history)\n",
        "        print(f'Epoch [{epoch+1}/{num_epochs}], Train Loss: {train_loss:.4f}, Train Acc: {train_acc:.2f}%')\n",
        "\n",
        "        # Validation phase\n",
        "        model.eval()\n",
        "        val_loss = 0.0\n",
        "        val_correct = 0\n",
        "        val_total = 0\n",
        "        with torch.no_grad():\n",
        "            # DataLoader에서 튜플 형태로 (inputs, labels)를 반환하도록 수정\n",
        "            for i, (inputs, labels) in enumerate(val_dataset, 0):  # 수정됨\n",
        "                inputs, labels = inputs.to(device), labels.to(device)\n",
        "                outputs = model(inputs)  # Forward pass\n",
        "                loss = criterion(outputs, labels)  # Compute loss\n",
        "\n",
        "                val_loss += loss.item() * inputs.size(0)\n",
        "                _, predicted = torch.max(outputs.data, 1)\n",
        "                val_total += labels.size(0)\n",
        "                val_correct += (predicted == labels).sum().item()\n",
        "\n",
        "        # 데이터셋 전체 크기로 평균 손실을 계산하기 위해 dataset 속성 사용  # 수정됨\n",
        "        val_loss /= len(val_dataset.dataset)  # 수정됨\n",
        "        val_acc = 100 * val_correct / val_total\n",
        "        val_loss_history.append(val_loss)\n",
        "        val_acc_history.append(val_acc)\n",
        "\n",
        "        scheduler.step()\n",
        "        print(f'Epoch [{epoch+1}/{num_epochs}], Val Loss: {val_loss:.4f}, Val Acc: {val_acc:.2f}%')\n",
        "\n",
        "    return train_loss_history, val_loss_history, train_acc_history, val_acc_history\n",
        "\n",
        "def test_model(test_dataset, model, criterion, optimizer):\n",
        "    model.eval()\n",
        "    test_correct = 0\n",
        "    test_total = 0\n",
        "    with torch.no_grad():\n",
        "        # DataLoader에서 튜플 형태로 (inputs, labels)를 반환하도록 수정\n",
        "        for inputs, labels in test_dataset:  # 수정됨\n",
        "            inputs, labels = inputs.to(device), labels.to(device)\n",
        "            outputs = model(inputs)\n",
        "            _, predicted = torch.max(outputs.data, 1)\n",
        "            test_total += labels.size(0)\n",
        "            test_correct += (predicted == labels).sum().item()\n",
        "\n",
        "    test_acc = 100 * test_correct / test_total\n",
        "    print(f'Test Accuracy: {test_acc:.2f}%')"
      ]
    },
    {
      "cell_type": "markdown",
      "metadata": {
        "id": "1pGV9EkAq_0v"
      },
      "source": [
        "### 학습을 진행해 봅시다!"
      ]
    },
    {
      "cell_type": "code",
      "execution_count": null,
      "metadata": {
        "colab": {
          "base_uri": "https://localhost:8080/"
        },
        "id": "22eaBbamrCtz",
        "outputId": "2181b4ee-efcf-4ddb-f1e0-a1f9b87da93e"
      },
      "outputs": [
        {
          "metadata": {
            "tags": null
          },
          "name": "stderr",
          "output_type": "stream",
          "text": [
            "Epoch 1: 100%|██████████| 625/625 [00:32<00:00, 19.29it/s]\n"
          ]
        },
        {
          "metadata": {
            "tags": null
          },
          "name": "stdout",
          "output_type": "stream",
          "text": [
            "[1.6726417638778686] [39.5825]\n",
            "Epoch [1/60], Train Loss: 1.6726, Train Acc: 39.58%\n",
            "Epoch [1/60], Val Loss: 1.4161, Val Acc: 48.42%\n"
          ]
        },
        {
          "metadata": {
            "tags": null
          },
          "name": "stderr",
          "output_type": "stream",
          "text": [
            "Epoch 2: 100%|██████████| 625/625 [00:31<00:00, 19.79it/s]\n"
          ]
        },
        {
          "metadata": {
            "tags": null
          },
          "name": "stdout",
          "output_type": "stream",
          "text": [
            "[1.6726417638778686, 1.3180956398010253] [39.5825, 52.5625]\n",
            "Epoch [2/60], Train Loss: 1.3181, Train Acc: 52.56%\n",
            "Epoch [2/60], Val Loss: 1.2264, Val Acc: 55.54%\n"
          ]
        },
        {
          "metadata": {
            "tags": null
          },
          "name": "stderr",
          "output_type": "stream",
          "text": [
            "Epoch 3: 100%|██████████| 625/625 [00:32<00:00, 19.35it/s]\n"
          ]
        },
        {
          "metadata": {
            "tags": null
          },
          "name": "stdout",
          "output_type": "stream",
          "text": [
            "[1.6726417638778686, 1.3180956398010253, 1.1401238682746888] [39.5825, 52.5625, 59.725]\n",
            "Epoch [3/60], Train Loss: 1.1401, Train Acc: 59.73%\n",
            "Epoch [3/60], Val Loss: 1.0966, Val Acc: 61.18%\n"
          ]
        },
        {
          "metadata": {
            "tags": null
          },
          "name": "stderr",
          "output_type": "stream",
          "text": [
            "Epoch 4: 100%|██████████| 625/625 [00:30<00:00, 20.24it/s]\n"
          ]
        },
        {
          "metadata": {
            "tags": null
          },
          "name": "stdout",
          "output_type": "stream",
          "text": [
            "[1.6726417638778686, 1.3180956398010253, 1.1401238682746888, 1.0278489245414735] [39.5825, 52.5625, 59.725, 63.5525]\n",
            "Epoch [4/60], Train Loss: 1.0278, Train Acc: 63.55%\n",
            "Epoch [4/60], Val Loss: 0.9093, Val Acc: 67.69%\n"
          ]
        },
        {
          "metadata": {
            "tags": null
          },
          "name": "stderr",
          "output_type": "stream",
          "text": [
            "Epoch 5: 100%|██████████| 625/625 [00:30<00:00, 20.51it/s]\n"
          ]
        },
        {
          "metadata": {
            "tags": null
          },
          "name": "stdout",
          "output_type": "stream",
          "text": [
            "[1.6726417638778686, 1.3180956398010253, 1.1401238682746888, 1.0278489245414735, 0.9425369316101074] [39.5825, 52.5625, 59.725, 63.5525, 66.835]\n",
            "Epoch [5/60], Train Loss: 0.9425, Train Acc: 66.83%\n",
            "Epoch [5/60], Val Loss: 0.8507, Val Acc: 69.83%\n"
          ]
        },
        {
          "metadata": {
            "tags": null
          },
          "name": "stderr",
          "output_type": "stream",
          "text": [
            "Epoch 6: 100%|██████████| 625/625 [00:30<00:00, 20.21it/s]\n"
          ]
        },
        {
          "metadata": {
            "tags": null
          },
          "name": "stdout",
          "output_type": "stream",
          "text": [
            "[1.6726417638778686, 1.3180956398010253, 1.1401238682746888, 1.0278489245414735, 0.9425369316101074, 0.8806197268486023] [39.5825, 52.5625, 59.725, 63.5525, 66.835, 68.89]\n",
            "Epoch [6/60], Train Loss: 0.8806, Train Acc: 68.89%\n",
            "Epoch [6/60], Val Loss: 0.8425, Val Acc: 70.18%\n"
          ]
        },
        {
          "metadata": {
            "tags": null
          },
          "name": "stderr",
          "output_type": "stream",
          "text": [
            "Epoch 7: 100%|██████████| 625/625 [00:32<00:00, 19.45it/s]\n"
          ]
        },
        {
          "metadata": {
            "tags": null
          },
          "name": "stdout",
          "output_type": "stream",
          "text": [
            "[1.6726417638778686, 1.3180956398010253, 1.1401238682746888, 1.0278489245414735, 0.9425369316101074, 0.8806197268486023, 0.831613012599945] [39.5825, 52.5625, 59.725, 63.5525, 66.835, 68.89, 70.9325]\n",
            "Epoch [7/60], Train Loss: 0.8316, Train Acc: 70.93%\n",
            "Epoch [7/60], Val Loss: 0.7698, Val Acc: 73.28%\n"
          ]
        },
        {
          "metadata": {
            "tags": null
          },
          "name": "stderr",
          "output_type": "stream",
          "text": [
            "Epoch 8: 100%|██████████| 625/625 [00:30<00:00, 20.23it/s]\n"
          ]
        },
        {
          "metadata": {
            "tags": null
          },
          "name": "stdout",
          "output_type": "stream",
          "text": [
            "[1.6726417638778686, 1.3180956398010253, 1.1401238682746888, 1.0278489245414735, 0.9425369316101074, 0.8806197268486023, 0.831613012599945, 0.7874833622932434] [39.5825, 52.5625, 59.725, 63.5525, 66.835, 68.89, 70.9325, 72.6775]\n",
            "Epoch [8/60], Train Loss: 0.7875, Train Acc: 72.68%\n",
            "Epoch [8/60], Val Loss: 0.7461, Val Acc: 73.91%\n"
          ]
        },
        {
          "metadata": {
            "tags": null
          },
          "name": "stderr",
          "output_type": "stream",
          "text": [
            "Epoch 9: 100%|██████████| 625/625 [00:30<00:00, 20.41it/s]\n"
          ]
        },
        {
          "metadata": {
            "tags": null
          },
          "name": "stdout",
          "output_type": "stream",
          "text": [
            "[1.6726417638778686, 1.3180956398010253, 1.1401238682746888, 1.0278489245414735, 0.9425369316101074, 0.8806197268486023, 0.831613012599945, 0.7874833622932434, 0.7572672988891601] [39.5825, 52.5625, 59.725, 63.5525, 66.835, 68.89, 70.9325, 72.6775, 73.5425]\n",
            "Epoch [9/60], Train Loss: 0.7573, Train Acc: 73.54%\n",
            "Epoch [9/60], Val Loss: 0.7030, Val Acc: 75.57%\n"
          ]
        },
        {
          "metadata": {
            "tags": null
          },
          "name": "stderr",
          "output_type": "stream",
          "text": [
            "Epoch 10: 100%|██████████| 625/625 [00:30<00:00, 20.26it/s]\n"
          ]
        },
        {
          "metadata": {
            "tags": null
          },
          "name": "stdout",
          "output_type": "stream",
          "text": [
            "[1.6726417638778686, 1.3180956398010253, 1.1401238682746888, 1.0278489245414735, 0.9425369316101074, 0.8806197268486023, 0.831613012599945, 0.7874833622932434, 0.7572672988891601, 0.7233934370040893] [39.5825, 52.5625, 59.725, 63.5525, 66.835, 68.89, 70.9325, 72.6775, 73.5425, 74.65]\n",
            "Epoch [10/60], Train Loss: 0.7234, Train Acc: 74.65%\n",
            "Epoch [10/60], Val Loss: 0.6754, Val Acc: 76.18%\n"
          ]
        },
        {
          "metadata": {
            "tags": null
          },
          "name": "stderr",
          "output_type": "stream",
          "text": [
            "Epoch 11: 100%|██████████| 625/625 [00:32<00:00, 19.44it/s]\n"
          ]
        },
        {
          "metadata": {
            "tags": null
          },
          "name": "stdout",
          "output_type": "stream",
          "text": [
            "[1.6726417638778686, 1.3180956398010253, 1.1401238682746888, 1.0278489245414735, 0.9425369316101074, 0.8806197268486023, 0.831613012599945, 0.7874833622932434, 0.7572672988891601, 0.7233934370040893, 0.6943179573059082] [39.5825, 52.5625, 59.725, 63.5525, 66.835, 68.89, 70.9325, 72.6775, 73.5425, 74.65, 75.83]\n",
            "Epoch [11/60], Train Loss: 0.6943, Train Acc: 75.83%\n",
            "Epoch [11/60], Val Loss: 0.6708, Val Acc: 76.56%\n"
          ]
        },
        {
          "metadata": {
            "tags": null
          },
          "name": "stderr",
          "output_type": "stream",
          "text": [
            "Epoch 12: 100%|██████████| 625/625 [00:30<00:00, 20.32it/s]\n"
          ]
        },
        {
          "metadata": {
            "tags": null
          },
          "name": "stdout",
          "output_type": "stream",
          "text": [
            "[1.6726417638778686, 1.3180956398010253, 1.1401238682746888, 1.0278489245414735, 0.9425369316101074, 0.8806197268486023, 0.831613012599945, 0.7874833622932434, 0.7572672988891601, 0.7233934370040893, 0.6943179573059082, 0.6722040758132934] [39.5825, 52.5625, 59.725, 63.5525, 66.835, 68.89, 70.9325, 72.6775, 73.5425, 74.65, 75.83, 76.62]\n",
            "Epoch [12/60], Train Loss: 0.6722, Train Acc: 76.62%\n",
            "Epoch [12/60], Val Loss: 0.6855, Val Acc: 75.97%\n"
          ]
        },
        {
          "metadata": {
            "tags": null
          },
          "name": "stderr",
          "output_type": "stream",
          "text": [
            "Epoch 13: 100%|██████████| 625/625 [00:32<00:00, 19.47it/s]\n"
          ]
        },
        {
          "metadata": {
            "tags": null
          },
          "name": "stdout",
          "output_type": "stream",
          "text": [
            "[1.6726417638778686, 1.3180956398010253, 1.1401238682746888, 1.0278489245414735, 0.9425369316101074, 0.8806197268486023, 0.831613012599945, 0.7874833622932434, 0.7572672988891601, 0.7233934370040893, 0.6943179573059082, 0.6722040758132934, 0.6546427094459534] [39.5825, 52.5625, 59.725, 63.5525, 66.835, 68.89, 70.9325, 72.6775, 73.5425, 74.65, 75.83, 76.62, 77.08]\n",
            "Epoch [13/60], Train Loss: 0.6546, Train Acc: 77.08%\n",
            "Epoch [13/60], Val Loss: 0.6057, Val Acc: 78.77%\n"
          ]
        },
        {
          "metadata": {
            "tags": null
          },
          "name": "stderr",
          "output_type": "stream",
          "text": [
            "Epoch 14: 100%|██████████| 625/625 [00:31<00:00, 20.04it/s]\n"
          ]
        },
        {
          "metadata": {
            "tags": null
          },
          "name": "stdout",
          "output_type": "stream",
          "text": [
            "[1.6726417638778686, 1.3180956398010253, 1.1401238682746888, 1.0278489245414735, 0.9425369316101074, 0.8806197268486023, 0.831613012599945, 0.7874833622932434, 0.7572672988891601, 0.7233934370040893, 0.6943179573059082, 0.6722040758132934, 0.6546427094459534, 0.6289902514457703] [39.5825, 52.5625, 59.725, 63.5525, 66.835, 68.89, 70.9325, 72.6775, 73.5425, 74.65, 75.83, 76.62, 77.08, 78.0825]\n",
            "Epoch [14/60], Train Loss: 0.6290, Train Acc: 78.08%\n",
            "Epoch [14/60], Val Loss: 0.6248, Val Acc: 77.66%\n"
          ]
        },
        {
          "metadata": {
            "tags": null
          },
          "name": "stderr",
          "output_type": "stream",
          "text": [
            "Epoch 15: 100%|██████████| 625/625 [00:31<00:00, 19.95it/s]\n"
          ]
        },
        {
          "metadata": {
            "tags": null
          },
          "name": "stdout",
          "output_type": "stream",
          "text": [
            "[1.6726417638778686, 1.3180956398010253, 1.1401238682746888, 1.0278489245414735, 0.9425369316101074, 0.8806197268486023, 0.831613012599945, 0.7874833622932434, 0.7572672988891601, 0.7233934370040893, 0.6943179573059082, 0.6722040758132934, 0.6546427094459534, 0.6289902514457703, 0.6153308666229248] [39.5825, 52.5625, 59.725, 63.5525, 66.835, 68.89, 70.9325, 72.6775, 73.5425, 74.65, 75.83, 76.62, 77.08, 78.0825, 78.43]\n",
            "Epoch [15/60], Train Loss: 0.6153, Train Acc: 78.43%\n",
            "Epoch [15/60], Val Loss: 0.5672, Val Acc: 80.00%\n"
          ]
        },
        {
          "metadata": {
            "tags": null
          },
          "name": "stderr",
          "output_type": "stream",
          "text": [
            "Epoch 16: 100%|██████████| 625/625 [00:30<00:00, 20.58it/s]\n"
          ]
        },
        {
          "metadata": {
            "tags": null
          },
          "name": "stdout",
          "output_type": "stream",
          "text": [
            "[1.6726417638778686, 1.3180956398010253, 1.1401238682746888, 1.0278489245414735, 0.9425369316101074, 0.8806197268486023, 0.831613012599945, 0.7874833622932434, 0.7572672988891601, 0.7233934370040893, 0.6943179573059082, 0.6722040758132934, 0.6546427094459534, 0.6289902514457703, 0.6153308666229248, 0.6003420118331909] [39.5825, 52.5625, 59.725, 63.5525, 66.835, 68.89, 70.9325, 72.6775, 73.5425, 74.65, 75.83, 76.62, 77.08, 78.0825, 78.43, 79.05]\n",
            "Epoch [16/60], Train Loss: 0.6003, Train Acc: 79.05%\n",
            "Epoch [16/60], Val Loss: 0.6097, Val Acc: 78.61%\n"
          ]
        },
        {
          "metadata": {
            "tags": null
          },
          "name": "stderr",
          "output_type": "stream",
          "text": [
            "Epoch 17: 100%|██████████| 625/625 [00:30<00:00, 20.30it/s]\n"
          ]
        },
        {
          "metadata": {
            "tags": null
          },
          "name": "stdout",
          "output_type": "stream",
          "text": [
            "[1.6726417638778686, 1.3180956398010253, 1.1401238682746888, 1.0278489245414735, 0.9425369316101074, 0.8806197268486023, 0.831613012599945, 0.7874833622932434, 0.7572672988891601, 0.7233934370040893, 0.6943179573059082, 0.6722040758132934, 0.6546427094459534, 0.6289902514457703, 0.6153308666229248, 0.6003420118331909, 0.5790060866355896] [39.5825, 52.5625, 59.725, 63.5525, 66.835, 68.89, 70.9325, 72.6775, 73.5425, 74.65, 75.83, 76.62, 77.08, 78.0825, 78.43, 79.05, 79.7075]\n",
            "Epoch [17/60], Train Loss: 0.5790, Train Acc: 79.71%\n",
            "Epoch [17/60], Val Loss: 0.5351, Val Acc: 81.18%\n"
          ]
        },
        {
          "metadata": {
            "tags": null
          },
          "name": "stderr",
          "output_type": "stream",
          "text": [
            "Epoch 18: 100%|██████████| 625/625 [00:31<00:00, 20.06it/s]\n"
          ]
        },
        {
          "metadata": {
            "tags": null
          },
          "name": "stdout",
          "output_type": "stream",
          "text": [
            "[1.6726417638778686, 1.3180956398010253, 1.1401238682746888, 1.0278489245414735, 0.9425369316101074, 0.8806197268486023, 0.831613012599945, 0.7874833622932434, 0.7572672988891601, 0.7233934370040893, 0.6943179573059082, 0.6722040758132934, 0.6546427094459534, 0.6289902514457703, 0.6153308666229248, 0.6003420118331909, 0.5790060866355896, 0.5653226939201355] [39.5825, 52.5625, 59.725, 63.5525, 66.835, 68.89, 70.9325, 72.6775, 73.5425, 74.65, 75.83, 76.62, 77.08, 78.0825, 78.43, 79.05, 79.7075, 80.5575]\n",
            "Epoch [18/60], Train Loss: 0.5653, Train Acc: 80.56%\n",
            "Epoch [18/60], Val Loss: 0.5357, Val Acc: 81.28%\n"
          ]
        },
        {
          "metadata": {
            "tags": null
          },
          "name": "stderr",
          "output_type": "stream",
          "text": [
            "Epoch 19: 100%|██████████| 625/625 [00:31<00:00, 20.04it/s]\n"
          ]
        },
        {
          "metadata": {
            "tags": null
          },
          "name": "stdout",
          "output_type": "stream",
          "text": [
            "[1.6726417638778686, 1.3180956398010253, 1.1401238682746888, 1.0278489245414735, 0.9425369316101074, 0.8806197268486023, 0.831613012599945, 0.7874833622932434, 0.7572672988891601, 0.7233934370040893, 0.6943179573059082, 0.6722040758132934, 0.6546427094459534, 0.6289902514457703, 0.6153308666229248, 0.6003420118331909, 0.5790060866355896, 0.5653226939201355, 0.5556784618377686] [39.5825, 52.5625, 59.725, 63.5525, 66.835, 68.89, 70.9325, 72.6775, 73.5425, 74.65, 75.83, 76.62, 77.08, 78.0825, 78.43, 79.05, 79.7075, 80.5575, 80.645]\n",
            "Epoch [19/60], Train Loss: 0.5557, Train Acc: 80.64%\n",
            "Epoch [19/60], Val Loss: 0.5216, Val Acc: 81.59%\n"
          ]
        },
        {
          "metadata": {
            "tags": null
          },
          "name": "stderr",
          "output_type": "stream",
          "text": [
            "Epoch 20: 100%|██████████| 625/625 [00:31<00:00, 19.59it/s]\n"
          ]
        },
        {
          "metadata": {
            "tags": null
          },
          "name": "stdout",
          "output_type": "stream",
          "text": [
            "[1.6726417638778686, 1.3180956398010253, 1.1401238682746888, 1.0278489245414735, 0.9425369316101074, 0.8806197268486023, 0.831613012599945, 0.7874833622932434, 0.7572672988891601, 0.7233934370040893, 0.6943179573059082, 0.6722040758132934, 0.6546427094459534, 0.6289902514457703, 0.6153308666229248, 0.6003420118331909, 0.5790060866355896, 0.5653226939201355, 0.5556784618377686, 0.5437922238826751] [39.5825, 52.5625, 59.725, 63.5525, 66.835, 68.89, 70.9325, 72.6775, 73.5425, 74.65, 75.83, 76.62, 77.08, 78.0825, 78.43, 79.05, 79.7075, 80.5575, 80.645, 81.1875]\n",
            "Epoch [20/60], Train Loss: 0.5438, Train Acc: 81.19%\n",
            "Epoch [20/60], Val Loss: 0.5329, Val Acc: 81.45%\n"
          ]
        },
        {
          "metadata": {
            "tags": null
          },
          "name": "stderr",
          "output_type": "stream",
          "text": [
            "Epoch 21: 100%|██████████| 625/625 [00:30<00:00, 20.27it/s]\n"
          ]
        },
        {
          "metadata": {
            "tags": null
          },
          "name": "stdout",
          "output_type": "stream",
          "text": [
            "[1.6726417638778686, 1.3180956398010253, 1.1401238682746888, 1.0278489245414735, 0.9425369316101074, 0.8806197268486023, 0.831613012599945, 0.7874833622932434, 0.7572672988891601, 0.7233934370040893, 0.6943179573059082, 0.6722040758132934, 0.6546427094459534, 0.6289902514457703, 0.6153308666229248, 0.6003420118331909, 0.5790060866355896, 0.5653226939201355, 0.5556784618377686, 0.5437922238826751, 0.5369805146694183] [39.5825, 52.5625, 59.725, 63.5525, 66.835, 68.89, 70.9325, 72.6775, 73.5425, 74.65, 75.83, 76.62, 77.08, 78.0825, 78.43, 79.05, 79.7075, 80.5575, 80.645, 81.1875, 81.0575]\n",
            "Epoch [21/60], Train Loss: 0.5370, Train Acc: 81.06%\n",
            "Epoch [21/60], Val Loss: 0.4955, Val Acc: 82.44%\n"
          ]
        },
        {
          "metadata": {
            "tags": null
          },
          "name": "stderr",
          "output_type": "stream",
          "text": [
            "Epoch 22: 100%|██████████| 625/625 [00:31<00:00, 19.85it/s]\n"
          ]
        },
        {
          "metadata": {
            "tags": null
          },
          "name": "stdout",
          "output_type": "stream",
          "text": [
            "[1.6726417638778686, 1.3180956398010253, 1.1401238682746888, 1.0278489245414735, 0.9425369316101074, 0.8806197268486023, 0.831613012599945, 0.7874833622932434, 0.7572672988891601, 0.7233934370040893, 0.6943179573059082, 0.6722040758132934, 0.6546427094459534, 0.6289902514457703, 0.6153308666229248, 0.6003420118331909, 0.5790060866355896, 0.5653226939201355, 0.5556784618377686, 0.5437922238826751, 0.5369805146694183, 0.5213568104743957] [39.5825, 52.5625, 59.725, 63.5525, 66.835, 68.89, 70.9325, 72.6775, 73.5425, 74.65, 75.83, 76.62, 77.08, 78.0825, 78.43, 79.05, 79.7075, 80.5575, 80.645, 81.1875, 81.0575, 81.77]\n",
            "Epoch [22/60], Train Loss: 0.5214, Train Acc: 81.77%\n",
            "Epoch [22/60], Val Loss: 0.5007, Val Acc: 82.45%\n"
          ]
        },
        {
          "metadata": {
            "tags": null
          },
          "name": "stderr",
          "output_type": "stream",
          "text": [
            "Epoch 23: 100%|██████████| 625/625 [00:30<00:00, 20.28it/s]\n"
          ]
        },
        {
          "metadata": {
            "tags": null
          },
          "name": "stdout",
          "output_type": "stream",
          "text": [
            "[1.6726417638778686, 1.3180956398010253, 1.1401238682746888, 1.0278489245414735, 0.9425369316101074, 0.8806197268486023, 0.831613012599945, 0.7874833622932434, 0.7572672988891601, 0.7233934370040893, 0.6943179573059082, 0.6722040758132934, 0.6546427094459534, 0.6289902514457703, 0.6153308666229248, 0.6003420118331909, 0.5790060866355896, 0.5653226939201355, 0.5556784618377686, 0.5437922238826751, 0.5369805146694183, 0.5213568104743957, 0.5146942288160324] [39.5825, 52.5625, 59.725, 63.5525, 66.835, 68.89, 70.9325, 72.6775, 73.5425, 74.65, 75.83, 76.62, 77.08, 78.0825, 78.43, 79.05, 79.7075, 80.5575, 80.645, 81.1875, 81.0575, 81.77, 82.1375]\n",
            "Epoch [23/60], Train Loss: 0.5147, Train Acc: 82.14%\n",
            "Epoch [23/60], Val Loss: 0.4949, Val Acc: 82.83%\n"
          ]
        },
        {
          "metadata": {
            "tags": null
          },
          "name": "stderr",
          "output_type": "stream",
          "text": [
            "Epoch 24: 100%|██████████| 625/625 [00:32<00:00, 19.36it/s]\n"
          ]
        },
        {
          "metadata": {
            "tags": null
          },
          "name": "stdout",
          "output_type": "stream",
          "text": [
            "[1.6726417638778686, 1.3180956398010253, 1.1401238682746888, 1.0278489245414735, 0.9425369316101074, 0.8806197268486023, 0.831613012599945, 0.7874833622932434, 0.7572672988891601, 0.7233934370040893, 0.6943179573059082, 0.6722040758132934, 0.6546427094459534, 0.6289902514457703, 0.6153308666229248, 0.6003420118331909, 0.5790060866355896, 0.5653226939201355, 0.5556784618377686, 0.5437922238826751, 0.5369805146694183, 0.5213568104743957, 0.5146942288160324, 0.49986681146621703] [39.5825, 52.5625, 59.725, 63.5525, 66.835, 68.89, 70.9325, 72.6775, 73.5425, 74.65, 75.83, 76.62, 77.08, 78.0825, 78.43, 79.05, 79.7075, 80.5575, 80.645, 81.1875, 81.0575, 81.77, 82.1375, 82.3275]\n",
            "Epoch [24/60], Train Loss: 0.4999, Train Acc: 82.33%\n",
            "Epoch [24/60], Val Loss: 0.4653, Val Acc: 83.86%\n"
          ]
        },
        {
          "metadata": {
            "tags": null
          },
          "name": "stderr",
          "output_type": "stream",
          "text": [
            "Epoch 25: 100%|██████████| 625/625 [00:31<00:00, 20.08it/s]\n"
          ]
        },
        {
          "metadata": {
            "tags": null
          },
          "name": "stdout",
          "output_type": "stream",
          "text": [
            "[1.6726417638778686, 1.3180956398010253, 1.1401238682746888, 1.0278489245414735, 0.9425369316101074, 0.8806197268486023, 0.831613012599945, 0.7874833622932434, 0.7572672988891601, 0.7233934370040893, 0.6943179573059082, 0.6722040758132934, 0.6546427094459534, 0.6289902514457703, 0.6153308666229248, 0.6003420118331909, 0.5790060866355896, 0.5653226939201355, 0.5556784618377686, 0.5437922238826751, 0.5369805146694183, 0.5213568104743957, 0.5146942288160324, 0.49986681146621703, 0.49783742673397063] [39.5825, 52.5625, 59.725, 63.5525, 66.835, 68.89, 70.9325, 72.6775, 73.5425, 74.65, 75.83, 76.62, 77.08, 78.0825, 78.43, 79.05, 79.7075, 80.5575, 80.645, 81.1875, 81.0575, 81.77, 82.1375, 82.3275, 82.7925]\n",
            "Epoch [25/60], Train Loss: 0.4978, Train Acc: 82.79%\n",
            "Epoch [25/60], Val Loss: 0.4891, Val Acc: 82.91%\n"
          ]
        },
        {
          "metadata": {
            "tags": null
          },
          "name": "stderr",
          "output_type": "stream",
          "text": [
            "Epoch 26: 100%|██████████| 625/625 [00:30<00:00, 20.19it/s]\n"
          ]
        },
        {
          "metadata": {
            "tags": null
          },
          "name": "stdout",
          "output_type": "stream",
          "text": [
            "[1.6726417638778686, 1.3180956398010253, 1.1401238682746888, 1.0278489245414735, 0.9425369316101074, 0.8806197268486023, 0.831613012599945, 0.7874833622932434, 0.7572672988891601, 0.7233934370040893, 0.6943179573059082, 0.6722040758132934, 0.6546427094459534, 0.6289902514457703, 0.6153308666229248, 0.6003420118331909, 0.5790060866355896, 0.5653226939201355, 0.5556784618377686, 0.5437922238826751, 0.5369805146694183, 0.5213568104743957, 0.5146942288160324, 0.49986681146621703, 0.49783742673397063, 0.48674728257656097] [39.5825, 52.5625, 59.725, 63.5525, 66.835, 68.89, 70.9325, 72.6775, 73.5425, 74.65, 75.83, 76.62, 77.08, 78.0825, 78.43, 79.05, 79.7075, 80.5575, 80.645, 81.1875, 81.0575, 81.77, 82.1375, 82.3275, 82.7925, 83.1125]\n",
            "Epoch [26/60], Train Loss: 0.4867, Train Acc: 83.11%\n",
            "Epoch [26/60], Val Loss: 0.4364, Val Acc: 84.73%\n"
          ]
        },
        {
          "metadata": {
            "tags": null
          },
          "name": "stderr",
          "output_type": "stream",
          "text": [
            "Epoch 27: 100%|██████████| 625/625 [00:30<00:00, 20.33it/s]\n"
          ]
        },
        {
          "metadata": {
            "tags": null
          },
          "name": "stdout",
          "output_type": "stream",
          "text": [
            "[1.6726417638778686, 1.3180956398010253, 1.1401238682746888, 1.0278489245414735, 0.9425369316101074, 0.8806197268486023, 0.831613012599945, 0.7874833622932434, 0.7572672988891601, 0.7233934370040893, 0.6943179573059082, 0.6722040758132934, 0.6546427094459534, 0.6289902514457703, 0.6153308666229248, 0.6003420118331909, 0.5790060866355896, 0.5653226939201355, 0.5556784618377686, 0.5437922238826751, 0.5369805146694183, 0.5213568104743957, 0.5146942288160324, 0.49986681146621703, 0.49783742673397063, 0.48674728257656097, 0.47947416949272154] [39.5825, 52.5625, 59.725, 63.5525, 66.835, 68.89, 70.9325, 72.6775, 73.5425, 74.65, 75.83, 76.62, 77.08, 78.0825, 78.43, 79.05, 79.7075, 80.5575, 80.645, 81.1875, 81.0575, 81.77, 82.1375, 82.3275, 82.7925, 83.1125, 83.365]\n",
            "Epoch [27/60], Train Loss: 0.4795, Train Acc: 83.36%\n",
            "Epoch [27/60], Val Loss: 0.4791, Val Acc: 82.89%\n"
          ]
        },
        {
          "metadata": {
            "tags": null
          },
          "name": "stderr",
          "output_type": "stream",
          "text": [
            "Epoch 28: 100%|██████████| 625/625 [00:30<00:00, 20.20it/s]\n"
          ]
        },
        {
          "metadata": {
            "tags": null
          },
          "name": "stdout",
          "output_type": "stream",
          "text": [
            "[1.6726417638778686, 1.3180956398010253, 1.1401238682746888, 1.0278489245414735, 0.9425369316101074, 0.8806197268486023, 0.831613012599945, 0.7874833622932434, 0.7572672988891601, 0.7233934370040893, 0.6943179573059082, 0.6722040758132934, 0.6546427094459534, 0.6289902514457703, 0.6153308666229248, 0.6003420118331909, 0.5790060866355896, 0.5653226939201355, 0.5556784618377686, 0.5437922238826751, 0.5369805146694183, 0.5213568104743957, 0.5146942288160324, 0.49986681146621703, 0.49783742673397063, 0.48674728257656097, 0.47947416949272154, 0.4703493320703506] [39.5825, 52.5625, 59.725, 63.5525, 66.835, 68.89, 70.9325, 72.6775, 73.5425, 74.65, 75.83, 76.62, 77.08, 78.0825, 78.43, 79.05, 79.7075, 80.5575, 80.645, 81.1875, 81.0575, 81.77, 82.1375, 82.3275, 82.7925, 83.1125, 83.365, 83.4825]\n",
            "Epoch [28/60], Train Loss: 0.4703, Train Acc: 83.48%\n",
            "Epoch [28/60], Val Loss: 0.4724, Val Acc: 83.39%\n"
          ]
        },
        {
          "metadata": {
            "tags": null
          },
          "name": "stderr",
          "output_type": "stream",
          "text": [
            "Epoch 29: 100%|██████████| 625/625 [00:30<00:00, 20.67it/s]\n"
          ]
        },
        {
          "metadata": {
            "tags": null
          },
          "name": "stdout",
          "output_type": "stream",
          "text": [
            "[1.6726417638778686, 1.3180956398010253, 1.1401238682746888, 1.0278489245414735, 0.9425369316101074, 0.8806197268486023, 0.831613012599945, 0.7874833622932434, 0.7572672988891601, 0.7233934370040893, 0.6943179573059082, 0.6722040758132934, 0.6546427094459534, 0.6289902514457703, 0.6153308666229248, 0.6003420118331909, 0.5790060866355896, 0.5653226939201355, 0.5556784618377686, 0.5437922238826751, 0.5369805146694183, 0.5213568104743957, 0.5146942288160324, 0.49986681146621703, 0.49783742673397063, 0.48674728257656097, 0.47947416949272154, 0.4703493320703506, 0.463846213889122] [39.5825, 52.5625, 59.725, 63.5525, 66.835, 68.89, 70.9325, 72.6775, 73.5425, 74.65, 75.83, 76.62, 77.08, 78.0825, 78.43, 79.05, 79.7075, 80.5575, 80.645, 81.1875, 81.0575, 81.77, 82.1375, 82.3275, 82.7925, 83.1125, 83.365, 83.4825, 83.93]\n",
            "Epoch [29/60], Train Loss: 0.4638, Train Acc: 83.93%\n",
            "Epoch [29/60], Val Loss: 0.4364, Val Acc: 84.73%\n"
          ]
        },
        {
          "metadata": {
            "tags": null
          },
          "name": "stderr",
          "output_type": "stream",
          "text": [
            "Epoch 30: 100%|██████████| 625/625 [00:31<00:00, 19.98it/s]\n"
          ]
        },
        {
          "metadata": {
            "tags": null
          },
          "name": "stdout",
          "output_type": "stream",
          "text": [
            "[1.6726417638778686, 1.3180956398010253, 1.1401238682746888, 1.0278489245414735, 0.9425369316101074, 0.8806197268486023, 0.831613012599945, 0.7874833622932434, 0.7572672988891601, 0.7233934370040893, 0.6943179573059082, 0.6722040758132934, 0.6546427094459534, 0.6289902514457703, 0.6153308666229248, 0.6003420118331909, 0.5790060866355896, 0.5653226939201355, 0.5556784618377686, 0.5437922238826751, 0.5369805146694183, 0.5213568104743957, 0.5146942288160324, 0.49986681146621703, 0.49783742673397063, 0.48674728257656097, 0.47947416949272154, 0.4703493320703506, 0.463846213889122, 0.46030184621810916] [39.5825, 52.5625, 59.725, 63.5525, 66.835, 68.89, 70.9325, 72.6775, 73.5425, 74.65, 75.83, 76.62, 77.08, 78.0825, 78.43, 79.05, 79.7075, 80.5575, 80.645, 81.1875, 81.0575, 81.77, 82.1375, 82.3275, 82.7925, 83.1125, 83.365, 83.4825, 83.93, 83.9425]\n",
            "Epoch [30/60], Train Loss: 0.4603, Train Acc: 83.94%\n",
            "Epoch [30/60], Val Loss: 0.4026, Val Acc: 86.26%\n"
          ]
        },
        {
          "metadata": {
            "tags": null
          },
          "name": "stderr",
          "output_type": "stream",
          "text": [
            "Epoch 31: 100%|██████████| 625/625 [00:31<00:00, 20.10it/s]\n"
          ]
        },
        {
          "metadata": {
            "tags": null
          },
          "name": "stdout",
          "output_type": "stream",
          "text": [
            "[1.6726417638778686, 1.3180956398010253, 1.1401238682746888, 1.0278489245414735, 0.9425369316101074, 0.8806197268486023, 0.831613012599945, 0.7874833622932434, 0.7572672988891601, 0.7233934370040893, 0.6943179573059082, 0.6722040758132934, 0.6546427094459534, 0.6289902514457703, 0.6153308666229248, 0.6003420118331909, 0.5790060866355896, 0.5653226939201355, 0.5556784618377686, 0.5437922238826751, 0.5369805146694183, 0.5213568104743957, 0.5146942288160324, 0.49986681146621703, 0.49783742673397063, 0.48674728257656097, 0.47947416949272154, 0.4703493320703506, 0.463846213889122, 0.46030184621810916, 0.35282431950569154] [39.5825, 52.5625, 59.725, 63.5525, 66.835, 68.89, 70.9325, 72.6775, 73.5425, 74.65, 75.83, 76.62, 77.08, 78.0825, 78.43, 79.05, 79.7075, 80.5575, 80.645, 81.1875, 81.0575, 81.77, 82.1375, 82.3275, 82.7925, 83.1125, 83.365, 83.4825, 83.93, 83.9425, 87.7775]\n",
            "Epoch [31/60], Train Loss: 0.3528, Train Acc: 87.78%\n",
            "Epoch [31/60], Val Loss: 0.2886, Val Acc: 89.99%\n"
          ]
        },
        {
          "metadata": {
            "tags": null
          },
          "name": "stderr",
          "output_type": "stream",
          "text": [
            "Epoch 32: 100%|██████████| 625/625 [00:30<00:00, 20.69it/s]\n"
          ]
        },
        {
          "metadata": {
            "tags": null
          },
          "name": "stdout",
          "output_type": "stream",
          "text": [
            "[1.6726417638778686, 1.3180956398010253, 1.1401238682746888, 1.0278489245414735, 0.9425369316101074, 0.8806197268486023, 0.831613012599945, 0.7874833622932434, 0.7572672988891601, 0.7233934370040893, 0.6943179573059082, 0.6722040758132934, 0.6546427094459534, 0.6289902514457703, 0.6153308666229248, 0.6003420118331909, 0.5790060866355896, 0.5653226939201355, 0.5556784618377686, 0.5437922238826751, 0.5369805146694183, 0.5213568104743957, 0.5146942288160324, 0.49986681146621703, 0.49783742673397063, 0.48674728257656097, 0.47947416949272154, 0.4703493320703506, 0.463846213889122, 0.46030184621810916, 0.35282431950569154, 0.3128253523349762] [39.5825, 52.5625, 59.725, 63.5525, 66.835, 68.89, 70.9325, 72.6775, 73.5425, 74.65, 75.83, 76.62, 77.08, 78.0825, 78.43, 79.05, 79.7075, 80.5575, 80.645, 81.1875, 81.0575, 81.77, 82.1375, 82.3275, 82.7925, 83.1125, 83.365, 83.4825, 83.93, 83.9425, 87.7775, 89.0575]\n",
            "Epoch [32/60], Train Loss: 0.3128, Train Acc: 89.06%\n",
            "Epoch [32/60], Val Loss: 0.2692, Val Acc: 90.50%\n"
          ]
        },
        {
          "metadata": {
            "tags": null
          },
          "name": "stderr",
          "output_type": "stream",
          "text": [
            "Epoch 33: 100%|██████████| 625/625 [00:30<00:00, 20.74it/s]\n"
          ]
        },
        {
          "metadata": {
            "tags": null
          },
          "name": "stdout",
          "output_type": "stream",
          "text": [
            "[1.6726417638778686, 1.3180956398010253, 1.1401238682746888, 1.0278489245414735, 0.9425369316101074, 0.8806197268486023, 0.831613012599945, 0.7874833622932434, 0.7572672988891601, 0.7233934370040893, 0.6943179573059082, 0.6722040758132934, 0.6546427094459534, 0.6289902514457703, 0.6153308666229248, 0.6003420118331909, 0.5790060866355896, 0.5653226939201355, 0.5556784618377686, 0.5437922238826751, 0.5369805146694183, 0.5213568104743957, 0.5146942288160324, 0.49986681146621703, 0.49783742673397063, 0.48674728257656097, 0.47947416949272154, 0.4703493320703506, 0.463846213889122, 0.46030184621810916, 0.35282431950569154, 0.3128253523349762, 0.2936079780936241] [39.5825, 52.5625, 59.725, 63.5525, 66.835, 68.89, 70.9325, 72.6775, 73.5425, 74.65, 75.83, 76.62, 77.08, 78.0825, 78.43, 79.05, 79.7075, 80.5575, 80.645, 81.1875, 81.0575, 81.77, 82.1375, 82.3275, 82.7925, 83.1125, 83.365, 83.4825, 83.93, 83.9425, 87.7775, 89.0575, 89.665]\n",
            "Epoch [33/60], Train Loss: 0.2936, Train Acc: 89.67%\n",
            "Epoch [33/60], Val Loss: 0.2564, Val Acc: 91.11%\n"
          ]
        },
        {
          "metadata": {
            "tags": null
          },
          "name": "stderr",
          "output_type": "stream",
          "text": [
            "Epoch 34: 100%|██████████| 625/625 [00:30<00:00, 20.55it/s]\n"
          ]
        },
        {
          "metadata": {
            "tags": null
          },
          "name": "stdout",
          "output_type": "stream",
          "text": [
            "[1.6726417638778686, 1.3180956398010253, 1.1401238682746888, 1.0278489245414735, 0.9425369316101074, 0.8806197268486023, 0.831613012599945, 0.7874833622932434, 0.7572672988891601, 0.7233934370040893, 0.6943179573059082, 0.6722040758132934, 0.6546427094459534, 0.6289902514457703, 0.6153308666229248, 0.6003420118331909, 0.5790060866355896, 0.5653226939201355, 0.5556784618377686, 0.5437922238826751, 0.5369805146694183, 0.5213568104743957, 0.5146942288160324, 0.49986681146621703, 0.49783742673397063, 0.48674728257656097, 0.47947416949272154, 0.4703493320703506, 0.463846213889122, 0.46030184621810916, 0.35282431950569154, 0.3128253523349762, 0.2936079780936241, 0.285434075987339] [39.5825, 52.5625, 59.725, 63.5525, 66.835, 68.89, 70.9325, 72.6775, 73.5425, 74.65, 75.83, 76.62, 77.08, 78.0825, 78.43, 79.05, 79.7075, 80.5575, 80.645, 81.1875, 81.0575, 81.77, 82.1375, 82.3275, 82.7925, 83.1125, 83.365, 83.4825, 83.93, 83.9425, 87.7775, 89.0575, 89.665, 89.995]\n",
            "Epoch [34/60], Train Loss: 0.2854, Train Acc: 90.00%\n",
            "Epoch [34/60], Val Loss: 0.2447, Val Acc: 91.63%\n"
          ]
        },
        {
          "metadata": {
            "tags": null
          },
          "name": "stderr",
          "output_type": "stream",
          "text": [
            "Epoch 35: 100%|██████████| 625/625 [00:30<00:00, 20.44it/s]\n"
          ]
        },
        {
          "metadata": {
            "tags": null
          },
          "name": "stdout",
          "output_type": "stream",
          "text": [
            "[1.6726417638778686, 1.3180956398010253, 1.1401238682746888, 1.0278489245414735, 0.9425369316101074, 0.8806197268486023, 0.831613012599945, 0.7874833622932434, 0.7572672988891601, 0.7233934370040893, 0.6943179573059082, 0.6722040758132934, 0.6546427094459534, 0.6289902514457703, 0.6153308666229248, 0.6003420118331909, 0.5790060866355896, 0.5653226939201355, 0.5556784618377686, 0.5437922238826751, 0.5369805146694183, 0.5213568104743957, 0.5146942288160324, 0.49986681146621703, 0.49783742673397063, 0.48674728257656097, 0.47947416949272154, 0.4703493320703506, 0.463846213889122, 0.46030184621810916, 0.35282431950569154, 0.3128253523349762, 0.2936079780936241, 0.285434075987339, 0.271021805357933] [39.5825, 52.5625, 59.725, 63.5525, 66.835, 68.89, 70.9325, 72.6775, 73.5425, 74.65, 75.83, 76.62, 77.08, 78.0825, 78.43, 79.05, 79.7075, 80.5575, 80.645, 81.1875, 81.0575, 81.77, 82.1375, 82.3275, 82.7925, 83.1125, 83.365, 83.4825, 83.93, 83.9425, 87.7775, 89.0575, 89.665, 89.995, 90.54]\n",
            "Epoch [35/60], Train Loss: 0.2710, Train Acc: 90.54%\n",
            "Epoch [35/60], Val Loss: 0.2327, Val Acc: 91.96%\n"
          ]
        },
        {
          "metadata": {
            "tags": null
          },
          "name": "stderr",
          "output_type": "stream",
          "text": [
            "Epoch 36: 100%|██████████| 625/625 [00:31<00:00, 20.07it/s]\n"
          ]
        },
        {
          "metadata": {
            "tags": null
          },
          "name": "stdout",
          "output_type": "stream",
          "text": [
            "[1.6726417638778686, 1.3180956398010253, 1.1401238682746888, 1.0278489245414735, 0.9425369316101074, 0.8806197268486023, 0.831613012599945, 0.7874833622932434, 0.7572672988891601, 0.7233934370040893, 0.6943179573059082, 0.6722040758132934, 0.6546427094459534, 0.6289902514457703, 0.6153308666229248, 0.6003420118331909, 0.5790060866355896, 0.5653226939201355, 0.5556784618377686, 0.5437922238826751, 0.5369805146694183, 0.5213568104743957, 0.5146942288160324, 0.49986681146621703, 0.49783742673397063, 0.48674728257656097, 0.47947416949272154, 0.4703493320703506, 0.463846213889122, 0.46030184621810916, 0.35282431950569154, 0.3128253523349762, 0.2936079780936241, 0.285434075987339, 0.271021805357933, 0.2614500901818275] [39.5825, 52.5625, 59.725, 63.5525, 66.835, 68.89, 70.9325, 72.6775, 73.5425, 74.65, 75.83, 76.62, 77.08, 78.0825, 78.43, 79.05, 79.7075, 80.5575, 80.645, 81.1875, 81.0575, 81.77, 82.1375, 82.3275, 82.7925, 83.1125, 83.365, 83.4825, 83.93, 83.9425, 87.7775, 89.0575, 89.665, 89.995, 90.54, 90.8175]\n",
            "Epoch [36/60], Train Loss: 0.2615, Train Acc: 90.82%\n",
            "Epoch [36/60], Val Loss: 0.2318, Val Acc: 91.88%\n"
          ]
        },
        {
          "metadata": {
            "tags": null
          },
          "name": "stderr",
          "output_type": "stream",
          "text": [
            "Epoch 37: 100%|██████████| 625/625 [00:30<00:00, 20.70it/s]\n"
          ]
        },
        {
          "metadata": {
            "tags": null
          },
          "name": "stdout",
          "output_type": "stream",
          "text": [
            "[1.6726417638778686, 1.3180956398010253, 1.1401238682746888, 1.0278489245414735, 0.9425369316101074, 0.8806197268486023, 0.831613012599945, 0.7874833622932434, 0.7572672988891601, 0.7233934370040893, 0.6943179573059082, 0.6722040758132934, 0.6546427094459534, 0.6289902514457703, 0.6153308666229248, 0.6003420118331909, 0.5790060866355896, 0.5653226939201355, 0.5556784618377686, 0.5437922238826751, 0.5369805146694183, 0.5213568104743957, 0.5146942288160324, 0.49986681146621703, 0.49783742673397063, 0.48674728257656097, 0.47947416949272154, 0.4703493320703506, 0.463846213889122, 0.46030184621810916, 0.35282431950569154, 0.3128253523349762, 0.2936079780936241, 0.285434075987339, 0.271021805357933, 0.2614500901818275, 0.25773332157731055] [39.5825, 52.5625, 59.725, 63.5525, 66.835, 68.89, 70.9325, 72.6775, 73.5425, 74.65, 75.83, 76.62, 77.08, 78.0825, 78.43, 79.05, 79.7075, 80.5575, 80.645, 81.1875, 81.0575, 81.77, 82.1375, 82.3275, 82.7925, 83.1125, 83.365, 83.4825, 83.93, 83.9425, 87.7775, 89.0575, 89.665, 89.995, 90.54, 90.8175, 91.0675]\n",
            "Epoch [37/60], Train Loss: 0.2577, Train Acc: 91.07%\n",
            "Epoch [37/60], Val Loss: 0.2186, Val Acc: 92.52%\n"
          ]
        },
        {
          "metadata": {
            "tags": null
          },
          "name": "stderr",
          "output_type": "stream",
          "text": [
            "Epoch 38: 100%|██████████| 625/625 [00:30<00:00, 20.53it/s]\n"
          ]
        },
        {
          "metadata": {
            "tags": null
          },
          "name": "stdout",
          "output_type": "stream",
          "text": [
            "[1.6726417638778686, 1.3180956398010253, 1.1401238682746888, 1.0278489245414735, 0.9425369316101074, 0.8806197268486023, 0.831613012599945, 0.7874833622932434, 0.7572672988891601, 0.7233934370040893, 0.6943179573059082, 0.6722040758132934, 0.6546427094459534, 0.6289902514457703, 0.6153308666229248, 0.6003420118331909, 0.5790060866355896, 0.5653226939201355, 0.5556784618377686, 0.5437922238826751, 0.5369805146694183, 0.5213568104743957, 0.5146942288160324, 0.49986681146621703, 0.49783742673397063, 0.48674728257656097, 0.47947416949272154, 0.4703493320703506, 0.463846213889122, 0.46030184621810916, 0.35282431950569154, 0.3128253523349762, 0.2936079780936241, 0.285434075987339, 0.271021805357933, 0.2614500901818275, 0.25773332157731055, 0.25350369902849196] [39.5825, 52.5625, 59.725, 63.5525, 66.835, 68.89, 70.9325, 72.6775, 73.5425, 74.65, 75.83, 76.62, 77.08, 78.0825, 78.43, 79.05, 79.7075, 80.5575, 80.645, 81.1875, 81.0575, 81.77, 82.1375, 82.3275, 82.7925, 83.1125, 83.365, 83.4825, 83.93, 83.9425, 87.7775, 89.0575, 89.665, 89.995, 90.54, 90.8175, 91.0675, 91.185]\n",
            "Epoch [38/60], Train Loss: 0.2535, Train Acc: 91.19%\n",
            "Epoch [38/60], Val Loss: 0.2163, Val Acc: 92.42%\n"
          ]
        },
        {
          "metadata": {
            "tags": null
          },
          "name": "stderr",
          "output_type": "stream",
          "text": [
            "Epoch 39: 100%|██████████| 625/625 [00:30<00:00, 20.19it/s]\n"
          ]
        },
        {
          "metadata": {
            "tags": null
          },
          "name": "stdout",
          "output_type": "stream",
          "text": [
            "[1.6726417638778686, 1.3180956398010253, 1.1401238682746888, 1.0278489245414735, 0.9425369316101074, 0.8806197268486023, 0.831613012599945, 0.7874833622932434, 0.7572672988891601, 0.7233934370040893, 0.6943179573059082, 0.6722040758132934, 0.6546427094459534, 0.6289902514457703, 0.6153308666229248, 0.6003420118331909, 0.5790060866355896, 0.5653226939201355, 0.5556784618377686, 0.5437922238826751, 0.5369805146694183, 0.5213568104743957, 0.5146942288160324, 0.49986681146621703, 0.49783742673397063, 0.48674728257656097, 0.47947416949272154, 0.4703493320703506, 0.463846213889122, 0.46030184621810916, 0.35282431950569154, 0.3128253523349762, 0.2936079780936241, 0.285434075987339, 0.271021805357933, 0.2614500901818275, 0.25773332157731055, 0.25350369902849196, 0.24756637530326844] [39.5825, 52.5625, 59.725, 63.5525, 66.835, 68.89, 70.9325, 72.6775, 73.5425, 74.65, 75.83, 76.62, 77.08, 78.0825, 78.43, 79.05, 79.7075, 80.5575, 80.645, 81.1875, 81.0575, 81.77, 82.1375, 82.3275, 82.7925, 83.1125, 83.365, 83.4825, 83.93, 83.9425, 87.7775, 89.0575, 89.665, 89.995, 90.54, 90.8175, 91.0675, 91.185, 91.3075]\n",
            "Epoch [39/60], Train Loss: 0.2476, Train Acc: 91.31%\n",
            "Epoch [39/60], Val Loss: 0.2090, Val Acc: 92.77%\n"
          ]
        },
        {
          "metadata": {
            "tags": null
          },
          "name": "stderr",
          "output_type": "stream",
          "text": [
            "Epoch 40: 100%|██████████| 625/625 [00:31<00:00, 20.06it/s]\n"
          ]
        },
        {
          "metadata": {
            "tags": null
          },
          "name": "stdout",
          "output_type": "stream",
          "text": [
            "[1.6726417638778686, 1.3180956398010253, 1.1401238682746888, 1.0278489245414735, 0.9425369316101074, 0.8806197268486023, 0.831613012599945, 0.7874833622932434, 0.7572672988891601, 0.7233934370040893, 0.6943179573059082, 0.6722040758132934, 0.6546427094459534, 0.6289902514457703, 0.6153308666229248, 0.6003420118331909, 0.5790060866355896, 0.5653226939201355, 0.5556784618377686, 0.5437922238826751, 0.5369805146694183, 0.5213568104743957, 0.5146942288160324, 0.49986681146621703, 0.49783742673397063, 0.48674728257656097, 0.47947416949272154, 0.4703493320703506, 0.463846213889122, 0.46030184621810916, 0.35282431950569154, 0.3128253523349762, 0.2936079780936241, 0.285434075987339, 0.271021805357933, 0.2614500901818275, 0.25773332157731055, 0.25350369902849196, 0.24756637530326844, 0.2385780513048172] [39.5825, 52.5625, 59.725, 63.5525, 66.835, 68.89, 70.9325, 72.6775, 73.5425, 74.65, 75.83, 76.62, 77.08, 78.0825, 78.43, 79.05, 79.7075, 80.5575, 80.645, 81.1875, 81.0575, 81.77, 82.1375, 82.3275, 82.7925, 83.1125, 83.365, 83.4825, 83.93, 83.9425, 87.7775, 89.0575, 89.665, 89.995, 90.54, 90.8175, 91.0675, 91.185, 91.3075, 91.6175]\n",
            "Epoch [40/60], Train Loss: 0.2386, Train Acc: 91.62%\n",
            "Epoch [40/60], Val Loss: 0.2074, Val Acc: 92.77%\n"
          ]
        },
        {
          "metadata": {
            "tags": null
          },
          "name": "stderr",
          "output_type": "stream",
          "text": [
            "Epoch 41: 100%|██████████| 625/625 [00:31<00:00, 19.72it/s]\n"
          ]
        },
        {
          "metadata": {
            "tags": null
          },
          "name": "stdout",
          "output_type": "stream",
          "text": [
            "[1.6726417638778686, 1.3180956398010253, 1.1401238682746888, 1.0278489245414735, 0.9425369316101074, 0.8806197268486023, 0.831613012599945, 0.7874833622932434, 0.7572672988891601, 0.7233934370040893, 0.6943179573059082, 0.6722040758132934, 0.6546427094459534, 0.6289902514457703, 0.6153308666229248, 0.6003420118331909, 0.5790060866355896, 0.5653226939201355, 0.5556784618377686, 0.5437922238826751, 0.5369805146694183, 0.5213568104743957, 0.5146942288160324, 0.49986681146621703, 0.49783742673397063, 0.48674728257656097, 0.47947416949272154, 0.4703493320703506, 0.463846213889122, 0.46030184621810916, 0.35282431950569154, 0.3128253523349762, 0.2936079780936241, 0.285434075987339, 0.271021805357933, 0.2614500901818275, 0.25773332157731055, 0.25350369902849196, 0.24756637530326844, 0.2385780513048172, 0.2300687853217125] [39.5825, 52.5625, 59.725, 63.5525, 66.835, 68.89, 70.9325, 72.6775, 73.5425, 74.65, 75.83, 76.62, 77.08, 78.0825, 78.43, 79.05, 79.7075, 80.5575, 80.645, 81.1875, 81.0575, 81.77, 82.1375, 82.3275, 82.7925, 83.1125, 83.365, 83.4825, 83.93, 83.9425, 87.7775, 89.0575, 89.665, 89.995, 90.54, 90.8175, 91.0675, 91.185, 91.3075, 91.6175, 91.8]\n",
            "Epoch [41/60], Train Loss: 0.2301, Train Acc: 91.80%\n",
            "Epoch [41/60], Val Loss: 0.2008, Val Acc: 92.93%\n"
          ]
        },
        {
          "metadata": {
            "tags": null
          },
          "name": "stderr",
          "output_type": "stream",
          "text": [
            "Epoch 42: 100%|██████████| 625/625 [00:31<00:00, 19.88it/s]\n"
          ]
        },
        {
          "metadata": {
            "tags": null
          },
          "name": "stdout",
          "output_type": "stream",
          "text": [
            "[1.6726417638778686, 1.3180956398010253, 1.1401238682746888, 1.0278489245414735, 0.9425369316101074, 0.8806197268486023, 0.831613012599945, 0.7874833622932434, 0.7572672988891601, 0.7233934370040893, 0.6943179573059082, 0.6722040758132934, 0.6546427094459534, 0.6289902514457703, 0.6153308666229248, 0.6003420118331909, 0.5790060866355896, 0.5653226939201355, 0.5556784618377686, 0.5437922238826751, 0.5369805146694183, 0.5213568104743957, 0.5146942288160324, 0.49986681146621703, 0.49783742673397063, 0.48674728257656097, 0.47947416949272154, 0.4703493320703506, 0.463846213889122, 0.46030184621810916, 0.35282431950569154, 0.3128253523349762, 0.2936079780936241, 0.285434075987339, 0.271021805357933, 0.2614500901818275, 0.25773332157731055, 0.25350369902849196, 0.24756637530326844, 0.2385780513048172, 0.2300687853217125, 0.22932448321580887] [39.5825, 52.5625, 59.725, 63.5525, 66.835, 68.89, 70.9325, 72.6775, 73.5425, 74.65, 75.83, 76.62, 77.08, 78.0825, 78.43, 79.05, 79.7075, 80.5575, 80.645, 81.1875, 81.0575, 81.77, 82.1375, 82.3275, 82.7925, 83.1125, 83.365, 83.4825, 83.93, 83.9425, 87.7775, 89.0575, 89.665, 89.995, 90.54, 90.8175, 91.0675, 91.185, 91.3075, 91.6175, 91.8, 91.895]\n",
            "Epoch [42/60], Train Loss: 0.2293, Train Acc: 91.89%\n",
            "Epoch [42/60], Val Loss: 0.1928, Val Acc: 93.31%\n"
          ]
        },
        {
          "metadata": {
            "tags": null
          },
          "name": "stderr",
          "output_type": "stream",
          "text": [
            "Epoch 43: 100%|██████████| 625/625 [00:31<00:00, 19.80it/s]\n"
          ]
        },
        {
          "metadata": {
            "tags": null
          },
          "name": "stdout",
          "output_type": "stream",
          "text": [
            "[1.6726417638778686, 1.3180956398010253, 1.1401238682746888, 1.0278489245414735, 0.9425369316101074, 0.8806197268486023, 0.831613012599945, 0.7874833622932434, 0.7572672988891601, 0.7233934370040893, 0.6943179573059082, 0.6722040758132934, 0.6546427094459534, 0.6289902514457703, 0.6153308666229248, 0.6003420118331909, 0.5790060866355896, 0.5653226939201355, 0.5556784618377686, 0.5437922238826751, 0.5369805146694183, 0.5213568104743957, 0.5146942288160324, 0.49986681146621703, 0.49783742673397063, 0.48674728257656097, 0.47947416949272154, 0.4703493320703506, 0.463846213889122, 0.46030184621810916, 0.35282431950569154, 0.3128253523349762, 0.2936079780936241, 0.285434075987339, 0.271021805357933, 0.2614500901818275, 0.25773332157731055, 0.25350369902849196, 0.24756637530326844, 0.2385780513048172, 0.2300687853217125, 0.22932448321580887, 0.22346919032931328] [39.5825, 52.5625, 59.725, 63.5525, 66.835, 68.89, 70.9325, 72.6775, 73.5425, 74.65, 75.83, 76.62, 77.08, 78.0825, 78.43, 79.05, 79.7075, 80.5575, 80.645, 81.1875, 81.0575, 81.77, 82.1375, 82.3275, 82.7925, 83.1125, 83.365, 83.4825, 83.93, 83.9425, 87.7775, 89.0575, 89.665, 89.995, 90.54, 90.8175, 91.0675, 91.185, 91.3075, 91.6175, 91.8, 91.895, 92.1875]\n",
            "Epoch [43/60], Train Loss: 0.2235, Train Acc: 92.19%\n",
            "Epoch [43/60], Val Loss: 0.1875, Val Acc: 93.49%\n"
          ]
        },
        {
          "metadata": {
            "tags": null
          },
          "name": "stderr",
          "output_type": "stream",
          "text": [
            "Epoch 44: 100%|██████████| 625/625 [00:30<00:00, 20.28it/s]\n"
          ]
        },
        {
          "metadata": {
            "tags": null
          },
          "name": "stdout",
          "output_type": "stream",
          "text": [
            "[1.6726417638778686, 1.3180956398010253, 1.1401238682746888, 1.0278489245414735, 0.9425369316101074, 0.8806197268486023, 0.831613012599945, 0.7874833622932434, 0.7572672988891601, 0.7233934370040893, 0.6943179573059082, 0.6722040758132934, 0.6546427094459534, 0.6289902514457703, 0.6153308666229248, 0.6003420118331909, 0.5790060866355896, 0.5653226939201355, 0.5556784618377686, 0.5437922238826751, 0.5369805146694183, 0.5213568104743957, 0.5146942288160324, 0.49986681146621703, 0.49783742673397063, 0.48674728257656097, 0.47947416949272154, 0.4703493320703506, 0.463846213889122, 0.46030184621810916, 0.35282431950569154, 0.3128253523349762, 0.2936079780936241, 0.285434075987339, 0.271021805357933, 0.2614500901818275, 0.25773332157731055, 0.25350369902849196, 0.24756637530326844, 0.2385780513048172, 0.2300687853217125, 0.22932448321580887, 0.22346919032931328, 0.21970741941928865] [39.5825, 52.5625, 59.725, 63.5525, 66.835, 68.89, 70.9325, 72.6775, 73.5425, 74.65, 75.83, 76.62, 77.08, 78.0825, 78.43, 79.05, 79.7075, 80.5575, 80.645, 81.1875, 81.0575, 81.77, 82.1375, 82.3275, 82.7925, 83.1125, 83.365, 83.4825, 83.93, 83.9425, 87.7775, 89.0575, 89.665, 89.995, 90.54, 90.8175, 91.0675, 91.185, 91.3075, 91.6175, 91.8, 91.895, 92.1875, 92.2475]\n",
            "Epoch [44/60], Train Loss: 0.2197, Train Acc: 92.25%\n",
            "Epoch [44/60], Val Loss: 0.1875, Val Acc: 93.56%\n"
          ]
        },
        {
          "metadata": {
            "tags": null
          },
          "name": "stderr",
          "output_type": "stream",
          "text": [
            "Epoch 45: 100%|██████████| 625/625 [00:31<00:00, 20.06it/s]\n"
          ]
        },
        {
          "metadata": {
            "tags": null
          },
          "name": "stdout",
          "output_type": "stream",
          "text": [
            "[1.6726417638778686, 1.3180956398010253, 1.1401238682746888, 1.0278489245414735, 0.9425369316101074, 0.8806197268486023, 0.831613012599945, 0.7874833622932434, 0.7572672988891601, 0.7233934370040893, 0.6943179573059082, 0.6722040758132934, 0.6546427094459534, 0.6289902514457703, 0.6153308666229248, 0.6003420118331909, 0.5790060866355896, 0.5653226939201355, 0.5556784618377686, 0.5437922238826751, 0.5369805146694183, 0.5213568104743957, 0.5146942288160324, 0.49986681146621703, 0.49783742673397063, 0.48674728257656097, 0.47947416949272154, 0.4703493320703506, 0.463846213889122, 0.46030184621810916, 0.35282431950569154, 0.3128253523349762, 0.2936079780936241, 0.285434075987339, 0.271021805357933, 0.2614500901818275, 0.25773332157731055, 0.25350369902849196, 0.24756637530326844, 0.2385780513048172, 0.2300687853217125, 0.22932448321580887, 0.22346919032931328, 0.21970741941928865, 0.2171721907019615] [39.5825, 52.5625, 59.725, 63.5525, 66.835, 68.89, 70.9325, 72.6775, 73.5425, 74.65, 75.83, 76.62, 77.08, 78.0825, 78.43, 79.05, 79.7075, 80.5575, 80.645, 81.1875, 81.0575, 81.77, 82.1375, 82.3275, 82.7925, 83.1125, 83.365, 83.4825, 83.93, 83.9425, 87.7775, 89.0575, 89.665, 89.995, 90.54, 90.8175, 91.0675, 91.185, 91.3075, 91.6175, 91.8, 91.895, 92.1875, 92.2475, 92.2975]\n",
            "Epoch [45/60], Train Loss: 0.2172, Train Acc: 92.30%\n",
            "Epoch [45/60], Val Loss: 0.1774, Val Acc: 93.86%\n"
          ]
        },
        {
          "metadata": {
            "tags": null
          },
          "name": "stderr",
          "output_type": "stream",
          "text": [
            "Epoch 46: 100%|██████████| 625/625 [00:30<00:00, 20.53it/s]\n"
          ]
        },
        {
          "metadata": {
            "tags": null
          },
          "name": "stdout",
          "output_type": "stream",
          "text": [
            "[1.6726417638778686, 1.3180956398010253, 1.1401238682746888, 1.0278489245414735, 0.9425369316101074, 0.8806197268486023, 0.831613012599945, 0.7874833622932434, 0.7572672988891601, 0.7233934370040893, 0.6943179573059082, 0.6722040758132934, 0.6546427094459534, 0.6289902514457703, 0.6153308666229248, 0.6003420118331909, 0.5790060866355896, 0.5653226939201355, 0.5556784618377686, 0.5437922238826751, 0.5369805146694183, 0.5213568104743957, 0.5146942288160324, 0.49986681146621703, 0.49783742673397063, 0.48674728257656097, 0.47947416949272154, 0.4703493320703506, 0.463846213889122, 0.46030184621810916, 0.35282431950569154, 0.3128253523349762, 0.2936079780936241, 0.285434075987339, 0.271021805357933, 0.2614500901818275, 0.25773332157731055, 0.25350369902849196, 0.24756637530326844, 0.2385780513048172, 0.2300687853217125, 0.22932448321580887, 0.22346919032931328, 0.21970741941928865, 0.2171721907019615, 0.20669776616692542] [39.5825, 52.5625, 59.725, 63.5525, 66.835, 68.89, 70.9325, 72.6775, 73.5425, 74.65, 75.83, 76.62, 77.08, 78.0825, 78.43, 79.05, 79.7075, 80.5575, 80.645, 81.1875, 81.0575, 81.77, 82.1375, 82.3275, 82.7925, 83.1125, 83.365, 83.4825, 83.93, 83.9425, 87.7775, 89.0575, 89.665, 89.995, 90.54, 90.8175, 91.0675, 91.185, 91.3075, 91.6175, 91.8, 91.895, 92.1875, 92.2475, 92.2975, 92.685]\n",
            "Epoch [46/60], Train Loss: 0.2067, Train Acc: 92.69%\n",
            "Epoch [46/60], Val Loss: 0.1780, Val Acc: 93.80%\n"
          ]
        },
        {
          "metadata": {
            "tags": null
          },
          "name": "stderr",
          "output_type": "stream",
          "text": [
            "Epoch 47: 100%|██████████| 625/625 [00:30<00:00, 20.80it/s]\n"
          ]
        },
        {
          "metadata": {
            "tags": null
          },
          "name": "stdout",
          "output_type": "stream",
          "text": [
            "[1.6726417638778686, 1.3180956398010253, 1.1401238682746888, 1.0278489245414735, 0.9425369316101074, 0.8806197268486023, 0.831613012599945, 0.7874833622932434, 0.7572672988891601, 0.7233934370040893, 0.6943179573059082, 0.6722040758132934, 0.6546427094459534, 0.6289902514457703, 0.6153308666229248, 0.6003420118331909, 0.5790060866355896, 0.5653226939201355, 0.5556784618377686, 0.5437922238826751, 0.5369805146694183, 0.5213568104743957, 0.5146942288160324, 0.49986681146621703, 0.49783742673397063, 0.48674728257656097, 0.47947416949272154, 0.4703493320703506, 0.463846213889122, 0.46030184621810916, 0.35282431950569154, 0.3128253523349762, 0.2936079780936241, 0.285434075987339, 0.271021805357933, 0.2614500901818275, 0.25773332157731055, 0.25350369902849196, 0.24756637530326844, 0.2385780513048172, 0.2300687853217125, 0.22932448321580887, 0.22346919032931328, 0.21970741941928865, 0.2171721907019615, 0.20669776616692542, 0.2067256705582142] [39.5825, 52.5625, 59.725, 63.5525, 66.835, 68.89, 70.9325, 72.6775, 73.5425, 74.65, 75.83, 76.62, 77.08, 78.0825, 78.43, 79.05, 79.7075, 80.5575, 80.645, 81.1875, 81.0575, 81.77, 82.1375, 82.3275, 82.7925, 83.1125, 83.365, 83.4825, 83.93, 83.9425, 87.7775, 89.0575, 89.665, 89.995, 90.54, 90.8175, 91.0675, 91.185, 91.3075, 91.6175, 91.8, 91.895, 92.1875, 92.2475, 92.2975, 92.685, 92.6825]\n",
            "Epoch [47/60], Train Loss: 0.2067, Train Acc: 92.68%\n",
            "Epoch [47/60], Val Loss: 0.1704, Val Acc: 94.09%\n"
          ]
        },
        {
          "metadata": {
            "tags": null
          },
          "name": "stderr",
          "output_type": "stream",
          "text": [
            "Epoch 48: 100%|██████████| 625/625 [00:30<00:00, 20.27it/s]\n"
          ]
        },
        {
          "metadata": {
            "tags": null
          },
          "name": "stdout",
          "output_type": "stream",
          "text": [
            "[1.6726417638778686, 1.3180956398010253, 1.1401238682746888, 1.0278489245414735, 0.9425369316101074, 0.8806197268486023, 0.831613012599945, 0.7874833622932434, 0.7572672988891601, 0.7233934370040893, 0.6943179573059082, 0.6722040758132934, 0.6546427094459534, 0.6289902514457703, 0.6153308666229248, 0.6003420118331909, 0.5790060866355896, 0.5653226939201355, 0.5556784618377686, 0.5437922238826751, 0.5369805146694183, 0.5213568104743957, 0.5146942288160324, 0.49986681146621703, 0.49783742673397063, 0.48674728257656097, 0.47947416949272154, 0.4703493320703506, 0.463846213889122, 0.46030184621810916, 0.35282431950569154, 0.3128253523349762, 0.2936079780936241, 0.285434075987339, 0.271021805357933, 0.2614500901818275, 0.25773332157731055, 0.25350369902849196, 0.24756637530326844, 0.2385780513048172, 0.2300687853217125, 0.22932448321580887, 0.22346919032931328, 0.21970741941928865, 0.2171721907019615, 0.20669776616692542, 0.2067256705582142, 0.20228974892497062] [39.5825, 52.5625, 59.725, 63.5525, 66.835, 68.89, 70.9325, 72.6775, 73.5425, 74.65, 75.83, 76.62, 77.08, 78.0825, 78.43, 79.05, 79.7075, 80.5575, 80.645, 81.1875, 81.0575, 81.77, 82.1375, 82.3275, 82.7925, 83.1125, 83.365, 83.4825, 83.93, 83.9425, 87.7775, 89.0575, 89.665, 89.995, 90.54, 90.8175, 91.0675, 91.185, 91.3075, 91.6175, 91.8, 91.895, 92.1875, 92.2475, 92.2975, 92.685, 92.6825, 92.895]\n",
            "Epoch [48/60], Train Loss: 0.2023, Train Acc: 92.89%\n",
            "Epoch [48/60], Val Loss: 0.1704, Val Acc: 94.08%\n"
          ]
        },
        {
          "metadata": {
            "tags": null
          },
          "name": "stderr",
          "output_type": "stream",
          "text": [
            "Epoch 49: 100%|██████████| 625/625 [00:31<00:00, 19.91it/s]\n"
          ]
        },
        {
          "metadata": {
            "tags": null
          },
          "name": "stdout",
          "output_type": "stream",
          "text": [
            "[1.6726417638778686, 1.3180956398010253, 1.1401238682746888, 1.0278489245414735, 0.9425369316101074, 0.8806197268486023, 0.831613012599945, 0.7874833622932434, 0.7572672988891601, 0.7233934370040893, 0.6943179573059082, 0.6722040758132934, 0.6546427094459534, 0.6289902514457703, 0.6153308666229248, 0.6003420118331909, 0.5790060866355896, 0.5653226939201355, 0.5556784618377686, 0.5437922238826751, 0.5369805146694183, 0.5213568104743957, 0.5146942288160324, 0.49986681146621703, 0.49783742673397063, 0.48674728257656097, 0.47947416949272154, 0.4703493320703506, 0.463846213889122, 0.46030184621810916, 0.35282431950569154, 0.3128253523349762, 0.2936079780936241, 0.285434075987339, 0.271021805357933, 0.2614500901818275, 0.25773332157731055, 0.25350369902849196, 0.24756637530326844, 0.2385780513048172, 0.2300687853217125, 0.22932448321580887, 0.22346919032931328, 0.21970741941928865, 0.2171721907019615, 0.20669776616692542, 0.2067256705582142, 0.20228974892497062, 0.19786948919296266] [39.5825, 52.5625, 59.725, 63.5525, 66.835, 68.89, 70.9325, 72.6775, 73.5425, 74.65, 75.83, 76.62, 77.08, 78.0825, 78.43, 79.05, 79.7075, 80.5575, 80.645, 81.1875, 81.0575, 81.77, 82.1375, 82.3275, 82.7925, 83.1125, 83.365, 83.4825, 83.93, 83.9425, 87.7775, 89.0575, 89.665, 89.995, 90.54, 90.8175, 91.0675, 91.185, 91.3075, 91.6175, 91.8, 91.895, 92.1875, 92.2475, 92.2975, 92.685, 92.6825, 92.895, 93.08]\n",
            "Epoch [49/60], Train Loss: 0.1979, Train Acc: 93.08%\n",
            "Epoch [49/60], Val Loss: 0.1682, Val Acc: 94.14%\n"
          ]
        },
        {
          "metadata": {
            "tags": null
          },
          "name": "stderr",
          "output_type": "stream",
          "text": [
            "Epoch 50: 100%|██████████| 625/625 [00:30<00:00, 20.45it/s]\n"
          ]
        },
        {
          "metadata": {
            "tags": null
          },
          "name": "stdout",
          "output_type": "stream",
          "text": [
            "[1.6726417638778686, 1.3180956398010253, 1.1401238682746888, 1.0278489245414735, 0.9425369316101074, 0.8806197268486023, 0.831613012599945, 0.7874833622932434, 0.7572672988891601, 0.7233934370040893, 0.6943179573059082, 0.6722040758132934, 0.6546427094459534, 0.6289902514457703, 0.6153308666229248, 0.6003420118331909, 0.5790060866355896, 0.5653226939201355, 0.5556784618377686, 0.5437922238826751, 0.5369805146694183, 0.5213568104743957, 0.5146942288160324, 0.49986681146621703, 0.49783742673397063, 0.48674728257656097, 0.47947416949272154, 0.4703493320703506, 0.463846213889122, 0.46030184621810916, 0.35282431950569154, 0.3128253523349762, 0.2936079780936241, 0.285434075987339, 0.271021805357933, 0.2614500901818275, 0.25773332157731055, 0.25350369902849196, 0.24756637530326844, 0.2385780513048172, 0.2300687853217125, 0.22932448321580887, 0.22346919032931328, 0.21970741941928865, 0.2171721907019615, 0.20669776616692542, 0.2067256705582142, 0.20228974892497062, 0.19786948919296266, 0.19556878661513327] [39.5825, 52.5625, 59.725, 63.5525, 66.835, 68.89, 70.9325, 72.6775, 73.5425, 74.65, 75.83, 76.62, 77.08, 78.0825, 78.43, 79.05, 79.7075, 80.5575, 80.645, 81.1875, 81.0575, 81.77, 82.1375, 82.3275, 82.7925, 83.1125, 83.365, 83.4825, 83.93, 83.9425, 87.7775, 89.0575, 89.665, 89.995, 90.54, 90.8175, 91.0675, 91.185, 91.3075, 91.6175, 91.8, 91.895, 92.1875, 92.2475, 92.2975, 92.685, 92.6825, 92.895, 93.08, 93.0675]\n",
            "Epoch [50/60], Train Loss: 0.1956, Train Acc: 93.07%\n",
            "Epoch [50/60], Val Loss: 0.1596, Val Acc: 94.52%\n"
          ]
        },
        {
          "metadata": {
            "tags": null
          },
          "name": "stderr",
          "output_type": "stream",
          "text": [
            "Epoch 51: 100%|██████████| 625/625 [00:29<00:00, 21.06it/s]\n"
          ]
        },
        {
          "metadata": {
            "tags": null
          },
          "name": "stdout",
          "output_type": "stream",
          "text": [
            "[1.6726417638778686, 1.3180956398010253, 1.1401238682746888, 1.0278489245414735, 0.9425369316101074, 0.8806197268486023, 0.831613012599945, 0.7874833622932434, 0.7572672988891601, 0.7233934370040893, 0.6943179573059082, 0.6722040758132934, 0.6546427094459534, 0.6289902514457703, 0.6153308666229248, 0.6003420118331909, 0.5790060866355896, 0.5653226939201355, 0.5556784618377686, 0.5437922238826751, 0.5369805146694183, 0.5213568104743957, 0.5146942288160324, 0.49986681146621703, 0.49783742673397063, 0.48674728257656097, 0.47947416949272154, 0.4703493320703506, 0.463846213889122, 0.46030184621810916, 0.35282431950569154, 0.3128253523349762, 0.2936079780936241, 0.285434075987339, 0.271021805357933, 0.2614500901818275, 0.25773332157731055, 0.25350369902849196, 0.24756637530326844, 0.2385780513048172, 0.2300687853217125, 0.22932448321580887, 0.22346919032931328, 0.21970741941928865, 0.2171721907019615, 0.20669776616692542, 0.2067256705582142, 0.20228974892497062, 0.19786948919296266, 0.19556878661513327, 0.19485546343326568] [39.5825, 52.5625, 59.725, 63.5525, 66.835, 68.89, 70.9325, 72.6775, 73.5425, 74.65, 75.83, 76.62, 77.08, 78.0825, 78.43, 79.05, 79.7075, 80.5575, 80.645, 81.1875, 81.0575, 81.77, 82.1375, 82.3275, 82.7925, 83.1125, 83.365, 83.4825, 83.93, 83.9425, 87.7775, 89.0575, 89.665, 89.995, 90.54, 90.8175, 91.0675, 91.185, 91.3075, 91.6175, 91.8, 91.895, 92.1875, 92.2475, 92.2975, 92.685, 92.6825, 92.895, 93.08, 93.0675, 93.0425]\n",
            "Epoch [51/60], Train Loss: 0.1949, Train Acc: 93.04%\n",
            "Epoch [51/60], Val Loss: 0.1561, Val Acc: 94.71%\n"
          ]
        },
        {
          "metadata": {
            "tags": null
          },
          "name": "stderr",
          "output_type": "stream",
          "text": [
            "Epoch 52: 100%|██████████| 625/625 [00:30<00:00, 20.55it/s]\n"
          ]
        },
        {
          "metadata": {
            "tags": null
          },
          "name": "stdout",
          "output_type": "stream",
          "text": [
            "[1.6726417638778686, 1.3180956398010253, 1.1401238682746888, 1.0278489245414735, 0.9425369316101074, 0.8806197268486023, 0.831613012599945, 0.7874833622932434, 0.7572672988891601, 0.7233934370040893, 0.6943179573059082, 0.6722040758132934, 0.6546427094459534, 0.6289902514457703, 0.6153308666229248, 0.6003420118331909, 0.5790060866355896, 0.5653226939201355, 0.5556784618377686, 0.5437922238826751, 0.5369805146694183, 0.5213568104743957, 0.5146942288160324, 0.49986681146621703, 0.49783742673397063, 0.48674728257656097, 0.47947416949272154, 0.4703493320703506, 0.463846213889122, 0.46030184621810916, 0.35282431950569154, 0.3128253523349762, 0.2936079780936241, 0.285434075987339, 0.271021805357933, 0.2614500901818275, 0.25773332157731055, 0.25350369902849196, 0.24756637530326844, 0.2385780513048172, 0.2300687853217125, 0.22932448321580887, 0.22346919032931328, 0.21970741941928865, 0.2171721907019615, 0.20669776616692542, 0.2067256705582142, 0.20228974892497062, 0.19786948919296266, 0.19556878661513327, 0.19485546343326568, 0.1881791630268097] [39.5825, 52.5625, 59.725, 63.5525, 66.835, 68.89, 70.9325, 72.6775, 73.5425, 74.65, 75.83, 76.62, 77.08, 78.0825, 78.43, 79.05, 79.7075, 80.5575, 80.645, 81.1875, 81.0575, 81.77, 82.1375, 82.3275, 82.7925, 83.1125, 83.365, 83.4825, 83.93, 83.9425, 87.7775, 89.0575, 89.665, 89.995, 90.54, 90.8175, 91.0675, 91.185, 91.3075, 91.6175, 91.8, 91.895, 92.1875, 92.2475, 92.2975, 92.685, 92.6825, 92.895, 93.08, 93.0675, 93.0425, 93.35]\n",
            "Epoch [52/60], Train Loss: 0.1882, Train Acc: 93.35%\n",
            "Epoch [52/60], Val Loss: 0.1569, Val Acc: 94.61%\n"
          ]
        },
        {
          "metadata": {
            "tags": null
          },
          "name": "stderr",
          "output_type": "stream",
          "text": [
            "Epoch 53: 100%|██████████| 625/625 [00:31<00:00, 19.89it/s]\n"
          ]
        },
        {
          "metadata": {
            "tags": null
          },
          "name": "stdout",
          "output_type": "stream",
          "text": [
            "[1.6726417638778686, 1.3180956398010253, 1.1401238682746888, 1.0278489245414735, 0.9425369316101074, 0.8806197268486023, 0.831613012599945, 0.7874833622932434, 0.7572672988891601, 0.7233934370040893, 0.6943179573059082, 0.6722040758132934, 0.6546427094459534, 0.6289902514457703, 0.6153308666229248, 0.6003420118331909, 0.5790060866355896, 0.5653226939201355, 0.5556784618377686, 0.5437922238826751, 0.5369805146694183, 0.5213568104743957, 0.5146942288160324, 0.49986681146621703, 0.49783742673397063, 0.48674728257656097, 0.47947416949272154, 0.4703493320703506, 0.463846213889122, 0.46030184621810916, 0.35282431950569154, 0.3128253523349762, 0.2936079780936241, 0.285434075987339, 0.271021805357933, 0.2614500901818275, 0.25773332157731055, 0.25350369902849196, 0.24756637530326844, 0.2385780513048172, 0.2300687853217125, 0.22932448321580887, 0.22346919032931328, 0.21970741941928865, 0.2171721907019615, 0.20669776616692542, 0.2067256705582142, 0.20228974892497062, 0.19786948919296266, 0.19556878661513327, 0.19485546343326568, 0.1881791630268097, 0.18159598544538022] [39.5825, 52.5625, 59.725, 63.5525, 66.835, 68.89, 70.9325, 72.6775, 73.5425, 74.65, 75.83, 76.62, 77.08, 78.0825, 78.43, 79.05, 79.7075, 80.5575, 80.645, 81.1875, 81.0575, 81.77, 82.1375, 82.3275, 82.7925, 83.1125, 83.365, 83.4825, 83.93, 83.9425, 87.7775, 89.0575, 89.665, 89.995, 90.54, 90.8175, 91.0675, 91.185, 91.3075, 91.6175, 91.8, 91.895, 92.1875, 92.2475, 92.2975, 92.685, 92.6825, 92.895, 93.08, 93.0675, 93.0425, 93.35, 93.565]\n",
            "Epoch [53/60], Train Loss: 0.1816, Train Acc: 93.56%\n",
            "Epoch [53/60], Val Loss: 0.1511, Val Acc: 94.88%\n"
          ]
        },
        {
          "metadata": {
            "tags": null
          },
          "name": "stderr",
          "output_type": "stream",
          "text": [
            "Epoch 54: 100%|██████████| 625/625 [00:30<00:00, 20.17it/s]\n"
          ]
        },
        {
          "metadata": {
            "tags": null
          },
          "name": "stdout",
          "output_type": "stream",
          "text": [
            "[1.6726417638778686, 1.3180956398010253, 1.1401238682746888, 1.0278489245414735, 0.9425369316101074, 0.8806197268486023, 0.831613012599945, 0.7874833622932434, 0.7572672988891601, 0.7233934370040893, 0.6943179573059082, 0.6722040758132934, 0.6546427094459534, 0.6289902514457703, 0.6153308666229248, 0.6003420118331909, 0.5790060866355896, 0.5653226939201355, 0.5556784618377686, 0.5437922238826751, 0.5369805146694183, 0.5213568104743957, 0.5146942288160324, 0.49986681146621703, 0.49783742673397063, 0.48674728257656097, 0.47947416949272154, 0.4703493320703506, 0.463846213889122, 0.46030184621810916, 0.35282431950569154, 0.3128253523349762, 0.2936079780936241, 0.285434075987339, 0.271021805357933, 0.2614500901818275, 0.25773332157731055, 0.25350369902849196, 0.24756637530326844, 0.2385780513048172, 0.2300687853217125, 0.22932448321580887, 0.22346919032931328, 0.21970741941928865, 0.2171721907019615, 0.20669776616692542, 0.2067256705582142, 0.20228974892497062, 0.19786948919296266, 0.19556878661513327, 0.19485546343326568, 0.1881791630268097, 0.18159598544538022, 0.18372165110111235] [39.5825, 52.5625, 59.725, 63.5525, 66.835, 68.89, 70.9325, 72.6775, 73.5425, 74.65, 75.83, 76.62, 77.08, 78.0825, 78.43, 79.05, 79.7075, 80.5575, 80.645, 81.1875, 81.0575, 81.77, 82.1375, 82.3275, 82.7925, 83.1125, 83.365, 83.4825, 83.93, 83.9425, 87.7775, 89.0575, 89.665, 89.995, 90.54, 90.8175, 91.0675, 91.185, 91.3075, 91.6175, 91.8, 91.895, 92.1875, 92.2475, 92.2975, 92.685, 92.6825, 92.895, 93.08, 93.0675, 93.0425, 93.35, 93.565, 93.5725]\n",
            "Epoch [54/60], Train Loss: 0.1837, Train Acc: 93.57%\n",
            "Epoch [54/60], Val Loss: 0.1466, Val Acc: 94.96%\n"
          ]
        },
        {
          "metadata": {
            "tags": null
          },
          "name": "stderr",
          "output_type": "stream",
          "text": [
            "Epoch 55: 100%|██████████| 625/625 [00:30<00:00, 20.52it/s]\n"
          ]
        },
        {
          "metadata": {
            "tags": null
          },
          "name": "stdout",
          "output_type": "stream",
          "text": [
            "[1.6726417638778686, 1.3180956398010253, 1.1401238682746888, 1.0278489245414735, 0.9425369316101074, 0.8806197268486023, 0.831613012599945, 0.7874833622932434, 0.7572672988891601, 0.7233934370040893, 0.6943179573059082, 0.6722040758132934, 0.6546427094459534, 0.6289902514457703, 0.6153308666229248, 0.6003420118331909, 0.5790060866355896, 0.5653226939201355, 0.5556784618377686, 0.5437922238826751, 0.5369805146694183, 0.5213568104743957, 0.5146942288160324, 0.49986681146621703, 0.49783742673397063, 0.48674728257656097, 0.47947416949272154, 0.4703493320703506, 0.463846213889122, 0.46030184621810916, 0.35282431950569154, 0.3128253523349762, 0.2936079780936241, 0.285434075987339, 0.271021805357933, 0.2614500901818275, 0.25773332157731055, 0.25350369902849196, 0.24756637530326844, 0.2385780513048172, 0.2300687853217125, 0.22932448321580887, 0.22346919032931328, 0.21970741941928865, 0.2171721907019615, 0.20669776616692542, 0.2067256705582142, 0.20228974892497062, 0.19786948919296266, 0.19556878661513327, 0.19485546343326568, 0.1881791630268097, 0.18159598544538022, 0.18372165110111235, 0.17929266518950462] [39.5825, 52.5625, 59.725, 63.5525, 66.835, 68.89, 70.9325, 72.6775, 73.5425, 74.65, 75.83, 76.62, 77.08, 78.0825, 78.43, 79.05, 79.7075, 80.5575, 80.645, 81.1875, 81.0575, 81.77, 82.1375, 82.3275, 82.7925, 83.1125, 83.365, 83.4825, 83.93, 83.9425, 87.7775, 89.0575, 89.665, 89.995, 90.54, 90.8175, 91.0675, 91.185, 91.3075, 91.6175, 91.8, 91.895, 92.1875, 92.2475, 92.2975, 92.685, 92.6825, 92.895, 93.08, 93.0675, 93.0425, 93.35, 93.565, 93.5725, 93.575]\n",
            "Epoch [55/60], Train Loss: 0.1793, Train Acc: 93.58%\n",
            "Epoch [55/60], Val Loss: 0.1479, Val Acc: 94.77%\n"
          ]
        },
        {
          "metadata": {
            "tags": null
          },
          "name": "stderr",
          "output_type": "stream",
          "text": [
            "Epoch 56: 100%|██████████| 625/625 [00:30<00:00, 20.64it/s]\n"
          ]
        },
        {
          "metadata": {
            "tags": null
          },
          "name": "stdout",
          "output_type": "stream",
          "text": [
            "[1.6726417638778686, 1.3180956398010253, 1.1401238682746888, 1.0278489245414735, 0.9425369316101074, 0.8806197268486023, 0.831613012599945, 0.7874833622932434, 0.7572672988891601, 0.7233934370040893, 0.6943179573059082, 0.6722040758132934, 0.6546427094459534, 0.6289902514457703, 0.6153308666229248, 0.6003420118331909, 0.5790060866355896, 0.5653226939201355, 0.5556784618377686, 0.5437922238826751, 0.5369805146694183, 0.5213568104743957, 0.5146942288160324, 0.49986681146621703, 0.49783742673397063, 0.48674728257656097, 0.47947416949272154, 0.4703493320703506, 0.463846213889122, 0.46030184621810916, 0.35282431950569154, 0.3128253523349762, 0.2936079780936241, 0.285434075987339, 0.271021805357933, 0.2614500901818275, 0.25773332157731055, 0.25350369902849196, 0.24756637530326844, 0.2385780513048172, 0.2300687853217125, 0.22932448321580887, 0.22346919032931328, 0.21970741941928865, 0.2171721907019615, 0.20669776616692542, 0.2067256705582142, 0.20228974892497062, 0.19786948919296266, 0.19556878661513327, 0.19485546343326568, 0.1881791630268097, 0.18159598544538022, 0.18372165110111235, 0.17929266518950462, 0.17488081285953522] [39.5825, 52.5625, 59.725, 63.5525, 66.835, 68.89, 70.9325, 72.6775, 73.5425, 74.65, 75.83, 76.62, 77.08, 78.0825, 78.43, 79.05, 79.7075, 80.5575, 80.645, 81.1875, 81.0575, 81.77, 82.1375, 82.3275, 82.7925, 83.1125, 83.365, 83.4825, 83.93, 83.9425, 87.7775, 89.0575, 89.665, 89.995, 90.54, 90.8175, 91.0675, 91.185, 91.3075, 91.6175, 91.8, 91.895, 92.1875, 92.2475, 92.2975, 92.685, 92.6825, 92.895, 93.08, 93.0675, 93.0425, 93.35, 93.565, 93.5725, 93.575, 93.6675]\n",
            "Epoch [56/60], Train Loss: 0.1749, Train Acc: 93.67%\n",
            "Epoch [56/60], Val Loss: 0.1435, Val Acc: 94.88%\n"
          ]
        },
        {
          "metadata": {
            "tags": null
          },
          "name": "stderr",
          "output_type": "stream",
          "text": [
            "Epoch 57: 100%|██████████| 625/625 [00:30<00:00, 20.29it/s]\n"
          ]
        },
        {
          "metadata": {
            "tags": null
          },
          "name": "stdout",
          "output_type": "stream",
          "text": [
            "[1.6726417638778686, 1.3180956398010253, 1.1401238682746888, 1.0278489245414735, 0.9425369316101074, 0.8806197268486023, 0.831613012599945, 0.7874833622932434, 0.7572672988891601, 0.7233934370040893, 0.6943179573059082, 0.6722040758132934, 0.6546427094459534, 0.6289902514457703, 0.6153308666229248, 0.6003420118331909, 0.5790060866355896, 0.5653226939201355, 0.5556784618377686, 0.5437922238826751, 0.5369805146694183, 0.5213568104743957, 0.5146942288160324, 0.49986681146621703, 0.49783742673397063, 0.48674728257656097, 0.47947416949272154, 0.4703493320703506, 0.463846213889122, 0.46030184621810916, 0.35282431950569154, 0.3128253523349762, 0.2936079780936241, 0.285434075987339, 0.271021805357933, 0.2614500901818275, 0.25773332157731055, 0.25350369902849196, 0.24756637530326844, 0.2385780513048172, 0.2300687853217125, 0.22932448321580887, 0.22346919032931328, 0.21970741941928865, 0.2171721907019615, 0.20669776616692542, 0.2067256705582142, 0.20228974892497062, 0.19786948919296266, 0.19556878661513327, 0.19485546343326568, 0.1881791630268097, 0.18159598544538022, 0.18372165110111235, 0.17929266518950462, 0.17488081285953522, 0.1732405718177557] [39.5825, 52.5625, 59.725, 63.5525, 66.835, 68.89, 70.9325, 72.6775, 73.5425, 74.65, 75.83, 76.62, 77.08, 78.0825, 78.43, 79.05, 79.7075, 80.5575, 80.645, 81.1875, 81.0575, 81.77, 82.1375, 82.3275, 82.7925, 83.1125, 83.365, 83.4825, 83.93, 83.9425, 87.7775, 89.0575, 89.665, 89.995, 90.54, 90.8175, 91.0675, 91.185, 91.3075, 91.6175, 91.8, 91.895, 92.1875, 92.2475, 92.2975, 92.685, 92.6825, 92.895, 93.08, 93.0675, 93.0425, 93.35, 93.565, 93.5725, 93.575, 93.6675, 93.9075]\n",
            "Epoch [57/60], Train Loss: 0.1732, Train Acc: 93.91%\n",
            "Epoch [57/60], Val Loss: 0.1372, Val Acc: 95.31%\n"
          ]
        },
        {
          "metadata": {
            "tags": null
          },
          "name": "stderr",
          "output_type": "stream",
          "text": [
            "Epoch 58: 100%|██████████| 625/625 [00:29<00:00, 20.94it/s]\n"
          ]
        },
        {
          "metadata": {
            "tags": null
          },
          "name": "stdout",
          "output_type": "stream",
          "text": [
            "[1.6726417638778686, 1.3180956398010253, 1.1401238682746888, 1.0278489245414735, 0.9425369316101074, 0.8806197268486023, 0.831613012599945, 0.7874833622932434, 0.7572672988891601, 0.7233934370040893, 0.6943179573059082, 0.6722040758132934, 0.6546427094459534, 0.6289902514457703, 0.6153308666229248, 0.6003420118331909, 0.5790060866355896, 0.5653226939201355, 0.5556784618377686, 0.5437922238826751, 0.5369805146694183, 0.5213568104743957, 0.5146942288160324, 0.49986681146621703, 0.49783742673397063, 0.48674728257656097, 0.47947416949272154, 0.4703493320703506, 0.463846213889122, 0.46030184621810916, 0.35282431950569154, 0.3128253523349762, 0.2936079780936241, 0.285434075987339, 0.271021805357933, 0.2614500901818275, 0.25773332157731055, 0.25350369902849196, 0.24756637530326844, 0.2385780513048172, 0.2300687853217125, 0.22932448321580887, 0.22346919032931328, 0.21970741941928865, 0.2171721907019615, 0.20669776616692542, 0.2067256705582142, 0.20228974892497062, 0.19786948919296266, 0.19556878661513327, 0.19485546343326568, 0.1881791630268097, 0.18159598544538022, 0.18372165110111235, 0.17929266518950462, 0.17488081285953522, 0.1732405718177557, 0.16766622379124166] [39.5825, 52.5625, 59.725, 63.5525, 66.835, 68.89, 70.9325, 72.6775, 73.5425, 74.65, 75.83, 76.62, 77.08, 78.0825, 78.43, 79.05, 79.7075, 80.5575, 80.645, 81.1875, 81.0575, 81.77, 82.1375, 82.3275, 82.7925, 83.1125, 83.365, 83.4825, 83.93, 83.9425, 87.7775, 89.0575, 89.665, 89.995, 90.54, 90.8175, 91.0675, 91.185, 91.3075, 91.6175, 91.8, 91.895, 92.1875, 92.2475, 92.2975, 92.685, 92.6825, 92.895, 93.08, 93.0675, 93.0425, 93.35, 93.565, 93.5725, 93.575, 93.6675, 93.9075, 94.1]\n",
            "Epoch [58/60], Train Loss: 0.1677, Train Acc: 94.10%\n",
            "Epoch [58/60], Val Loss: 0.1336, Val Acc: 95.43%\n"
          ]
        },
        {
          "metadata": {
            "tags": null
          },
          "name": "stderr",
          "output_type": "stream",
          "text": [
            "Epoch 59: 100%|██████████| 625/625 [00:30<00:00, 20.55it/s]\n"
          ]
        },
        {
          "metadata": {
            "tags": null
          },
          "name": "stdout",
          "output_type": "stream",
          "text": [
            "[1.6726417638778686, 1.3180956398010253, 1.1401238682746888, 1.0278489245414735, 0.9425369316101074, 0.8806197268486023, 0.831613012599945, 0.7874833622932434, 0.7572672988891601, 0.7233934370040893, 0.6943179573059082, 0.6722040758132934, 0.6546427094459534, 0.6289902514457703, 0.6153308666229248, 0.6003420118331909, 0.5790060866355896, 0.5653226939201355, 0.5556784618377686, 0.5437922238826751, 0.5369805146694183, 0.5213568104743957, 0.5146942288160324, 0.49986681146621703, 0.49783742673397063, 0.48674728257656097, 0.47947416949272154, 0.4703493320703506, 0.463846213889122, 0.46030184621810916, 0.35282431950569154, 0.3128253523349762, 0.2936079780936241, 0.285434075987339, 0.271021805357933, 0.2614500901818275, 0.25773332157731055, 0.25350369902849196, 0.24756637530326844, 0.2385780513048172, 0.2300687853217125, 0.22932448321580887, 0.22346919032931328, 0.21970741941928865, 0.2171721907019615, 0.20669776616692542, 0.2067256705582142, 0.20228974892497062, 0.19786948919296266, 0.19556878661513327, 0.19485546343326568, 0.1881791630268097, 0.18159598544538022, 0.18372165110111235, 0.17929266518950462, 0.17488081285953522, 0.1732405718177557, 0.16766622379124166, 0.16532204186320304] [39.5825, 52.5625, 59.725, 63.5525, 66.835, 68.89, 70.9325, 72.6775, 73.5425, 74.65, 75.83, 76.62, 77.08, 78.0825, 78.43, 79.05, 79.7075, 80.5575, 80.645, 81.1875, 81.0575, 81.77, 82.1375, 82.3275, 82.7925, 83.1125, 83.365, 83.4825, 83.93, 83.9425, 87.7775, 89.0575, 89.665, 89.995, 90.54, 90.8175, 91.0675, 91.185, 91.3075, 91.6175, 91.8, 91.895, 92.1875, 92.2475, 92.2975, 92.685, 92.6825, 92.895, 93.08, 93.0675, 93.0425, 93.35, 93.565, 93.5725, 93.575, 93.6675, 93.9075, 94.1, 94.0925]\n",
            "Epoch [59/60], Train Loss: 0.1653, Train Acc: 94.09%\n",
            "Epoch [59/60], Val Loss: 0.1309, Val Acc: 95.45%\n"
          ]
        },
        {
          "metadata": {
            "tags": null
          },
          "name": "stderr",
          "output_type": "stream",
          "text": [
            "Epoch 60: 100%|██████████| 625/625 [00:30<00:00, 20.41it/s]\n"
          ]
        },
        {
          "output_type": "stream",
          "name": "stdout",
          "text": [
            "[1.6726417638778686, 1.3180956398010253, 1.1401238682746888, 1.0278489245414735, 0.9425369316101074, 0.8806197268486023, 0.831613012599945, 0.7874833622932434, 0.7572672988891601, 0.7233934370040893, 0.6943179573059082, 0.6722040758132934, 0.6546427094459534, 0.6289902514457703, 0.6153308666229248, 0.6003420118331909, 0.5790060866355896, 0.5653226939201355, 0.5556784618377686, 0.5437922238826751, 0.5369805146694183, 0.5213568104743957, 0.5146942288160324, 0.49986681146621703, 0.49783742673397063, 0.48674728257656097, 0.47947416949272154, 0.4703493320703506, 0.463846213889122, 0.46030184621810916, 0.35282431950569154, 0.3128253523349762, 0.2936079780936241, 0.285434075987339, 0.271021805357933, 0.2614500901818275, 0.25773332157731055, 0.25350369902849196, 0.24756637530326844, 0.2385780513048172, 0.2300687853217125, 0.22932448321580887, 0.22346919032931328, 0.21970741941928865, 0.2171721907019615, 0.20669776616692542, 0.2067256705582142, 0.20228974892497062, 0.19786948919296266, 0.19556878661513327, 0.19485546343326568, 0.1881791630268097, 0.18159598544538022, 0.18372165110111235, 0.17929266518950462, 0.17488081285953522, 0.1732405718177557, 0.16766622379124166, 0.16532204186320304, 0.163407718706131] [39.5825, 52.5625, 59.725, 63.5525, 66.835, 68.89, 70.9325, 72.6775, 73.5425, 74.65, 75.83, 76.62, 77.08, 78.0825, 78.43, 79.05, 79.7075, 80.5575, 80.645, 81.1875, 81.0575, 81.77, 82.1375, 82.3275, 82.7925, 83.1125, 83.365, 83.4825, 83.93, 83.9425, 87.7775, 89.0575, 89.665, 89.995, 90.54, 90.8175, 91.0675, 91.185, 91.3075, 91.6175, 91.8, 91.895, 92.1875, 92.2475, 92.2975, 92.685, 92.6825, 92.895, 93.08, 93.0675, 93.0425, 93.35, 93.565, 93.5725, 93.575, 93.6675, 93.9075, 94.1, 94.0925, 94.3225]\n",
            "Epoch [60/60], Train Loss: 0.1634, Train Acc: 94.32%\n",
            "Epoch [60/60], Val Loss: 0.1325, Val Acc: 95.47%\n"
          ]
        }
      ],
      "source": [
        "train_loss_history, val_loss_history, train_acc_history, val_acc_history = train_model(train_dataset=train_loader, val_dataset=val_loader, model=model, criterion=criterion, optimizer=optimizer, scheduler=scheduler, num_epochs=epoch)\n"
      ]
    },
    {
      "cell_type": "code",
      "source": [
        "test_model(test_dataset=test_loader, model=model, criterion=criterion, optimizer=optimizer)"
      ],
      "metadata": {
        "colab": {
          "base_uri": "https://localhost:8080/"
        },
        "id": "80pZMRPyCS9C",
        "outputId": "632d749a-c67b-4bb1-f467-08f4965c2db2"
      },
      "execution_count": null,
      "outputs": [
        {
          "output_type": "stream",
          "name": "stdout",
          "text": [
            "Test Accuracy: 85.04%\n"
          ]
        }
      ]
    },
    {
      "cell_type": "markdown",
      "metadata": {
        "id": "Odc8W-3MrRvw"
      },
      "source": [
        "### 학습 정확도, loss 그래프도 그려봅시다."
      ]
    },
    {
      "cell_type": "code",
      "execution_count": null,
      "metadata": {
        "colab": {
          "base_uri": "https://localhost:8080/",
          "height": 382
        },
        "id": "JHXpS3Jvq-Lz",
        "outputId": "5c7ea909-9cd8-4589-b355-8ab00988ecbf"
      },
      "outputs": [
        {
          "output_type": "display_data",
          "data": {
            "text/plain": [
              "<Figure size 1200x400 with 2 Axes>"
            ],
            "image/png": "[encoded data removed]"
          },
          "metadata": {}
        }
      ],
      "source": [
        "def plot_loss_accuracy(train_losses, val_losses, train_accuracies, val_accuracies):\n",
        "    epochs = range(1, len(train_losses) + 1)\n",
        "\n",
        "    plt.figure(figsize=(12, 4))\n",
        "\n",
        "    plt.subplot(1, 2, 1)\n",
        "    plt.plot(epochs, train_losses, label='Training Loss')\n",
        "    plt.plot(epochs, val_losses, label='Validation Loss')\n",
        "    plt.xlabel('Epoch')\n",
        "    plt.ylabel('Loss')\n",
        "    plt.title('Training and Validation Loss')\n",
        "    plt.legend()\n",
        "\n",
        "    plt.subplot(1, 2, 2)\n",
        "    plt.plot(epochs, train_accuracies, label='Training Accuracy')\n",
        "    plt.plot(epochs, val_accuracies, label='Validation Accuracy')\n",
        "    plt.xlabel('Epoch')\n",
        "    plt.ylabel('Accuracy')\n",
        "    plt.title('Training and Validation Accuracy')\n",
        "    plt.legend()\n",
        "\n",
        "    plt.tight_layout()\n",
        "    plt.show()\n",
        "\n",
        "### 실행 ###\n",
        "plot_loss_accuracy(train_loss_history, val_loss_history, train_acc_history, val_acc_history)"
      ]
    },
    {
      "cell_type": "markdown",
      "metadata": {
        "id": "w8YPMKMHrX2T"
      },
      "source": [
        "#### 문제 5. ResNet의 CIFAR-10에 대한 정확도는 약 91프로입니다. 그렇다면, 우리가 학습시킨 모델은 training data에 대해 underfitting된 것일까요? 아님 overfitting된 것일까요? 만일 underfitting되었다면, 추가적으로 모델을 학습시킬 수 있는 방법은 무엇이 있을까요? 학습률, optimizer, epoch 수, batch size, train-validation set split 비율 등등.. 학습과 연관이 있는 변수들과 관련지어서 설명해 주세요.  "
      ]
    },
    {
      "cell_type": "markdown",
      "metadata": {
        "id": "kQgiBe4ZvUpc"
      },
      "source": [
        "답:트레이닝 스코어는 95%를 넘는데, 테스트셋데 대해서는 성능이 85%밖에 안 되는 것을 보아 오버피팅 됐습니다. 학습률을 더 낮추고 학습시켜볼 필요가 있을 것으로 보입니다. 또한, 정규화를 더 해줄 수도 있습니다. 드롭아웃을 활용하면 오버피팅 문제가 완화될 것 같습니다."
      ]
    },
    {
      "cell_type": "markdown",
      "metadata": {
        "id": "BN0IzYItxWm7"
      },
      "source": [
        "# Part 2 네이버 영화리뷰 전처리 및 LSTM 구현\n",
        "\n",
        "이번 부분에서는 LSTM을 활용하여, 네이버 영화리뷰의 sentimental analysis를 진행해볼 것입니다. <br>\n",
        "\n",
        "\n"
      ]
    },
    {
      "cell_type": "markdown",
      "metadata": {
        "id": "QvKhlKJ0yFM3"
      },
      "source": [
        "###2.1 패키지 설치\n",
        "우선 필요한 패키지들을 pip을 통해 설치해 봅시다."
      ]
    },
    {
      "cell_type": "code",
      "execution_count": 4,
      "metadata": {
        "id": "QvCrh7LAHSMi",
        "colab": {
          "base_uri": "https://localhost:8080/"
        },
        "outputId": "23df2f04-d1b3-485a-b883-654a95dee52f"
      },
      "outputs": [
        {
          "output_type": "stream",
          "name": "stdout",
          "text": [
            "Requirement already satisfied: sentencepiece in /usr/local/lib/python3.10/dist-packages (0.1.99)\n",
            "Collecting wget\n",
            "  Downloading wget-3.2.zip (10 kB)\n",
            "  Preparing metadata (setup.py) ... \u001b[?25l\u001b[?25hdone\n",
            "Building wheels for collected packages: wget\n",
            "  Building wheel for wget (setup.py) ... \u001b[?25l\u001b[?25hdone\n",
            "  Created wheel for wget: filename=wget-3.2-py3-none-any.whl size=9656 sha256=a668f3539befd5f5ad75d0e44fe1c013f12d4ada322b1021bc89fc613569502c\n",
            "  Stored in directory: /root/.cache/pip/wheels/8b/f1/7f/5c94f0a7a505ca1c81cd1d9208ae2064675d97582078e6c769\n",
            "Successfully built wget\n",
            "Installing collected packages: wget\n",
            "Successfully installed wget-3.2\n"
          ]
        }
      ],
      "source": [
        "!pip install sentencepiece\n",
        "!pip install wget"
      ]
    },
    {
      "cell_type": "markdown",
      "metadata": {
        "id": "5Cu1rr1SyNHq"
      },
      "source": [
        "### 2.2 import 및 device 설정"
      ]
    },
    {
      "cell_type": "markdown",
      "metadata": {
        "id": "ukTPpR96BGyZ"
      },
      "source": [
        "필요한 라이브러리를 import하고, device를 GPU로 바꿔줍니다.\n",
        "\n",
        "다만, 코드를 구현하는 과정에서는 **CPU 사용**을 권장드립니다.\n",
        "\n",
        "GPU가 가장 많이 필요한 단계는 학습하는 과정인데 구현하는 시간동안 colab의 GPU를 다 써버리면 막상 학습할 때 필요한 GPU 자원을 쓸 수 없게 됩니다. 따라서 코드를 모두 구현하고 train 코드가 잘 돌아가는지 확인한 뒤에 colab 상단 런타임 메뉴에서 런타임 유형을 GPU로 바꾼 뒤에 실행하면 됩니다."
      ]
    },
    {
      "cell_type": "code",
      "source": [
        "import os\n",
        "import numpy as np\n",
        "import math\n",
        "import matplotlib.pyplot as plt\n",
        "import json\n",
        "import pandas as pd\n",
        "from IPython.display import display\n",
        "from tqdm import tqdm, tqdm_notebook, trange\n",
        "import sentencepiece as spm\n",
        "import wget\n",
        "\n",
        "import torch\n",
        "import torch.nn as nn\n",
        "import torch.nn.functional as F\n",
        "\n",
        "device = torch.device('cuda' if torch.cuda.is_available() else 'cpu')\n",
        "print('using device: ', device)"
      ],
      "metadata": {
        "colab": {
          "base_uri": "https://localhost:8080/"
        },
        "id": "a032rOEOQdWL",
        "outputId": "d96dd1fd-4b9d-4129-e81b-3accd595173d"
      },
      "execution_count": 5,
      "outputs": [
        {
          "output_type": "stream",
          "name": "stdout",
          "text": [
            "using device:  cuda\n"
          ]
        }
      ]
    },
    {
      "cell_type": "markdown",
      "metadata": {
        "id": "GSzC3DptVk07"
      },
      "source": [
        "### 2-3. Dataset\n",
        "이번 과제에서 사용할 데이터셋입니다. 아래 링크에서 다운 받은 뒤 위에서 설정한 data를 저장할 폴더에 저장해주세요! 폴더는 직접 생성하시거나, 아래 코드를 돌리고, 새로 생성된 디렉토리에 data를 저장해 주시면 됩니다. 직접 생성하신 경우엔, data_dir 경로를 새로 생성한 디렉토리의 경로로 수정해 주세요.\n",
        "\n",
        "colab에서 그 데이터를 직접 확인하는 코드는 작성해두지 않았습니다. 다만, 아래 사진을 첨부해드렸습니다. 데이터는 id, document, label로 구성되어 있고 id는 식별자, document는 리뷰 데이터, label은 긍정(1), 부정(0)을 의미합니다. 좀 더 자세하게 데이터가 어떻게 생겼는지 알고 싶으신 분들은 txt 파일을 열어보시면 확인할 수 있습니다.\n",
        "\n",
        "보통 csv나 xslx 형태의 텍스트 데이터들은 데이터프레임으로 가공 후 학습하거나 추론에 활용합니다. 데이터프레임으로 데이터를 불러왔다면\n",
        "ex) dataframe['id'], dataframe['document'] 와 같이 원하는 column의 데이터만을 확인할 수도 있습니다.\n",
        "\n",
        "![image.png](data:image/png;base64,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)\n",
        "\n",
        "\n",
        "https://drive.google.com/drive/folders/15XGr-L-W6DSoR5TbniPMJASPsA0IDTiN\n"
      ]
    },
    {
      "cell_type": "code",
      "execution_count": 6,
      "metadata": {
        "id": "5NtruS9efqMW"
      },
      "outputs": [],
      "source": [
        "# data를 저장할 폴더 입니다. 환경에 맞게 수정 하세요.\n",
        "data_dir = \"/content/drive/MyDrive/D2D/data\"\n",
        "os.makedirs(data_dir, exist_ok=True)"
      ]
    },
    {
      "cell_type": "markdown",
      "metadata": {
        "id": "fj8iGv_HIbQp"
      },
      "source": [
        "### 2-4. 폴더의 목록을 확인\n",
        "Google Drive mount가 잘 되었는지 확인하기 위해 data_dir 목록을 확인 합니다."
      ]
    },
    {
      "cell_type": "code",
      "execution_count": 7,
      "metadata": {
        "id": "8pjohaiGId95",
        "colab": {
          "base_uri": "https://localhost:8080/"
        },
        "outputId": "94afc142-e966-4856-8a50-b06957e2f7a9"
      },
      "outputs": [
        {
          "output_type": "stream",
          "name": "stdout",
          "text": [
            "ratings_test.json\n",
            "ratings_train.json\n",
            "kowiki.vocab\n",
            "kowiki.model\n"
          ]
        }
      ],
      "source": [
        "for f in os.listdir(data_dir):\n",
        "  print(f)"
      ]
    },
    {
      "cell_type": "markdown",
      "metadata": {
        "id": "rOhCFxLPIdWx"
      },
      "source": [
        "### 2-5. Vocab 및 입력\n",
        "미리 만들어 놓은 vocab을 로딩하고, 로딩된 vocab을 이용해 input을 만듭니다."
      ]
    },
    {
      "cell_type": "code",
      "execution_count": 8,
      "metadata": {
        "id": "u69gqsv_IkrL",
        "colab": {
          "base_uri": "https://localhost:8080/"
        },
        "outputId": "7c2535ab-7cff-4c2e-9a63-ac7d3ef178eb"
      },
      "outputs": [
        {
          "output_type": "execute_result",
          "data": {
            "text/plain": [
              "True"
            ]
          },
          "metadata": {},
          "execution_count": 8
        }
      ],
      "source": [
        "# vocab loading\n",
        "vocab_file = f\"{data_dir}/kowiki.model\"\n",
        "vocab = spm.SentencePieceProcessor()\n",
        "vocab.load(vocab_file)"
      ]
    },
    {
      "cell_type": "markdown",
      "metadata": {
        "id": "H1EqFyOwCJo3"
      },
      "source": [
        "보통 영어를 NLP task를 처리할 때는 단어 기준으로 나누어도 크게 문제가 없지만 한국어는 한 단어가 보다 복잡하게 이루어져 있습니다. vocab을 사용해서 하나의 리뷰 문장을 나누어준 예시입니다.\n",
        "\n",
        "아래는 한국어 NLP를 어떤식으로 처리하는지에 대해 간단하게 보여주기 위해 추가한 코드입니다."
      ]
    },
    {
      "cell_type": "code",
      "execution_count": 9,
      "metadata": {
        "id": "E6di_Ko_yujV",
        "colab": {
          "base_uri": "https://localhost:8080/"
        },
        "outputId": "65b76285-95e4-41bb-faee-66361e5bf356"
      },
      "outputs": [
        {
          "output_type": "stream",
          "name": "stdout",
          "text": [
            "뭐야 이 평점들은.... 나쁘진 않지만 10점 짜리는 더더욱 아니잖아\n",
            "['▁', '뭐', '야', '▁이', '▁평', '점', '들은', '..', '..', '▁나', '쁘', '진', '▁않', '지만', '▁10', '점', '▁', '짜', '리는', '▁더', '더', '욱', '▁아니', '잖', '아']\n",
            "[3587, 5593, 3766, 8, 229, 3807, 162, 1920, 1920, 57, 5043, 3704, 101, 98, 129, 3807, 3587, 4351, 367, 228, 3840, 4267, 410, 5941, 3621]\n"
          ]
        }
      ],
      "source": [
        "line = '뭐야 이 평점들은.... 나쁘진 않지만 10점 짜리는 더더욱 아니잖아'\n",
        "pieces = vocab.encode_as_pieces(line)\n",
        "ids = vocab.encode_as_ids(line)\n",
        "print(line)\n",
        "print(pieces)\n",
        "print(ids)"
      ]
    },
    {
      "cell_type": "markdown",
      "metadata": {
        "id": "12ZA0bI6Ip4s"
      },
      "source": [
        "## 2-6. 영화 분류 데이터셋\n",
        "이제 본격적으로 구현을 시작하기 전에 다운했던 데이터셋을 학습 과정에서 사용할 수 있도록 로드할 차례입니다.\n",
        "\n",
        "먼저 아래 'MovieDataSet' 클래스를 봅시다. 여러분이 따로 구현해야할 코드는 없지만 일반적으로 딥러닝에서 DataSet 클래스를 선언할 때 다음과 같이 \\_\\_len__과\n",
        " \\_\\_getitem__ 을 같이 선언해주게 됩니다. 이 형태에 대해서 한 번 확인해주고 넘어가면 좋을 것 같아요!"
      ]
    },
    {
      "cell_type": "code",
      "execution_count": 10,
      "metadata": {
        "id": "5hRUATPWRo1L"
      },
      "outputs": [],
      "source": [
        "\"\"\" 영화 분류 데이터셋 \"\"\"\n",
        "class MovieDataSet(torch.utils.data.Dataset):\n",
        "    def __init__(self, vocab, infile):\n",
        "        self.vocab = vocab\n",
        "        self.labels = []\n",
        "        self.sentences = []\n",
        "\n",
        "        line_cnt = 0\n",
        "        with open(infile, \"r\") as f:\n",
        "            for line in f:\n",
        "                line_cnt += 1\n",
        "\n",
        "        with open(infile, \"r\") as f:\n",
        "            for i, line in enumerate(tqdm(f, total=line_cnt, desc=f\"Loading {infile}\", unit=\" lines\")):\n",
        "                data = json.loads(line)\n",
        "                self.labels.append(data[\"label\"])\n",
        "                self.sentences.append([vocab.piece_to_id(p) for p in data[\"doc\"]])\n",
        "\n",
        "    def __len__(self):\n",
        "        assert len(self.labels) == len(self.sentences)\n",
        "        return len(self.labels)\n",
        "\n",
        "    def __getitem__(self, item):\n",
        "        return (torch.tensor(self.labels[item]),\n",
        "                torch.tensor(self.sentences[item]))"
      ]
    },
    {
      "cell_type": "markdown",
      "metadata": {
        "id": "AyqG87jppKKr"
      },
      "source": [
        "아래 'collate_fn' 함수는 하나의 batch 안에서 문장의 길이가 다 다른 경우에 batch 안에서 가장 긴 길이에 맞춰서 나머지 input을 padding 해주는 역할을 합니다."
      ]
    },
    {
      "cell_type": "code",
      "execution_count": 11,
      "metadata": {
        "id": "DjDhfnnWR2hi"
      },
      "outputs": [],
      "source": [
        "def movie_collate_fn(inputs):\n",
        "    labels, enc_inputs = list(zip(*inputs))\n",
        "\n",
        "    enc_inputs = torch.nn.utils.rnn.pad_sequence(enc_inputs, batch_first=True, padding_value=0)\n",
        "\n",
        "    batch = [\n",
        "        torch.stack(labels, dim=0),\n",
        "        enc_inputs,\n",
        "    ]\n",
        "    return batch"
      ]
    },
    {
      "cell_type": "markdown",
      "metadata": {
        "id": "LFoZh93iXngJ"
      },
      "source": [
        "이제 DataLoader를 통해 데이터를 불러올 차례입니다."
      ]
    },
    {
      "cell_type": "code",
      "execution_count": 12,
      "metadata": {
        "id": "qIJqTZswR_Q5",
        "colab": {
          "base_uri": "https://localhost:8080/"
        },
        "outputId": "ca496173-e0cc-4869-baf1-ba7c663a8d6e"
      },
      "outputs": [
        {
          "output_type": "stream",
          "name": "stderr",
          "text": [
            "Loading /content/drive/MyDrive/D2D/data/ratings_train.json: 100%|██████████| 149995/149995 [00:05<00:00, 29892.73 lines/s]\n",
            "Loading /content/drive/MyDrive/D2D/data/ratings_test.json: 100%|██████████| 49997/49997 [00:01<00:00, 34388.75 lines/s]\n"
          ]
        }
      ],
      "source": [
        "\"\"\" 데이터 로더 \"\"\"\n",
        "batch_size = 128\n",
        "train_dataset = MovieDataSet(vocab, f\"{data_dir}/ratings_train.json\")\n",
        "train_loader = torch.utils.data.DataLoader(train_dataset, batch_size=batch_size, shuffle=True, collate_fn=movie_collate_fn)\n",
        "test_dataset = MovieDataSet(vocab, f\"{data_dir}/ratings_test.json\")\n",
        "test_loader = torch.utils.data.DataLoader(test_dataset, batch_size=batch_size, shuffle=False, collate_fn=movie_collate_fn)"
      ]
    },
    {
      "cell_type": "code",
      "execution_count": 13,
      "metadata": {
        "id": "DxiN1rcqb9O8",
        "colab": {
          "base_uri": "https://localhost:8080/"
        },
        "outputId": "9147e3db-30ce-4368-e905-743c188f72aa"
      },
      "outputs": [
        {
          "output_type": "stream",
          "name": "stdout",
          "text": [
            "149995\n",
            "(tensor(0), tensor([  26,  228, 4365, 1920,  132, 4351, 3587, 4351, 3922, 3628, 3857, 3760,\n",
            "         266, 3678, 3614]))\n"
          ]
        }
      ],
      "source": [
        "# Dataset class에서 __len__을 구현하면 dataset의 크기를 확인할 수 있습니다.\n",
        "print(len(train_dataset))\n",
        "# Dataset class에서 __getitem__을 구현하면 dataset을 index를 통해 접근할 수 있습니다.\n",
        "print(train_dataset[0])"
      ]
    },
    {
      "cell_type": "markdown",
      "metadata": {
        "id": "a3qXgmbTgMUw"
      },
      "source": [
        "## LSTM\n",
        "LSTM(Long Short-Term Memory)은 RNN의 한 종류로, RNN의 장기 의존성 문제를 해결하기 위해 고안되었습니다. LSTM은 셀 상태(cell state)라는 개념을 도입해 정보를 장기적으로 기억하고 전달하는 능력을 갖추고 있습니다.\n"
      ]
    },
    {
      "cell_type": "markdown",
      "metadata": {
        "id": "aHJr99DDgWgE"
      },
      "source": [
        "### 2-7. LSTM Cell\n",
        "LSTM의 핵심은 LSTM 셀입니다. LSTM 셀은 입력 게이트(input gate), 망각 게이트(forget gate), 출력 게이트(output gate)라는 세 가지 게이트와 셀 상태를 이용해 정보를 저장, 삭제, 출력하는 역할을 합니다. 각 게이트는 시그모이드 함수를 통과해 0에서 1 사이의 값을 갖게 되며, 이는 얼마나 많은 정보를 통과시킬지를 결정하는 '비율'을 의미합니다.\n",
        "\n",
        "이 LSTMCell 클래스에서는 LSTM 셀의 동작을 구현하고 있습니다. 이 클래스는 PyTorch의 nn.Module 클래스를 상속받아 구현되었으며, LSTM 셀의 입력과 히든 상태를 받아 다음 시점의 히든 상태와 셀 상태를 반환하는 forward 메서드를 정의하고 있습니다.\n",
        "\n",
        "![](https://miro.medium.com/v2/resize:fit:1400/1*ahafyNt0Ph_J6Ed9_2hvdg.png)"
      ]
    },
    {
      "cell_type": "markdown",
      "metadata": {
        "id": "nSgOk1KoyokC"
      },
      "source": [
        "### 문제 6. LSTMCell을 구현해 주세요"
      ]
    },
    {
      "cell_type": "code",
      "execution_count": 14,
      "metadata": {
        "id": "4_ZbE0BbiQZZ"
      },
      "outputs": [],
      "source": [
        "class LSTMCell(nn.Module):\n",
        "    def __init__(self, input_size, hidden_size, bias=True):\n",
        "        super(LSTMCell, self).__init__()\n",
        "        self.input_size = input_size\n",
        "        self.hidden_size = hidden_size\n",
        "        self.bias = bias\n",
        "\n",
        "        self.xh = nn.Linear(input_size, hidden_size * 4, bias=bias)\n",
        "        self.hh = nn.Linear(hidden_size, hidden_size * 4, bias=bias)\n",
        "        self.reset_parameters()\n",
        "\n",
        "    def reset_parameters(self):\n",
        "        std = 1.0 / np.sqrt(self.hidden_size)\n",
        "        for w in self.parameters():\n",
        "            w.data.uniform_(-std, std)\n",
        "\n",
        "    def forward(self, input, hx=None):\n",
        "\n",
        "        # Inputs:\n",
        "        #       input: of shape (batch_size, input_size)\n",
        "        #       hx: of shape (batch_size, hidden_size)\n",
        "        # Outputs:\n",
        "        #       hy: of shape (batch_size, hidden_size)\n",
        "        #       cy: of shape (batch_size, hidden_size)\n",
        "\n",
        "        # TODO:complete code for LSTMCell\n",
        "        if hx is None:\n",
        "            hx = torch.zeros(input.size(0), self.hidden_size, device=input.device)\n",
        "            cx = torch.zeros(input.size(0), self.hidden_size, device=input.device)\n",
        "        else:\n",
        "            hx, cx = hx\n",
        "\n",
        "        # TODO: gates를 4개로 나눠서 i_t, f_t, g_t, o_t를 얻는 과정을 작성해주세요.\n",
        "        gates = self.xh(input) + self.hh(hx)\n",
        "        input_gate, forget_gate, cell_gate, output_gate = gates.chunk(4, 1)\n",
        "\n",
        "        i_t = torch.sigmoid(input_gate)   # Input gate\n",
        "        f_t = torch.sigmoid(forget_gate)  # Forget gate\n",
        "        g_t = torch.tanh(cell_gate)       # Cell gate\n",
        "        o_t = torch.sigmoid(output_gate)  # Output gate\n",
        "\n",
        "        cy = cx * f_t + i_t * g_t\n",
        "\n",
        "        hy = o_t * F.tanh(cy)\n",
        "\n",
        "\n",
        "\n",
        "        return (hy, cy)"
      ]
    },
    {
      "cell_type": "markdown",
      "metadata": {
        "id": "pFijoYUOgZ8l"
      },
      "source": [
        "### 2-8. LSTM 구현\n",
        "전체 LSTM 네트워크는 이 LSTM 셀을 이용해 구현됩니다. LSTM 네트워크는 시퀀스의 각 요소를 LSTM 셀에 입력하고, 셀의 출력을 다음 시점의 셀에 전달하는 방식으로 동작합니다. 이렇게 각 시점에서의 LSTM 셀의 출력을 모아 최종 출력을 만들게 됩니다.\n",
        "![](https://miro.medium.com/v2/resize:fit:1400/0*IHPgKDctINevwboV.png)"
      ]
    },
    {
      "cell_type": "markdown",
      "metadata": {
        "id": "URYrO1Nayu2D"
      },
      "source": [
        "### 문제 7. LSTM class를 완성해 주세요"
      ]
    },
    {
      "cell_type": "code",
      "execution_count": 15,
      "metadata": {
        "id": "3NSqjnwNkARg"
      },
      "outputs": [],
      "source": [
        "class LSTM(nn.Module):\n",
        "    def __init__(self, input_size, hidden_size, vocab_size):\n",
        "        super(LSTM, self).__init__()\n",
        "        self.hidden_size = hidden_size\n",
        "        self.lstm_cell = LSTMCell(input_size, hidden_size)\n",
        "        self.embedding = nn.Embedding(vocab_size, input_size)\n",
        "        self.fc = nn.Linear(hidden_size, vocab_size)\n",
        "\n",
        "    def forward(self, x, hx=None):\n",
        "        batch_size = x.size(0)\n",
        "        seq_len = x.size(1)\n",
        "        if hx is None:\n",
        "            hx = (torch.zeros_like(x[:, 0]), torch.zeros_like(x[:, 0]))\n",
        "\n",
        "        h, c = hx\n",
        "        output = []\n",
        "\n",
        "\n",
        "        # TODO: Complete Code for LSTM\n",
        "\n",
        "        for i in range(seq_len):\n",
        "            # TODO: 입력 x를 embedding 하세요.\n",
        "            # TODO: lstm_cell에 embed와 (h, c)를 입력으로 넣어서 h와 c를 update하세요.\n",
        "            # TODO: update된 h를 output에 추가하세요.\n",
        "            embedded = self.embedding(x[:, i])\n",
        "            h, c = self.lstm_cell(embedded, (h, c))\n",
        "            output.append(h)\n",
        "\n",
        "        # TODO: output을 적절한 형태로 변환하세요.\n",
        "        # 여기서는 각 시간 스텝에 대한 hidden state를 담고 있는 output 리스트를\n",
        "        # 하나의 tensor로 결합합니다. 이 tensor의 shape는 (batch_size, seq_len, hidden_size)가 됩니다.\n",
        "        # 이를 위해 torch.stack 함수를 사용하며, dim=1로 설정하여 시간 스텝에 대해 stack하게 됩니다.\n",
        "        output = torch.stack(output, dim=1)\n",
        "\n",
        "\n",
        "        output = self.fc(output)\n",
        "        return output, (h, c)"
      ]
    },
    {
      "cell_type": "markdown",
      "metadata": {
        "id": "LESDdt0IgdeQ"
      },
      "source": [
        "### 2-9. Naver 영화 리뷰 감성분석 모델 (w/ LSTM)\n",
        "\n",
        "이제는 구현한 LSTM을 바탕으로 Naver 리뷰의 감성을 분석해볼 차례입니다.  해당 리뷰가 긍정(1)인지 부정(0)인지를 분류하는 Classification 모델입니다."
      ]
    },
    {
      "cell_type": "code",
      "execution_count": 16,
      "metadata": {
        "id": "Cr3j6wUBkA9G"
      },
      "outputs": [],
      "source": [
        "class MovieClassification(nn.Module):\n",
        "    def __init__(self, input_size, hidden_size, vocab_size, dropout):\n",
        "        super(MovieClassification, self).__init__()\n",
        "        self.hidden_size = hidden_size\n",
        "        self.lstm_cell = LSTMCell(input_size, hidden_size)\n",
        "        self.embedding = nn.Embedding(vocab_size, input_size)\n",
        "        self.fc = nn.Linear(hidden_size, vocab_size)\n",
        "        self.classifier = nn.Sequential(\n",
        "            nn.Dropout(dropout),\n",
        "            nn.Linear(hidden_size, hidden_size),\n",
        "            nn.ReLU(),\n",
        "            nn.Dropout(dropout),\n",
        "            nn.Linear(hidden_size, 1)\n",
        "        )\n",
        "\n",
        "    def forward(self, x, hx=None):\n",
        "        batch_size = x.size(0)\n",
        "        seq_len = x.size(1)\n",
        "        h = torch.zeros(1, self.hidden_size).float().cuda()\n",
        "        c=torch.zeros(1, self.hidden_size).float().cuda()\n",
        "\n",
        "\n",
        "        for i in range(seq_len):\n",
        "            embed = self.embedding(x[:, i])\n",
        "            h, c = self.lstm_cell(embed, (h, c))\n",
        "\n",
        "        logits = self.classifier(h).flatten()\n",
        "        return logits\n"
      ]
    },
    {
      "cell_type": "markdown",
      "metadata": {
        "id": "z9S3uwR3gpjq"
      },
      "source": [
        "### 2-10. 네이버 영화 리뷰 감성분석 모델 데이터 학습(w/ LSTM)\n",
        "\n",
        "아래는 train 및 test 코드입니다. test 부분의 빈칸은 train 부분과 같은 부분이므로 train 코드를 구현해주신 뒤에 참고하셔서 적어주시면 되겠습니다."
      ]
    },
    {
      "cell_type": "markdown",
      "metadata": {
        "id": "Hqil6ut8KVfL"
      },
      "source": [
        "### 문제 8. train_epoch 함수를 완성해 주세요"
      ]
    },
    {
      "cell_type": "code",
      "execution_count": 17,
      "metadata": {
        "id": "N4mM2DM3CxqB"
      },
      "outputs": [],
      "source": [
        "def train_epoch(epoch, model, criterion, optimizer, train_loader, clip):\n",
        "    losses = []\n",
        "    model.train()\n",
        "    with tqdm_notebook(total=len(train_loader), desc=f\"Train {epoch}\") as pbar:\n",
        "        for i, batch in enumerate(train_loader):\n",
        "            labels, sentences = map(lambda x: x.to(device), batch)\n",
        "\n",
        "            labels = labels.float()\n",
        "\n",
        "\n",
        "            # TODO: 옵티마이저의 그래디언트를 초기화해 주세요.\n",
        "            # TODO: 모델에 입력 데이터를 전달하여 출력을 얻습니다.\n",
        "            # TODO: 손실 함수를 사용하여 loss을 계산합니다.\n",
        "            optimizer.zero_grad()\n",
        "            outputs, _ = model(sentences)\n",
        "\n",
        "            loss = criterion(outputs, labels)\n",
        "            loss_val = loss.item()\n",
        "            losses.append(loss_val)\n",
        "\n",
        "            # TODO: 역전파를 수행하여 그래디언트를 계산합니다.\n",
        "            loss.backward()\n",
        "\n",
        "            torch.nn.utils.clip_grad_norm_(model.parameters(), clip)\n",
        "            # Gradient clipping을 해주는 코드입니다.\n",
        "\n",
        "            # TODO: 옵티마이저를 사용하여 모델 파라미터를 업데이트합니다.\n",
        "            optimizer.step()\n",
        "\n",
        "\n",
        "            pbar.update(1)\n",
        "            pbar.set_postfix_str(f\"Loss: {loss_val:.3f} ({np.mean(losses):.3f})\")\n",
        "    return np.mean(losses)\n"
      ]
    },
    {
      "cell_type": "markdown",
      "metadata": {
        "id": "uYXVc9wtKa2i"
      },
      "source": [
        "### 문제 9. validation 함수 (eval_epoch)를 완성해 주세요."
      ]
    },
    {
      "cell_type": "code",
      "execution_count": 18,
      "metadata": {
        "id": "6vuAoKimD3ll"
      },
      "outputs": [],
      "source": [
        "def get_binary_metrics(y_pred, y):\n",
        "    # find number of TP, TN, FP, FN\n",
        "    # 평가 metric으로 가장 흔하게 사용되는 F1 Score입니다. 자세한 내용은 https://en.wikipedia.org/wiki/F-score 을 참고해주세요.\n",
        "    TP=sum(((y_pred == 1)&(y==1)).type(torch.int32))\n",
        "    FP=sum(((y_pred == 1)&(y==0)).type(torch.int32))\n",
        "    TN=sum(((y_pred == 0)&(y==0)).type(torch.int32))\n",
        "    FN=sum(((y_pred == 0)&(y==1)).type(torch.int32))\n",
        "    accy = (TP+TN)/(TP+FP+TN+FN)\n",
        "\n",
        "    recall = TP/(TP+FN) if TP+FN!=0 else 0\n",
        "    prec = TP/(TP+FP) if TP+FP!=0 else 0\n",
        "    f1 = 2*recall*prec/(recall+prec) if recall+prec !=0 else 0\n",
        "\n",
        "    return accy, recall, prec, f1\n",
        "\n",
        "def eval_epoch(model, data_loader, criterion):\n",
        "    model.eval()\n",
        "    epoch_loss = 0\n",
        "    epoch_accy = 0\n",
        "    epoch_recall = 0\n",
        "    epoch_prec = 0\n",
        "    epoch_f1 = 0\n",
        "    with tqdm_notebook(total=len(data_loader), desc=f\"Valid\") as pbar:\n",
        "        for i, batch in enumerate(data_loader):\n",
        "            labels, sentences = map(lambda x: x.to(device), batch)\n",
        "\n",
        "            labels = labels.float()\n",
        "\n",
        "            # TODO: 모델에 입력 데이터를 전달하여 출력을 얻습니다.\n",
        "            logits, _ = model(sentences)\n",
        "            # TODO: 손실 함수를 사용하여 loss을 계산합니다.\n",
        "            loss = criterion(logits, labels)\n",
        "\n",
        "\n",
        "            epoch_loss += loss.item()\n",
        "\n",
        "            preds = (F.sigmoid(logits) >= 0.5).long()\n",
        "            accy, recall, prec, f1 = get_binary_metrics(preds, labels.long())\n",
        "            epoch_accy += accy\n",
        "            epoch_recall += recall\n",
        "            epoch_prec += prec\n",
        "            epoch_f1 += f1\n",
        "\n",
        "            pbar.update(1)\n",
        "\n",
        "    epoch_accy /= len(data_loader)\n",
        "    epoch_recall /= len(data_loader)\n",
        "    epoch_prec /= len(data_loader)\n",
        "    epoch_f1 /= len(data_loader)\n",
        "    print(f'\\tAccuracy: {epoch_accy:.3f}')\n",
        "    print(f'\\tRecall: {epoch_recall:.3f}')\n",
        "    print(f'\\tPrecision: {epoch_prec:.3f}')\n",
        "    print(f'\\tF1 Score: {epoch_f1:.3f}')\n",
        "    return epoch_loss / len(data_loader)\n"
      ]
    },
    {
      "cell_type": "markdown",
      "metadata": {
        "id": "ImfERC6RKgMC"
      },
      "source": [
        "### 문제 10. Hyperparamter Tuning\n",
        "\n",
        "좋은 모델을 구현하는 것도 중요하지만 모델의 성능은 Hyper Parameter에 따라 크게 달라집니다. 특히, learning rate와 epoch가 가장 크게 영향을 주며 hidden_layer의 차원에 따라서도 성능이 달라질 수 있습니다! 모델을 성공적으로 구현했다면 더 좋은 성능을 가진 모델을 스스로 한 번 찾아보세요!"
      ]
    },
    {
      "cell_type": "code",
      "execution_count": 19,
      "metadata": {
        "id": "NIiLuz3jAWKc"
      },
      "outputs": [],
      "source": [
        "# Hyperparameter\n",
        "################################################################################\n",
        "# TODO: Hyperparameter Tuning\n",
        "################################################################################\n",
        "\n",
        "\n",
        "learning_rate = 1e-3      # 1e-3 ~ 1e-5\n",
        "n_epoch =  20            # epoch 수가 더 늘어나면 좋을까요? 학습을 많이 하니까?\n",
        "input_size = 100  # 임베딩 차원\n",
        "hidden_size = 100  # 히든 상태의 차원\n",
        "vocab_size =5000  # 전체 단어장의 크기\n",
        "\n",
        "################################################################################\n",
        "\n",
        "\n",
        "\n",
        "\n",
        "# 이 외에도 아래 변수들도 Hyperparmeter에 해당하지만 이 부분은 고정해주세요. 위의 Hyperparameter를 tuning해보면서 결과에 큰 차이가 있는지 확인해봅시다.\n",
        "CLIP = 1                    # Exploding Gradient가 일어날 때 Gradient를 줄여주기 위해 설정하는 값입니다.\n",
        "dropout = 0.1               # 이 부분은 자세히 배우지 않은 걸로 알고 있어서 추가하진 않았지만 궁금하신 분들은 dropout 값도 tuning 해 보셔도 좋을 것 같습니다.\n",
        "\n",
        "\n",
        "\n",
        "# 모델을 설정합니다\n",
        "model = MovieClassification(input_size=input_size, hidden_size=hidden_size, vocab_size=vocab_size, dropout=dropout)\n",
        "model.to(device)\n",
        "\n",
        "# 손실함수와 Optimization 형태를 설정해줍니다.\n",
        "criterion = torch.nn.BCEWithLogitsLoss()\n",
        "optimizer = torch.optim.Adam(model.parameters(), lr=learning_rate)\n",
        "\n",
        "# 가장 성능이 좋은 모델을 저장하기 위해 valid_loss가 가장 작은 값을 찾아야 합니다. 왜 train_loss가 아니라 valid_loss로 판단하는지 생각해봅시다.\n",
        "best_valid_loss = float('inf')"
      ]
    },
    {
      "cell_type": "markdown",
      "metadata": {
        "id": "MZZysKNYKmzZ"
      },
      "source": [
        "### Training Phase\n",
        "이제 직접 학습을 진행해볼 차례입니다! Hyperparameter에 따라 값이 달라지기는 하겠지만 대략적으로 가장 높은 F1 score가 0.8 이상 나오면 모델이 잘 구현된 것입니다.\n",
        "\n",
        "**모델의 학습이 실제로 되는지 궁금하신 분들은 아래 train 코드를 실행하기 전에 그 아래 inference부터 해보셔도 좋을 것 같습니다.**\n",
        "\n",
        "모델이 학습이 하나도 되지 않았을 때 감성 분석을 어떻게 하는지 살펴봅시다."
      ]
    },
    {
      "cell_type": "code",
      "execution_count": 20,
      "metadata": {
        "id": "q36-vJWPBghI",
        "colab": {
          "base_uri": "https://localhost:8080/",
          "height": 474,
          "referenced_widgets": [
            "4ed6d6041be2419f9f5c70af49dbd230",
            "a169e35db53c4838b90f42ba08c2064d",
            "52a3c54ccb6c48b5aabf45032fb150ff",
            "156fddc360d648a09cc594454eb982d5",
            "fb61aae1401146dbad752fd2cf715f7a",
            "a43c48c0853a487e84bc795ec316df0e",
            "9d084dfce3074f99afc09cf76d4c52cf",
            "6037d448012f4cb3aa0e5a3dd8abf7ae",
            "22faa47b10b74967a4ba12dc9af3c33c",
            "de930f7bdf504fa4978d9e868f4d9f6a",
            "38e1781a25084d7bb0c1b09552ebf7fa"
          ]
        },
        "outputId": "9e0a10af-d416-44c4-890d-95b65942da7d"
      },
      "outputs": [
        {
          "output_type": "stream",
          "name": "stderr",
          "text": [
            "<ipython-input-17-d6e538a0e264>:4: TqdmDeprecationWarning: This function will be removed in tqdm==5.0.0\n",
            "Please use `tqdm.notebook.tqdm` instead of `tqdm.tqdm_notebook`\n",
            "  with tqdm_notebook(total=len(train_loader), desc=f\"Train {epoch}\") as pbar:\n"
          ]
        },
        {
          "output_type": "display_data",
          "data": {
            "text/plain": [
              "Train 0:   0%|          | 0/1172 [00:00<?, ?it/s]"
            ],
            "application/vnd.jupyter.widget-view+json": {
              "version_major": 2,
              "version_minor": 0,
              "model_id": "4ed6d6041be2419f9f5c70af49dbd230"
            }
          },
          "metadata": {}
        },
        {
          "output_type": "error",
          "ename": "RuntimeError",
          "evalue": "CUDA error: CUBLAS_STATUS_EXECUTION_FAILED when calling cublasLtMatmul with transpose_mat1 1 transpose_mat2 0 m 400 n 128 k 100 mat1_ld 100 mat2_ld 100 result_ld 400 abcType 0 computeType 68 scaleType 0",
          "traceback": [
            "\u001b[0;31m---------------------------------------------------------------------------\u001b[0m",
            "\u001b[0;31mRuntimeError\u001b[0m                              Traceback (most recent call last)",
            "\u001b[0;32m<ipython-input-20-56d27fd51519>\u001b[0m in \u001b[0;36m<cell line: 1>\u001b[0;34m()\u001b[0m\n\u001b[1;32m      1\u001b[0m \u001b[0;32mfor\u001b[0m \u001b[0mepoch\u001b[0m \u001b[0;32min\u001b[0m \u001b[0mrange\u001b[0m\u001b[0;34m(\u001b[0m\u001b[0mn_epoch\u001b[0m\u001b[0;34m)\u001b[0m\u001b[0;34m:\u001b[0m\u001b[0;34m\u001b[0m\u001b[0;34m\u001b[0m\u001b[0m\n\u001b[0;32m----> 2\u001b[0;31m     \u001b[0mtrain_loss\u001b[0m \u001b[0;34m=\u001b[0m \u001b[0mtrain_epoch\u001b[0m\u001b[0;34m(\u001b[0m\u001b[0mepoch\u001b[0m\u001b[0;34m,\u001b[0m \u001b[0mmodel\u001b[0m\u001b[0;34m,\u001b[0m \u001b[0mcriterion\u001b[0m\u001b[0;34m,\u001b[0m \u001b[0moptimizer\u001b[0m\u001b[0;34m,\u001b[0m \u001b[0mtrain_loader\u001b[0m\u001b[0;34m,\u001b[0m \u001b[0mCLIP\u001b[0m\u001b[0;34m)\u001b[0m\u001b[0;34m\u001b[0m\u001b[0;34m\u001b[0m\u001b[0m\n\u001b[0m\u001b[1;32m      3\u001b[0m     \u001b[0mvalid_loss\u001b[0m \u001b[0;34m=\u001b[0m \u001b[0meval_epoch\u001b[0m\u001b[0;34m(\u001b[0m\u001b[0mmodel\u001b[0m\u001b[0;34m,\u001b[0m \u001b[0mtest_loader\u001b[0m\u001b[0;34m,\u001b[0m \u001b[0mcriterion\u001b[0m\u001b[0;34m)\u001b[0m\u001b[0;34m\u001b[0m\u001b[0;34m\u001b[0m\u001b[0m\n\u001b[1;32m      4\u001b[0m \u001b[0;34m\u001b[0m\u001b[0m\n\u001b[1;32m      5\u001b[0m     \u001b[0;32mif\u001b[0m \u001b[0mvalid_loss\u001b[0m \u001b[0;34m<\u001b[0m \u001b[0mbest_valid_loss\u001b[0m\u001b[0;34m:\u001b[0m\u001b[0;34m\u001b[0m\u001b[0;34m\u001b[0m\u001b[0m\n",
            "\u001b[0;32m<ipython-input-17-d6e538a0e264>\u001b[0m in \u001b[0;36mtrain_epoch\u001b[0;34m(epoch, model, criterion, optimizer, train_loader, clip)\u001b[0m\n\u001b[1;32m     13\u001b[0m             \u001b[0;31m# TODO: 손실 함수를 사용하여 loss을 계산합니다.\u001b[0m\u001b[0;34m\u001b[0m\u001b[0;34m\u001b[0m\u001b[0m\n\u001b[1;32m     14\u001b[0m             \u001b[0moptimizer\u001b[0m\u001b[0;34m.\u001b[0m\u001b[0mzero_grad\u001b[0m\u001b[0;34m(\u001b[0m\u001b[0;34m)\u001b[0m\u001b[0;34m\u001b[0m\u001b[0;34m\u001b[0m\u001b[0m\n\u001b[0;32m---> 15\u001b[0;31m             \u001b[0moutputs\u001b[0m\u001b[0;34m,\u001b[0m \u001b[0m_\u001b[0m \u001b[0;34m=\u001b[0m \u001b[0mmodel\u001b[0m\u001b[0;34m(\u001b[0m\u001b[0msentences\u001b[0m\u001b[0;34m)\u001b[0m\u001b[0;34m\u001b[0m\u001b[0;34m\u001b[0m\u001b[0m\n\u001b[0m\u001b[1;32m     16\u001b[0m \u001b[0;34m\u001b[0m\u001b[0m\n\u001b[1;32m     17\u001b[0m             \u001b[0mloss\u001b[0m \u001b[0;34m=\u001b[0m \u001b[0mcriterion\u001b[0m\u001b[0;34m(\u001b[0m\u001b[0moutputs\u001b[0m\u001b[0;34m,\u001b[0m \u001b[0mlabels\u001b[0m\u001b[0;34m)\u001b[0m\u001b[0;34m\u001b[0m\u001b[0;34m\u001b[0m\u001b[0m\n",
            "\u001b[0;32m/usr/local/lib/python3.10/dist-packages/torch/nn/modules/module.py\u001b[0m in \u001b[0;36m_wrapped_call_impl\u001b[0;34m(self, *args, **kwargs)\u001b[0m\n\u001b[1;32m   1530\u001b[0m             \u001b[0;32mreturn\u001b[0m \u001b[0mself\u001b[0m\u001b[0;34m.\u001b[0m\u001b[0m_compiled_call_impl\u001b[0m\u001b[0;34m(\u001b[0m\u001b[0;34m*\u001b[0m\u001b[0margs\u001b[0m\u001b[0;34m,\u001b[0m \u001b[0;34m**\u001b[0m\u001b[0mkwargs\u001b[0m\u001b[0;34m)\u001b[0m  \u001b[0;31m# type: ignore[misc]\u001b[0m\u001b[0;34m\u001b[0m\u001b[0;34m\u001b[0m\u001b[0m\n\u001b[1;32m   1531\u001b[0m         \u001b[0;32melse\u001b[0m\u001b[0;34m:\u001b[0m\u001b[0;34m\u001b[0m\u001b[0;34m\u001b[0m\u001b[0m\n\u001b[0;32m-> 1532\u001b[0;31m             \u001b[0;32mreturn\u001b[0m \u001b[0mself\u001b[0m\u001b[0;34m.\u001b[0m\u001b[0m_call_impl\u001b[0m\u001b[0;34m(\u001b[0m\u001b[0;34m*\u001b[0m\u001b[0margs\u001b[0m\u001b[0;34m,\u001b[0m \u001b[0;34m**\u001b[0m\u001b[0mkwargs\u001b[0m\u001b[0;34m)\u001b[0m\u001b[0;34m\u001b[0m\u001b[0;34m\u001b[0m\u001b[0m\n\u001b[0m\u001b[1;32m   1533\u001b[0m \u001b[0;34m\u001b[0m\u001b[0m\n\u001b[1;32m   1534\u001b[0m     \u001b[0;32mdef\u001b[0m \u001b[0m_call_impl\u001b[0m\u001b[0;34m(\u001b[0m\u001b[0mself\u001b[0m\u001b[0;34m,\u001b[0m \u001b[0;34m*\u001b[0m\u001b[0margs\u001b[0m\u001b[0;34m,\u001b[0m \u001b[0;34m**\u001b[0m\u001b[0mkwargs\u001b[0m\u001b[0;34m)\u001b[0m\u001b[0;34m:\u001b[0m\u001b[0;34m\u001b[0m\u001b[0;34m\u001b[0m\u001b[0m\n",
            "\u001b[0;32m/usr/local/lib/python3.10/dist-packages/torch/nn/modules/module.py\u001b[0m in \u001b[0;36m_call_impl\u001b[0;34m(self, *args, **kwargs)\u001b[0m\n\u001b[1;32m   1539\u001b[0m                 \u001b[0;32mor\u001b[0m \u001b[0m_global_backward_pre_hooks\u001b[0m \u001b[0;32mor\u001b[0m \u001b[0m_global_backward_hooks\u001b[0m\u001b[0;34m\u001b[0m\u001b[0;34m\u001b[0m\u001b[0m\n\u001b[1;32m   1540\u001b[0m                 or _global_forward_hooks or _global_forward_pre_hooks):\n\u001b[0;32m-> 1541\u001b[0;31m             \u001b[0;32mreturn\u001b[0m \u001b[0mforward_call\u001b[0m\u001b[0;34m(\u001b[0m\u001b[0;34m*\u001b[0m\u001b[0margs\u001b[0m\u001b[0;34m,\u001b[0m \u001b[0;34m**\u001b[0m\u001b[0mkwargs\u001b[0m\u001b[0;34m)\u001b[0m\u001b[0;34m\u001b[0m\u001b[0;34m\u001b[0m\u001b[0m\n\u001b[0m\u001b[1;32m   1542\u001b[0m \u001b[0;34m\u001b[0m\u001b[0m\n\u001b[1;32m   1543\u001b[0m         \u001b[0;32mtry\u001b[0m\u001b[0;34m:\u001b[0m\u001b[0;34m\u001b[0m\u001b[0;34m\u001b[0m\u001b[0m\n",
            "\u001b[0;32m<ipython-input-16-cc440ab3f555>\u001b[0m in \u001b[0;36mforward\u001b[0;34m(self, x, hx)\u001b[0m\n\u001b[1;32m     23\u001b[0m         \u001b[0;32mfor\u001b[0m \u001b[0mi\u001b[0m \u001b[0;32min\u001b[0m \u001b[0mrange\u001b[0m\u001b[0;34m(\u001b[0m\u001b[0mseq_len\u001b[0m\u001b[0;34m)\u001b[0m\u001b[0;34m:\u001b[0m\u001b[0;34m\u001b[0m\u001b[0;34m\u001b[0m\u001b[0m\n\u001b[1;32m     24\u001b[0m             \u001b[0membed\u001b[0m \u001b[0;34m=\u001b[0m \u001b[0mself\u001b[0m\u001b[0;34m.\u001b[0m\u001b[0membedding\u001b[0m\u001b[0;34m(\u001b[0m\u001b[0mx\u001b[0m\u001b[0;34m[\u001b[0m\u001b[0;34m:\u001b[0m\u001b[0;34m,\u001b[0m \u001b[0mi\u001b[0m\u001b[0;34m]\u001b[0m\u001b[0;34m)\u001b[0m\u001b[0;34m\u001b[0m\u001b[0;34m\u001b[0m\u001b[0m\n\u001b[0;32m---> 25\u001b[0;31m             \u001b[0mh\u001b[0m\u001b[0;34m,\u001b[0m \u001b[0mc\u001b[0m \u001b[0;34m=\u001b[0m \u001b[0mself\u001b[0m\u001b[0;34m.\u001b[0m\u001b[0mlstm_cell\u001b[0m\u001b[0;34m(\u001b[0m\u001b[0membed\u001b[0m\u001b[0;34m,\u001b[0m \u001b[0;34m(\u001b[0m\u001b[0mh\u001b[0m\u001b[0;34m,\u001b[0m \u001b[0mc\u001b[0m\u001b[0;34m)\u001b[0m\u001b[0;34m)\u001b[0m\u001b[0;34m\u001b[0m\u001b[0;34m\u001b[0m\u001b[0m\n\u001b[0m\u001b[1;32m     26\u001b[0m \u001b[0;34m\u001b[0m\u001b[0m\n\u001b[1;32m     27\u001b[0m         \u001b[0mlogits\u001b[0m \u001b[0;34m=\u001b[0m \u001b[0mself\u001b[0m\u001b[0;34m.\u001b[0m\u001b[0mclassifier\u001b[0m\u001b[0;34m(\u001b[0m\u001b[0mh\u001b[0m\u001b[0;34m)\u001b[0m\u001b[0;34m.\u001b[0m\u001b[0mflatten\u001b[0m\u001b[0;34m(\u001b[0m\u001b[0;34m)\u001b[0m\u001b[0;34m\u001b[0m\u001b[0;34m\u001b[0m\u001b[0m\n",
            "\u001b[0;32m/usr/local/lib/python3.10/dist-packages/torch/nn/modules/module.py\u001b[0m in \u001b[0;36m_wrapped_call_impl\u001b[0;34m(self, *args, **kwargs)\u001b[0m\n\u001b[1;32m   1530\u001b[0m             \u001b[0;32mreturn\u001b[0m \u001b[0mself\u001b[0m\u001b[0;34m.\u001b[0m\u001b[0m_compiled_call_impl\u001b[0m\u001b[0;34m(\u001b[0m\u001b[0;34m*\u001b[0m\u001b[0margs\u001b[0m\u001b[0;34m,\u001b[0m \u001b[0;34m**\u001b[0m\u001b[0mkwargs\u001b[0m\u001b[0;34m)\u001b[0m  \u001b[0;31m# type: ignore[misc]\u001b[0m\u001b[0;34m\u001b[0m\u001b[0;34m\u001b[0m\u001b[0m\n\u001b[1;32m   1531\u001b[0m         \u001b[0;32melse\u001b[0m\u001b[0;34m:\u001b[0m\u001b[0;34m\u001b[0m\u001b[0;34m\u001b[0m\u001b[0m\n\u001b[0;32m-> 1532\u001b[0;31m             \u001b[0;32mreturn\u001b[0m \u001b[0mself\u001b[0m\u001b[0;34m.\u001b[0m\u001b[0m_call_impl\u001b[0m\u001b[0;34m(\u001b[0m\u001b[0;34m*\u001b[0m\u001b[0margs\u001b[0m\u001b[0;34m,\u001b[0m \u001b[0;34m**\u001b[0m\u001b[0mkwargs\u001b[0m\u001b[0;34m)\u001b[0m\u001b[0;34m\u001b[0m\u001b[0;34m\u001b[0m\u001b[0m\n\u001b[0m\u001b[1;32m   1533\u001b[0m \u001b[0;34m\u001b[0m\u001b[0m\n\u001b[1;32m   1534\u001b[0m     \u001b[0;32mdef\u001b[0m \u001b[0m_call_impl\u001b[0m\u001b[0;34m(\u001b[0m\u001b[0mself\u001b[0m\u001b[0;34m,\u001b[0m \u001b[0;34m*\u001b[0m\u001b[0margs\u001b[0m\u001b[0;34m,\u001b[0m \u001b[0;34m**\u001b[0m\u001b[0mkwargs\u001b[0m\u001b[0;34m)\u001b[0m\u001b[0;34m:\u001b[0m\u001b[0;34m\u001b[0m\u001b[0;34m\u001b[0m\u001b[0m\n",
            "\u001b[0;32m/usr/local/lib/python3.10/dist-packages/torch/nn/modules/module.py\u001b[0m in \u001b[0;36m_call_impl\u001b[0;34m(self, *args, **kwargs)\u001b[0m\n\u001b[1;32m   1539\u001b[0m                 \u001b[0;32mor\u001b[0m \u001b[0m_global_backward_pre_hooks\u001b[0m \u001b[0;32mor\u001b[0m \u001b[0m_global_backward_hooks\u001b[0m\u001b[0;34m\u001b[0m\u001b[0;34m\u001b[0m\u001b[0m\n\u001b[1;32m   1540\u001b[0m                 or _global_forward_hooks or _global_forward_pre_hooks):\n\u001b[0;32m-> 1541\u001b[0;31m             \u001b[0;32mreturn\u001b[0m \u001b[0mforward_call\u001b[0m\u001b[0;34m(\u001b[0m\u001b[0;34m*\u001b[0m\u001b[0margs\u001b[0m\u001b[0;34m,\u001b[0m \u001b[0;34m**\u001b[0m\u001b[0mkwargs\u001b[0m\u001b[0;34m)\u001b[0m\u001b[0;34m\u001b[0m\u001b[0;34m\u001b[0m\u001b[0m\n\u001b[0m\u001b[1;32m   1542\u001b[0m \u001b[0;34m\u001b[0m\u001b[0m\n\u001b[1;32m   1543\u001b[0m         \u001b[0;32mtry\u001b[0m\u001b[0;34m:\u001b[0m\u001b[0;34m\u001b[0m\u001b[0;34m\u001b[0m\u001b[0m\n",
            "\u001b[0;32m<ipython-input-14-abac2c40648a>\u001b[0m in \u001b[0;36mforward\u001b[0;34m(self, input, hx)\u001b[0m\n\u001b[1;32m     32\u001b[0m \u001b[0;34m\u001b[0m\u001b[0m\n\u001b[1;32m     33\u001b[0m         \u001b[0;31m# TODO: gates를 4개로 나눠서 i_t, f_t, g_t, o_t를 얻는 과정을 작성해주세요.\u001b[0m\u001b[0;34m\u001b[0m\u001b[0;34m\u001b[0m\u001b[0m\n\u001b[0;32m---> 34\u001b[0;31m         \u001b[0mgates\u001b[0m \u001b[0;34m=\u001b[0m \u001b[0mself\u001b[0m\u001b[0;34m.\u001b[0m\u001b[0mxh\u001b[0m\u001b[0;34m(\u001b[0m\u001b[0minput\u001b[0m\u001b[0;34m)\u001b[0m \u001b[0;34m+\u001b[0m \u001b[0mself\u001b[0m\u001b[0;34m.\u001b[0m\u001b[0mhh\u001b[0m\u001b[0;34m(\u001b[0m\u001b[0mhx\u001b[0m\u001b[0;34m)\u001b[0m\u001b[0;34m\u001b[0m\u001b[0;34m\u001b[0m\u001b[0m\n\u001b[0m\u001b[1;32m     35\u001b[0m         \u001b[0minput_gate\u001b[0m\u001b[0;34m,\u001b[0m \u001b[0mforget_gate\u001b[0m\u001b[0;34m,\u001b[0m \u001b[0mcell_gate\u001b[0m\u001b[0;34m,\u001b[0m \u001b[0moutput_gate\u001b[0m \u001b[0;34m=\u001b[0m \u001b[0mgates\u001b[0m\u001b[0;34m.\u001b[0m\u001b[0mchunk\u001b[0m\u001b[0;34m(\u001b[0m\u001b[0;36m4\u001b[0m\u001b[0;34m,\u001b[0m \u001b[0;36m1\u001b[0m\u001b[0;34m)\u001b[0m\u001b[0;34m\u001b[0m\u001b[0;34m\u001b[0m\u001b[0m\n\u001b[1;32m     36\u001b[0m \u001b[0;34m\u001b[0m\u001b[0m\n",
            "\u001b[0;32m/usr/local/lib/python3.10/dist-packages/torch/nn/modules/module.py\u001b[0m in \u001b[0;36m_wrapped_call_impl\u001b[0;34m(self, *args, **kwargs)\u001b[0m\n\u001b[1;32m   1530\u001b[0m             \u001b[0;32mreturn\u001b[0m \u001b[0mself\u001b[0m\u001b[0;34m.\u001b[0m\u001b[0m_compiled_call_impl\u001b[0m\u001b[0;34m(\u001b[0m\u001b[0;34m*\u001b[0m\u001b[0margs\u001b[0m\u001b[0;34m,\u001b[0m \u001b[0;34m**\u001b[0m\u001b[0mkwargs\u001b[0m\u001b[0;34m)\u001b[0m  \u001b[0;31m# type: ignore[misc]\u001b[0m\u001b[0;34m\u001b[0m\u001b[0;34m\u001b[0m\u001b[0m\n\u001b[1;32m   1531\u001b[0m         \u001b[0;32melse\u001b[0m\u001b[0;34m:\u001b[0m\u001b[0;34m\u001b[0m\u001b[0;34m\u001b[0m\u001b[0m\n\u001b[0;32m-> 1532\u001b[0;31m             \u001b[0;32mreturn\u001b[0m \u001b[0mself\u001b[0m\u001b[0;34m.\u001b[0m\u001b[0m_call_impl\u001b[0m\u001b[0;34m(\u001b[0m\u001b[0;34m*\u001b[0m\u001b[0margs\u001b[0m\u001b[0;34m,\u001b[0m \u001b[0;34m**\u001b[0m\u001b[0mkwargs\u001b[0m\u001b[0;34m)\u001b[0m\u001b[0;34m\u001b[0m\u001b[0;34m\u001b[0m\u001b[0m\n\u001b[0m\u001b[1;32m   1533\u001b[0m \u001b[0;34m\u001b[0m\u001b[0m\n\u001b[1;32m   1534\u001b[0m     \u001b[0;32mdef\u001b[0m \u001b[0m_call_impl\u001b[0m\u001b[0;34m(\u001b[0m\u001b[0mself\u001b[0m\u001b[0;34m,\u001b[0m \u001b[0;34m*\u001b[0m\u001b[0margs\u001b[0m\u001b[0;34m,\u001b[0m \u001b[0;34m**\u001b[0m\u001b[0mkwargs\u001b[0m\u001b[0;34m)\u001b[0m\u001b[0;34m:\u001b[0m\u001b[0;34m\u001b[0m\u001b[0;34m\u001b[0m\u001b[0m\n",
            "\u001b[0;32m/usr/local/lib/python3.10/dist-packages/torch/nn/modules/module.py\u001b[0m in \u001b[0;36m_call_impl\u001b[0;34m(self, *args, **kwargs)\u001b[0m\n\u001b[1;32m   1539\u001b[0m                 \u001b[0;32mor\u001b[0m \u001b[0m_global_backward_pre_hooks\u001b[0m \u001b[0;32mor\u001b[0m \u001b[0m_global_backward_hooks\u001b[0m\u001b[0;34m\u001b[0m\u001b[0;34m\u001b[0m\u001b[0m\n\u001b[1;32m   1540\u001b[0m                 or _global_forward_hooks or _global_forward_pre_hooks):\n\u001b[0;32m-> 1541\u001b[0;31m             \u001b[0;32mreturn\u001b[0m \u001b[0mforward_call\u001b[0m\u001b[0;34m(\u001b[0m\u001b[0;34m*\u001b[0m\u001b[0margs\u001b[0m\u001b[0;34m,\u001b[0m \u001b[0;34m**\u001b[0m\u001b[0mkwargs\u001b[0m\u001b[0;34m)\u001b[0m\u001b[0;34m\u001b[0m\u001b[0;34m\u001b[0m\u001b[0m\n\u001b[0m\u001b[1;32m   1542\u001b[0m \u001b[0;34m\u001b[0m\u001b[0m\n\u001b[1;32m   1543\u001b[0m         \u001b[0;32mtry\u001b[0m\u001b[0;34m:\u001b[0m\u001b[0;34m\u001b[0m\u001b[0;34m\u001b[0m\u001b[0m\n",
            "\u001b[0;32m/usr/local/lib/python3.10/dist-packages/torch/nn/modules/linear.py\u001b[0m in \u001b[0;36mforward\u001b[0;34m(self, input)\u001b[0m\n\u001b[1;32m    114\u001b[0m \u001b[0;34m\u001b[0m\u001b[0m\n\u001b[1;32m    115\u001b[0m     \u001b[0;32mdef\u001b[0m \u001b[0mforward\u001b[0m\u001b[0;34m(\u001b[0m\u001b[0mself\u001b[0m\u001b[0;34m,\u001b[0m \u001b[0minput\u001b[0m\u001b[0;34m:\u001b[0m \u001b[0mTensor\u001b[0m\u001b[0;34m)\u001b[0m \u001b[0;34m->\u001b[0m \u001b[0mTensor\u001b[0m\u001b[0;34m:\u001b[0m\u001b[0;34m\u001b[0m\u001b[0;34m\u001b[0m\u001b[0m\n\u001b[0;32m--> 116\u001b[0;31m         \u001b[0;32mreturn\u001b[0m \u001b[0mF\u001b[0m\u001b[0;34m.\u001b[0m\u001b[0mlinear\u001b[0m\u001b[0;34m(\u001b[0m\u001b[0minput\u001b[0m\u001b[0;34m,\u001b[0m \u001b[0mself\u001b[0m\u001b[0;34m.\u001b[0m\u001b[0mweight\u001b[0m\u001b[0;34m,\u001b[0m \u001b[0mself\u001b[0m\u001b[0;34m.\u001b[0m\u001b[0mbias\u001b[0m\u001b[0;34m)\u001b[0m\u001b[0;34m\u001b[0m\u001b[0;34m\u001b[0m\u001b[0m\n\u001b[0m\u001b[1;32m    117\u001b[0m \u001b[0;34m\u001b[0m\u001b[0m\n\u001b[1;32m    118\u001b[0m     \u001b[0;32mdef\u001b[0m \u001b[0mextra_repr\u001b[0m\u001b[0;34m(\u001b[0m\u001b[0mself\u001b[0m\u001b[0;34m)\u001b[0m \u001b[0;34m->\u001b[0m \u001b[0mstr\u001b[0m\u001b[0;34m:\u001b[0m\u001b[0;34m\u001b[0m\u001b[0;34m\u001b[0m\u001b[0m\n",
            "\u001b[0;31mRuntimeError\u001b[0m: CUDA error: CUBLAS_STATUS_EXECUTION_FAILED when calling cublasLtMatmul with transpose_mat1 1 transpose_mat2 0 m 400 n 128 k 100 mat1_ld 100 mat2_ld 100 result_ld 400 abcType 0 computeType 68 scaleType 0"
          ]
        }
      ],
      "source": [
        "for epoch in range(n_epoch):\n",
        "    train_loss = train_epoch(epoch, model, criterion, optimizer, train_loader, CLIP)\n",
        "    valid_loss = eval_epoch(model, test_loader, criterion)\n",
        "\n",
        "    if valid_loss < best_valid_loss:\n",
        "        best_valid_loss = valid_loss\n",
        "        torch.save(model.state_dict(), 'model.pt')\n",
        "\n",
        "    print(f'Epoch: {epoch+1:02} | Train Loss: {train_loss:.3f} | Val. Loss: {valid_loss:.3f}')"
      ]
    },
    {
      "cell_type": "markdown",
      "metadata": {
        "id": "F5fSkglpKriC"
      },
      "source": [
        "### 2-11 Model Inference\n",
        "학습된 모델로 직접 리뷰를 몇개 작성해보고 해당 리뷰의 감성을 분석해봅시다. 여기서는 아주 간단하게 모델이 예측한 값이 0.5 이하(0에 가까우면)일 때 부정, 이상(1에 가까우면)일 때 긍정으로 판단하겠습니다.\n",
        "\n",
        "당연히 모델 성능에 따라 다 맞추지는 못할 것입니다. 비교적 쉬운 문장으로 테스트 해주시면 좋을 것 같고 이 부분이 과제의 마지막 부분입니다! 본인의 예시를 5가지정도(더 많으면 좋아요) 만들어서 모델이 잘 예측하는지 확인해주세요."
      ]
    },
    {
      "cell_type": "code",
      "execution_count": 21,
      "metadata": {
        "id": "ZWXV_5wS_OGb"
      },
      "outputs": [],
      "source": [
        "def inference(input) :\n",
        "  sen = [vocab.piece_to_id(p) for p in input]\n",
        "\n",
        "  input = torch.Tensor(sen).long()\n",
        "  input = input.reshape(1, -1).to(device)\n",
        "\n",
        "  # 학습을 하지 않은 경우 저장된 model.pt가 없기 때문에 아래 코드를 주석처리해주셔야 합니다.\n",
        "  #model.load_state_dict(torch.load('model.pt'))\n",
        "\n",
        "  output = model(input)\n",
        "  if output < 0.5:\n",
        "    sentiment = '부정'\n",
        "  else:\n",
        "    sentiment = '긍정'\n",
        "  return sentiment"
      ]
    },
    {
      "cell_type": "code",
      "execution_count": 22,
      "metadata": {
        "id": "R2LrPHMf_Na-",
        "colab": {
          "base_uri": "https://localhost:8080/",
          "height": 382
        },
        "outputId": "2cf64bb1-74ec-4b7c-8bd7-ab12642b6c8f"
      },
      "outputs": [
        {
          "output_type": "error",
          "ename": "RuntimeError",
          "evalue": "CUDA error: device-side assert triggered\nCUDA kernel errors might be asynchronously reported at some other API call, so the stacktrace below might be incorrect.\nFor debugging consider passing CUDA_LAUNCH_BLOCKING=1.\nCompile with `TORCH_USE_CUDA_DSA` to enable device-side assertions.\n",
          "traceback": [
            "\u001b[0;31m---------------------------------------------------------------------------\u001b[0m",
            "\u001b[0;31mRuntimeError\u001b[0m                              Traceback (most recent call last)",
            "\u001b[0;32m<ipython-input-22-a35ce5ace5e0>\u001b[0m in \u001b[0;36m<cell line: 5>\u001b[0;34m()\u001b[0m\n\u001b[1;32m      4\u001b[0m \u001b[0;34m\u001b[0m\u001b[0m\n\u001b[1;32m      5\u001b[0m \u001b[0;32mfor\u001b[0m \u001b[0msentence\u001b[0m \u001b[0;32min\u001b[0m \u001b[0myour_example\u001b[0m\u001b[0;34m:\u001b[0m\u001b[0;34m\u001b[0m\u001b[0;34m\u001b[0m\u001b[0m\n\u001b[0;32m----> 6\u001b[0;31m   \u001b[0moutput\u001b[0m \u001b[0;34m=\u001b[0m \u001b[0minference\u001b[0m\u001b[0;34m(\u001b[0m\u001b[0msentence\u001b[0m\u001b[0;34m)\u001b[0m\u001b[0;34m\u001b[0m\u001b[0;34m\u001b[0m\u001b[0m\n\u001b[0m\u001b[1;32m      7\u001b[0m   \u001b[0mprint\u001b[0m\u001b[0;34m(\u001b[0m\u001b[0;34mf\"리뷰 \\\"{sentence}\\\"에 대한 감성은 <{output}>입니다.\"\u001b[0m\u001b[0;34m)\u001b[0m\u001b[0;34m\u001b[0m\u001b[0;34m\u001b[0m\u001b[0m\n",
            "\u001b[0;32m<ipython-input-21-3ce0abc58f4c>\u001b[0m in \u001b[0;36minference\u001b[0;34m(input)\u001b[0m\n\u001b[1;32m      3\u001b[0m \u001b[0;34m\u001b[0m\u001b[0m\n\u001b[1;32m      4\u001b[0m   \u001b[0minput\u001b[0m \u001b[0;34m=\u001b[0m \u001b[0mtorch\u001b[0m\u001b[0;34m.\u001b[0m\u001b[0mTensor\u001b[0m\u001b[0;34m(\u001b[0m\u001b[0msen\u001b[0m\u001b[0;34m)\u001b[0m\u001b[0;34m.\u001b[0m\u001b[0mlong\u001b[0m\u001b[0;34m(\u001b[0m\u001b[0;34m)\u001b[0m\u001b[0;34m\u001b[0m\u001b[0;34m\u001b[0m\u001b[0m\n\u001b[0;32m----> 5\u001b[0;31m   \u001b[0minput\u001b[0m \u001b[0;34m=\u001b[0m \u001b[0minput\u001b[0m\u001b[0;34m.\u001b[0m\u001b[0mreshape\u001b[0m\u001b[0;34m(\u001b[0m\u001b[0;36m1\u001b[0m\u001b[0;34m,\u001b[0m \u001b[0;34m-\u001b[0m\u001b[0;36m1\u001b[0m\u001b[0;34m)\u001b[0m\u001b[0;34m.\u001b[0m\u001b[0mto\u001b[0m\u001b[0;34m(\u001b[0m\u001b[0mdevice\u001b[0m\u001b[0;34m)\u001b[0m\u001b[0;34m\u001b[0m\u001b[0;34m\u001b[0m\u001b[0m\n\u001b[0m\u001b[1;32m      6\u001b[0m \u001b[0;34m\u001b[0m\u001b[0m\n\u001b[1;32m      7\u001b[0m   \u001b[0;31m# 학습을 하지 않은 경우 저장된 model.pt가 없기 때문에 아래 코드를 주석처리해주셔야 합니다.\u001b[0m\u001b[0;34m\u001b[0m\u001b[0;34m\u001b[0m\u001b[0m\n",
            "\u001b[0;31mRuntimeError\u001b[0m: CUDA error: device-side assert triggered\nCUDA kernel errors might be asynchronously reported at some other API call, so the stacktrace below might be incorrect.\nFor debugging consider passing CUDA_LAUNCH_BLOCKING=1.\nCompile with `TORCH_USE_CUDA_DSA` to enable device-side assertions.\n"
          ]
        }
      ],
      "source": [
        "# 직접 본인만의 예시를 넣어서 inference 해주세요!\n",
        "your_example= ['좋아요']\n",
        "#your_example = [\"ADHD가 있거나 지능이 낮은 사람은 긴 러닝타임을 버티기 힘드니 예매 취소를 권장함\", \" 왜 눈물이 나지걘적으로 놀란 감독 잭품 중 최고\", \"웨이드 너무 취향저격 존귀탱ㅠㅜ 믿고 보는 픽사 디테일 쩔고 비주얼 미쳤음\", \"안보는걸 추천합니다 보다 속터져 죽습니다\", \"밀수 당했다 티켓 표값을\"]\n",
        "\n",
        "for sentence in your_example:\n",
        "  output = inference(sentence)\n",
        "  print(f\"리뷰 \\\"{sentence}\\\"에 대한 감성은 <{output}>입니다.\")"
      ]
    },
    {
      "cell_type": "markdown",
      "metadata": {
        "id": "gpm7EmIA_sv-"
      },
      "source": [
        "## 3. Conclusion\n",
        "지금까지 ResNet과 LSTM 형태를 가장 간단하게 활용할 수 있는 과제를 직접 구현해보았습니다. 두 모델을 구현하고 모델을 학습하고, 그리고 추론까지 해보는 과정을 겪었는데 전반적인 과정에 대해서 간단한 소감을 작성해주세요.\n",
        "\n",
        "만약 학습했던 모델의 성능이 생각보다 좋지 않았다면, 왜 그럴지, 그렇다면 무엇을 고쳐야할지, 잘 모르겠다면 모델의 한계점 등에 대해서 자유롭게 작성해 주세요.\n",
        "\n",
        "(모델이 잘 작동하지 못하는 이유에는 정답이 없습니다. 따라서 너무 어렵게 생각하지는 말아주세요! )"
      ]
    },
    {
      "cell_type": "markdown",
      "metadata": {
        "id": "3f-qMouaAnBz"
      },
      "source": [
        "**Answer:**\n",
        "ResNet에서는 오버피팅의 문제가 있었다. 모델이 너무 복잡했던 것 같다. 그래서, 오버피팅 완화를 위해 컨볼루션 레이어 수를 줄이거나, 드롭아웃같은 기법을 활용해야 할 것이다. 개인적인 소감으로는, 레스넷 구현할 때 shape를 맞추기 위해 stride, padding을 계산하는 과정이 매우 어려웠다. 그래서 구현에 시간이 많이 들었다.\n"
      ]
    }
  ],
  "metadata": {
    "colab": {
      "provenance": [],
      "gpuType": "T4"
    },
    "kernelspec": {
      "display_name": "Python 3",
      "name": "python3"
    },
    "accelerator": "GPU",
    "widgets": {
      "application/vnd.jupyter.widget-state+json": {
        "4ed6d6041be2419f9f5c70af49dbd230": {
          "model_module": "@jupyter-widgets/controls",
          "model_name": "HBoxModel",
          "model_module_version": "1.5.0",
          "state": {
            "_dom_classes": [],
            "_model_module": "@jupyter-widgets/controls",
            "_model_module_version": "1.5.0",
            "_model_name": "HBoxModel",
            "_view_count": null,
            "_view_module": "@jupyter-widgets/controls",
            "_view_module_version": "1.5.0",
            "_view_name": "HBoxView",
            "box_style": "",
            "children": [
              "IPY_MODEL_a169e35db53c4838b90f42ba08c2064d",
              "IPY_MODEL_52a3c54ccb6c48b5aabf45032fb150ff",
              "IPY_MODEL_156fddc360d648a09cc594454eb982d5"
            ],
            "layout": "IPY_MODEL_fb61aae1401146dbad752fd2cf715f7a"
          }
        },
        "a169e35db53c4838b90f42ba08c2064d": {
          "model_module": "@jupyter-widgets/controls",
          "model_name": "HTMLModel",
          "model_module_version": "1.5.0",
          "state": {
            "_dom_classes": [],
            "_model_module": "@jupyter-widgets/controls",
            "_model_module_version": "1.5.0",
            "_model_name": "HTMLModel",
            "_view_count": null,
            "_view_module": "@jupyter-widgets/controls",
            "_view_module_version": "1.5.0",
            "_view_name": "HTMLView",
            "description": "",
            "description_tooltip": null,
            "layout": "IPY_MODEL_a43c48c0853a487e84bc795ec316df0e",
            "placeholder": "​",
            "style": "IPY_MODEL_9d084dfce3074f99afc09cf76d4c52cf",
            "value": "Train 0:   0%"
          }
        },
        "52a3c54ccb6c48b5aabf45032fb150ff": {
          "model_module": "@jupyter-widgets/controls",
          "model_name": "FloatProgressModel",
          "model_module_version": "1.5.0",
          "state": {
            "_dom_classes": [],
            "_model_module": "@jupyter-widgets/controls",
            "_model_module_version": "1.5.0",
            "_model_name": "FloatProgressModel",
            "_view_count": null,
            "_view_module": "@jupyter-widgets/controls",
            "_view_module_version": "1.5.0",
            "_view_name": "ProgressView",
            "bar_style": "danger",
            "description": "",
            "description_tooltip": null,
            "layout": "IPY_MODEL_6037d448012f4cb3aa0e5a3dd8abf7ae",
            "max": 1172,
            "min": 0,
            "orientation": "horizontal",
            "style": "IPY_MODEL_22faa47b10b74967a4ba12dc9af3c33c",
            "value": 0
          }
        },
        "156fddc360d648a09cc594454eb982d5": {
          "model_module": "@jupyter-widgets/controls",
          "model_name": "HTMLModel",
          "model_module_version": "1.5.0",
          "state": {
            "_dom_classes": [],
            "_model_module": "@jupyter-widgets/controls",
            "_model_module_version": "1.5.0",
            "_model_name": "HTMLModel",
            "_view_count": null,
            "_view_module": "@jupyter-widgets/controls",
            "_view_module_version": "1.5.0",
            "_view_name": "HTMLView",
            "description": "",
            "description_tooltip": null,
            "layout": "IPY_MODEL_de930f7bdf504fa4978d9e868f4d9f6a",
            "placeholder": "​",
            "style": "IPY_MODEL_38e1781a25084d7bb0c1b09552ebf7fa",
            "value": " 0/1172 [00:00&lt;?, ?it/s]"
          }
        },
        "fb61aae1401146dbad752fd2cf715f7a": {
          "model_module": "@jupyter-widgets/base",
          "model_name": "LayoutModel",
          "model_module_version": "1.2.0",
          "state": {
            "_model_module": "@jupyter-widgets/base",
            "_model_module_version": "1.2.0",
            "_model_name": "LayoutModel",
            "_view_count": null,
            "_view_module": "@jupyter-widgets/base",
            "_view_module_version": "1.2.0",
            "_view_name": "LayoutView",
            "align_content": null,
            "align_items": null,
            "align_self": null,
            "border": null,
            "bottom": null,
            "display": null,
            "flex": null,
            "flex_flow": null,
            "grid_area": null,
            "grid_auto_columns": null,
            "grid_auto_flow": null,
            "grid_auto_rows": null,
            "grid_column": null,
            "grid_gap": null,
            "grid_row": null,
            "grid_template_areas": null,
            "grid_template_columns": null,
            "grid_template_rows": null,
            "height": null,
            "justify_content": null,
            "justify_items": null,
            "left": null,
            "margin": null,
            "max_height": null,
            "max_width": null,
            "min_height": null,
            "min_width": null,
            "object_fit": null,
            "object_position": null,
            "order": null,
            "overflow": null,
            "overflow_x": null,
            "overflow_y": null,
            "padding": null,
            "right": null,
            "top": null,
            "visibility": null,
            "width": null
          }
        },
        "a43c48c0853a487e84bc795ec316df0e": {
          "model_module": "@jupyter-widgets/base",
          "model_name": "LayoutModel",
          "model_module_version": "1.2.0",
          "state": {
            "_model_module": "@jupyter-widgets/base",
            "_model_module_version": "1.2.0",
            "_model_name": "LayoutModel",
            "_view_count": null,
            "_view_module": "@jupyter-widgets/base",
            "_view_module_version": "1.2.0",
            "_view_name": "LayoutView",
            "align_content": null,
            "align_items": null,
            "align_self": null,
            "border": null,
            "bottom": null,
            "display": null,
            "flex": null,
            "flex_flow": null,
            "grid_area": null,
            "grid_auto_columns": null,
            "grid_auto_flow": null,
            "grid_auto_rows": null,
            "grid_column": null,
            "grid_gap": null,
            "grid_row": null,
            "grid_template_areas": null,
            "grid_template_columns": null,
            "grid_template_rows": null,
            "height": null,
            "justify_content": null,
            "justify_items": null,
            "left": null,
            "margin": null,
            "max_height": null,
            "max_width": null,
            "min_height": null,
            "min_width": null,
            "object_fit": null,
            "object_position": null,
            "order": null,
            "overflow": null,
            "overflow_x": null,
            "overflow_y": null,
            "padding": null,
            "right": null,
            "top": null,
            "visibility": null,
            "width": null
          }
        },
        "9d084dfce3074f99afc09cf76d4c52cf": {
          "model_module": "@jupyter-widgets/controls",
          "model_name": "DescriptionStyleModel",
          "model_module_version": "1.5.0",
          "state": {
            "_model_module": "@jupyter-widgets/controls",
            "_model_module_version": "1.5.0",
            "_model_name": "DescriptionStyleModel",
            "_view_count": null,
            "_view_module": "@jupyter-widgets/base",
            "_view_module_version": "1.2.0",
            "_view_name": "StyleView",
            "description_width": ""
          }
        },
        "6037d448012f4cb3aa0e5a3dd8abf7ae": {
          "model_module": "@jupyter-widgets/base",
          "model_name": "LayoutModel",
          "model_module_version": "1.2.0",
          "state": {
            "_model_module": "@jupyter-widgets/base",
            "_model_module_version": "1.2.0",
            "_model_name": "LayoutModel",
            "_view_count": null,
            "_view_module": "@jupyter-widgets/base",
            "_view_module_version": "1.2.0",
            "_view_name": "LayoutView",
            "align_content": null,
            "align_items": null,
            "align_self": null,
            "border": null,
            "bottom": null,
            "display": null,
            "flex": null,
            "flex_flow": null,
            "grid_area": null,
            "grid_auto_columns": null,
            "grid_auto_flow": null,
            "grid_auto_rows": null,
            "grid_column": null,
            "grid_gap": null,
            "grid_row": null,
            "grid_template_areas": null,
            "grid_template_columns": null,
            "grid_template_rows": null,
            "height": null,
            "justify_content": null,
            "justify_items": null,
            "left": null,
            "margin": null,
            "max_height": null,
            "max_width": null,
            "min_height": null,
            "min_width": null,
            "object_fit": null,
            "object_position": null,
            "order": null,
            "overflow": null,
            "overflow_x": null,
            "overflow_y": null,
            "padding": null,
            "right": null,
            "top": null,
            "visibility": null,
            "width": null
          }
        },
        "22faa47b10b74967a4ba12dc9af3c33c": {
          "model_module": "@jupyter-widgets/controls",
          "model_name": "ProgressStyleModel",
          "model_module_version": "1.5.0",
          "state": {
            "_model_module": "@jupyter-widgets/controls",
            "_model_module_version": "1.5.0",
            "_model_name": "ProgressStyleModel",
            "_view_count": null,
            "_view_module": "@jupyter-widgets/base",
            "_view_module_version": "1.2.0",
            "_view_name": "StyleView",
            "bar_color": null,
            "description_width": ""
          }
        },
        "de930f7bdf504fa4978d9e868f4d9f6a": {
          "model_module": "@jupyter-widgets/base",
          "model_name": "LayoutModel",
          "model_module_version": "1.2.0",
          "state": {
            "_model_module": "@jupyter-widgets/base",
            "_model_module_version": "1.2.0",
            "_model_name": "LayoutModel",
            "_view_count": null,
            "_view_module": "@jupyter-widgets/base",
            "_view_module_version": "1.2.0",
            "_view_name": "LayoutView",
            "align_content": null,
            "align_items": null,
            "align_self": null,
            "border": null,
            "bottom": null,
            "display": null,
            "flex": null,
            "flex_flow": null,
            "grid_area": null,
            "grid_auto_columns": null,
            "grid_auto_flow": null,
            "grid_auto_rows": null,
            "grid_column": null,
            "grid_gap": null,
            "grid_row": null,
            "grid_template_areas": null,
            "grid_template_columns": null,
            "grid_template_rows": null,
            "height": null,
            "justify_content": null,
            "justify_items": null,
            "left": null,
            "margin": null,
            "max_height": null,
            "max_width": null,
            "min_height": null,
            "min_width": null,
            "object_fit": null,
            "object_position": null,
            "order": null,
            "overflow": null,
            "overflow_x": null,
            "overflow_y": null,
            "padding": null,
            "right": null,
            "top": null,
            "visibility": null,
            "width": null
          }
        },
        "38e1781a25084d7bb0c1b09552ebf7fa": {
          "model_module": "@jupyter-widgets/controls",
          "model_name": "DescriptionStyleModel",
          "model_module_version": "1.5.0",
          "state": {
            "_model_module": "@jupyter-widgets/controls",
            "_model_module_version": "1.5.0",
            "_model_name": "DescriptionStyleModel",
            "_view_count": null,
            "_view_module": "@jupyter-widgets/base",
            "_view_module_version": "1.2.0",
            "_view_name": "StyleView",
            "description_width": ""
          }
        }
      }
    }
  },
  "nbformat": 4,
  "nbformat_minor": 0
}